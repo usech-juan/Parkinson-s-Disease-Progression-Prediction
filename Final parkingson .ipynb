{
 "cells": [
  {
   "cell_type": "markdown",
   "id": "d8806314",
   "metadata": {},
   "source": [
    "### 1- Importing Libraries"
   ]
  },
  {
   "cell_type": "code",
   "execution_count": 2,
   "id": "458cfae3",
   "metadata": {},
   "outputs": [
    {
     "name": "stderr",
     "output_type": "stream",
     "text": [
      "c:\\ProgramData\\Anaconda3\\lib\\site-packages\\scipy\\__init__.py:155: UserWarning: A NumPy version >=1.18.5 and <1.25.0 is required for this version of SciPy (detected version 1.26.2\n",
      "  warnings.warn(f\"A NumPy version >={np_minversion} and <{np_maxversion}\"\n"
     ]
    }
   ],
   "source": [
    "import pandas as pd\n",
    "import numpy as np \n",
    "import matplotlib.pyplot as plt\n",
    "import seaborn as sns\n",
    "from scipy.stats import norm\n",
    "np.random.seed(3) \n"
   ]
  },
  {
   "cell_type": "markdown",
   "id": "a574fde4",
   "metadata": {},
   "source": [
    "###  2- Importing all files"
   ]
  },
  {
   "cell_type": "code",
   "execution_count": 3,
   "id": "bc31921a",
   "metadata": {},
   "outputs": [],
   "source": [
    "Peptides_data = pd.read_csv('train_peptides.csv')\n",
    "Proteins_data = pd.read_csv('train_proteins.csv')\n",
    "supplemental_clinical_data = pd.read_csv('supplemental_clinical_data.csv')\n",
    "train_clinical_data = pd.read_csv('train_clinical_data.csv')\n"
   ]
  },
  {
   "cell_type": "markdown",
   "id": "1fd74bff",
   "metadata": {},
   "source": [
    "### 3- Discovering and cleaning Train Clinical Data "
   ]
  },
  {
   "cell_type": "code",
   "execution_count": 4,
   "id": "ce97385f",
   "metadata": {},
   "outputs": [
    {
     "data": {
      "text/html": [
       "<div>\n",
       "<style scoped>\n",
       "    .dataframe tbody tr th:only-of-type {\n",
       "        vertical-align: middle;\n",
       "    }\n",
       "\n",
       "    .dataframe tbody tr th {\n",
       "        vertical-align: top;\n",
       "    }\n",
       "\n",
       "    .dataframe thead th {\n",
       "        text-align: right;\n",
       "    }\n",
       "</style>\n",
       "<table border=\"1\" class=\"dataframe\">\n",
       "  <thead>\n",
       "    <tr style=\"text-align: right;\">\n",
       "      <th></th>\n",
       "      <th>visit_id</th>\n",
       "      <th>patient_id</th>\n",
       "      <th>visit_month</th>\n",
       "      <th>updrs_1</th>\n",
       "      <th>updrs_2</th>\n",
       "      <th>updrs_3</th>\n",
       "      <th>updrs_4</th>\n",
       "      <th>upd23b_clinical_state_on_medication</th>\n",
       "    </tr>\n",
       "  </thead>\n",
       "  <tbody>\n",
       "    <tr>\n",
       "      <th>0</th>\n",
       "      <td>55_0</td>\n",
       "      <td>55</td>\n",
       "      <td>0</td>\n",
       "      <td>10.0</td>\n",
       "      <td>6.0</td>\n",
       "      <td>15.0</td>\n",
       "      <td>NaN</td>\n",
       "      <td>NaN</td>\n",
       "    </tr>\n",
       "    <tr>\n",
       "      <th>1</th>\n",
       "      <td>55_3</td>\n",
       "      <td>55</td>\n",
       "      <td>3</td>\n",
       "      <td>10.0</td>\n",
       "      <td>7.0</td>\n",
       "      <td>25.0</td>\n",
       "      <td>NaN</td>\n",
       "      <td>NaN</td>\n",
       "    </tr>\n",
       "    <tr>\n",
       "      <th>2</th>\n",
       "      <td>55_6</td>\n",
       "      <td>55</td>\n",
       "      <td>6</td>\n",
       "      <td>8.0</td>\n",
       "      <td>10.0</td>\n",
       "      <td>34.0</td>\n",
       "      <td>NaN</td>\n",
       "      <td>NaN</td>\n",
       "    </tr>\n",
       "    <tr>\n",
       "      <th>3</th>\n",
       "      <td>55_9</td>\n",
       "      <td>55</td>\n",
       "      <td>9</td>\n",
       "      <td>8.0</td>\n",
       "      <td>9.0</td>\n",
       "      <td>30.0</td>\n",
       "      <td>0.0</td>\n",
       "      <td>On</td>\n",
       "    </tr>\n",
       "    <tr>\n",
       "      <th>4</th>\n",
       "      <td>55_12</td>\n",
       "      <td>55</td>\n",
       "      <td>12</td>\n",
       "      <td>10.0</td>\n",
       "      <td>10.0</td>\n",
       "      <td>41.0</td>\n",
       "      <td>0.0</td>\n",
       "      <td>On</td>\n",
       "    </tr>\n",
       "  </tbody>\n",
       "</table>\n",
       "</div>"
      ],
      "text/plain": [
       "  visit_id  patient_id  visit_month  updrs_1  updrs_2  updrs_3  updrs_4  \\\n",
       "0     55_0          55            0     10.0      6.0     15.0      NaN   \n",
       "1     55_3          55            3     10.0      7.0     25.0      NaN   \n",
       "2     55_6          55            6      8.0     10.0     34.0      NaN   \n",
       "3     55_9          55            9      8.0      9.0     30.0      0.0   \n",
       "4    55_12          55           12     10.0     10.0     41.0      0.0   \n",
       "\n",
       "  upd23b_clinical_state_on_medication  \n",
       "0                                 NaN  \n",
       "1                                 NaN  \n",
       "2                                 NaN  \n",
       "3                                  On  \n",
       "4                                  On  "
      ]
     },
     "execution_count": 4,
     "metadata": {},
     "output_type": "execute_result"
    }
   ],
   "source": [
    "train_clinical_data.head()\n"
   ]
  },
  {
   "cell_type": "code",
   "execution_count": 5,
   "id": "5e38bc71",
   "metadata": {},
   "outputs": [
    {
     "data": {
      "text/plain": [
       "visit_id                                  0\n",
       "patient_id                                0\n",
       "visit_month                               0\n",
       "updrs_1                                   1\n",
       "updrs_2                                   2\n",
       "updrs_3                                  25\n",
       "updrs_4                                1038\n",
       "upd23b_clinical_state_on_medication    1327\n",
       "dtype: int64"
      ]
     },
     "execution_count": 5,
     "metadata": {},
     "output_type": "execute_result"
    }
   ],
   "source": [
    "train_clinical_data.isnull().sum()\n"
   ]
  },
  {
   "cell_type": "code",
   "execution_count": 6,
   "id": "035cfa82",
   "metadata": {},
   "outputs": [
    {
     "data": {
      "text/plain": [
       "(2615, 8)"
      ]
     },
     "execution_count": 6,
     "metadata": {},
     "output_type": "execute_result"
    }
   ],
   "source": [
    "train_clinical_data.shape"
   ]
  },
  {
   "cell_type": "markdown",
   "id": "89fff38f",
   "metadata": {},
   "source": [
    "Filling missing values in the updrs_1, updrs_2, and updrs_3 columns involved a process that ensured accurate imputation while considering each patient's data sequence. The function fill_missing_updrs123() was created to systematically handle missing values within patient groups. This function first performed forward-fill and backward-fill operations within each patient's data to replace missing values with the nearest available measurements before and after. By incorporating this function for each UPDRS column, we were able to maintain data integrity by utilizing the available information while accounting for temporal sequencing within patients' visits. The temporary columns created during this process were then dropped to maintain the cleanliness and organization of the data. However a different approach would be implemented for updrs_4"
   ]
  },
  {
   "cell_type": "code",
   "execution_count": 7,
   "id": "87a8e24d",
   "metadata": {},
   "outputs": [],
   "source": [
    "\n",
    "\n",
    "def fill_missing_updrs_123(data, updrs_column):\n",
    "    # Create a temporary filled column within each patient group\n",
    "    filled_column = f'{updrs_column}_filled'\n",
    "    data[filled_column] = data.groupby('patient_id')[updrs_column].ffill()\n",
    "    data[filled_column] = data.groupby('patient_id')[filled_column].bfill()\n",
    "    data[updrs_column] = data[updrs_column].fillna(data[filled_column])\n",
    "    \n",
    "    # Dropping the temporary filled column\n",
    "    data.drop(columns=filled_column, inplace=True)\n",
    "    return data\n",
    "\n",
    "# Filling missing values for UPDRS_1\n",
    "train_clinical_data = fill_missing_updrs_123(train_clinical_data, 'updrs_1')\n",
    "\n",
    "# Filling missing values for UPDRS_2\n",
    "train_clinical_data = fill_missing_updrs_123(train_clinical_data, 'updrs_2')\n",
    "\n",
    "# Filling missing values for UPDRS_3\n",
    "train_clinical_data = fill_missing_updrs_123(train_clinical_data, 'updrs_3')\n"
   ]
  },
  {
   "cell_type": "code",
   "execution_count": 8,
   "id": "2b067e97",
   "metadata": {},
   "outputs": [
    {
     "data": {
      "text/plain": [
       "visit_id                                  0\n",
       "patient_id                                0\n",
       "visit_month                               0\n",
       "updrs_1                                   0\n",
       "updrs_2                                   0\n",
       "updrs_3                                   0\n",
       "updrs_4                                1038\n",
       "upd23b_clinical_state_on_medication    1327\n",
       "dtype: int64"
      ]
     },
     "execution_count": 8,
     "metadata": {},
     "output_type": "execute_result"
    }
   ],
   "source": [
    "train_clinical_data.isnull().sum()"
   ]
  },
  {
   "cell_type": "markdown",
   "id": "36f5b848",
   "metadata": {},
   "source": [
    "###### In addressing missing values within the updrs_4 column, a two-fold strategy was implemented. First, a binary indicator column, 'updrs_4_missing', was created to distinctly mark the initially missing values. This indicator serves as a valuable flag, indicating whether the patient's updrs_4 level was genuinely absent or started as 0. Subsequently, the missing values in updrs_4 were replaced with zeros. Even in cases where a patient's updrs_4 level might be naturally 0, the 'updrs_4_missing' column distinguishes between inherent zero levels and missing data. This dual approach not only addresses the missing values but also acknowledges both inherent zero levels and absent measurements."
   ]
  },
  {
   "cell_type": "code",
   "execution_count": 9,
   "id": "d4ba64be",
   "metadata": {},
   "outputs": [],
   "source": [
    "\n",
    "# Creating a binary indicator column for missing UPDRS_4 values\n",
    "train_clinical_data['updrs_4_missing'] = train_clinical_data['updrs_4'].isnull().astype(int)\n",
    "\n",
    "# Filling missing values in UPDRS_4 with zeros\n",
    "train_clinical_data['updrs_4'] = train_clinical_data['updrs_4'].fillna(0)\n"
   ]
  },
  {
   "cell_type": "code",
   "execution_count": 10,
   "id": "013c2187",
   "metadata": {},
   "outputs": [],
   "source": [
    " train_clinical_data['clinical_state_on_medication'] =  train_clinical_data['upd23b_clinical_state_on_medication']"
   ]
  },
  {
   "cell_type": "code",
   "execution_count": 11,
   "id": "19bcb2d5",
   "metadata": {},
   "outputs": [],
   "source": [
    "\n",
    "mode_per_patient = train_clinical_data.groupby('patient_id')['clinical_state_on_medication'].apply(lambda x: x.mode().iloc[0] if not x.mode().empty else None).reset_index()\n",
    "\n",
    "# Merging the mode values back to the original dataframe\n",
    "train_clinical_data = pd.merge(train_clinical_data, mode_per_patient, on='patient_id', how='left', suffixes=('', '_mode'))\n",
    "\n",
    "# Filling missing values in 'clinical_state_on_medication' with the calculated modes\n",
    "train_clinical_data['clinical_state_on_medication'] = train_clinical_data['clinical_state_on_medication'].fillna(train_clinical_data['clinical_state_on_medication_mode'])\n",
    "\n",
    "# Dropping the temporary mode column\n",
    "train_clinical_data.drop(columns='clinical_state_on_medication_mode', inplace=True)\n"
   ]
  },
  {
   "cell_type": "code",
   "execution_count": 12,
   "id": "34495aa4",
   "metadata": {
    "scrolled": true
   },
   "outputs": [],
   "source": [
    "del(train_clinical_data[\"upd23b_clinical_state_on_medication\"])"
   ]
  },
  {
   "cell_type": "code",
   "execution_count": 13,
   "id": "5cb55d59",
   "metadata": {
    "scrolled": true
   },
   "outputs": [
    {
     "data": {
      "text/plain": [
       "visit_id                          0\n",
       "patient_id                        0\n",
       "visit_month                       0\n",
       "updrs_1                           0\n",
       "updrs_2                           0\n",
       "updrs_3                           0\n",
       "updrs_4                           0\n",
       "updrs_4_missing                   0\n",
       "clinical_state_on_medication    732\n",
       "dtype: int64"
      ]
     },
     "execution_count": 13,
     "metadata": {},
     "output_type": "execute_result"
    }
   ],
   "source": [
    "train_clinical_data.isnull().sum()"
   ]
  },
  {
   "cell_type": "markdown",
   "id": "7618e25b",
   "metadata": {},
   "source": [
    "###### filling missing values with 'unknown'"
   ]
  },
  {
   "cell_type": "code",
   "execution_count": 14,
   "id": "dc1af9f0",
   "metadata": {},
   "outputs": [],
   "source": [
    "train_clinical_data['clinical_state_on_medication'].fillna('Unknown', inplace=True)\n"
   ]
  },
  {
   "cell_type": "code",
   "execution_count": 15,
   "id": "ef6379c7",
   "metadata": {
    "scrolled": true
   },
   "outputs": [
    {
     "data": {
      "text/plain": [
       "visit_id                        0\n",
       "patient_id                      0\n",
       "visit_month                     0\n",
       "updrs_1                         0\n",
       "updrs_2                         0\n",
       "updrs_3                         0\n",
       "updrs_4                         0\n",
       "updrs_4_missing                 0\n",
       "clinical_state_on_medication    0\n",
       "dtype: int64"
      ]
     },
     "execution_count": 15,
     "metadata": {},
     "output_type": "execute_result"
    }
   ],
   "source": [
    "train_clinical_data.isna().sum()"
   ]
  },
  {
   "cell_type": "code",
   "execution_count": 16,
   "id": "41ef7d98",
   "metadata": {
    "scrolled": true
   },
   "outputs": [
    {
     "data": {
      "text/plain": [
       "(2615, 9)"
      ]
     },
     "execution_count": 16,
     "metadata": {},
     "output_type": "execute_result"
    }
   ],
   "source": [
    "train_clinical_data.shape"
   ]
  },
  {
   "cell_type": "code",
   "execution_count": 17,
   "id": "ef4d2222",
   "metadata": {},
   "outputs": [
    {
     "data": {
      "text/html": [
       "<div>\n",
       "<style scoped>\n",
       "    .dataframe tbody tr th:only-of-type {\n",
       "        vertical-align: middle;\n",
       "    }\n",
       "\n",
       "    .dataframe tbody tr th {\n",
       "        vertical-align: top;\n",
       "    }\n",
       "\n",
       "    .dataframe thead th {\n",
       "        text-align: right;\n",
       "    }\n",
       "</style>\n",
       "<table border=\"1\" class=\"dataframe\">\n",
       "  <thead>\n",
       "    <tr style=\"text-align: right;\">\n",
       "      <th></th>\n",
       "      <th>visit_id</th>\n",
       "      <th>patient_id</th>\n",
       "      <th>visit_month</th>\n",
       "      <th>updrs_1</th>\n",
       "      <th>updrs_2</th>\n",
       "      <th>updrs_3</th>\n",
       "      <th>updrs_4</th>\n",
       "      <th>updrs_4_missing</th>\n",
       "      <th>clinical_state_on_medication</th>\n",
       "    </tr>\n",
       "  </thead>\n",
       "  <tbody>\n",
       "    <tr>\n",
       "      <th>0</th>\n",
       "      <td>55_0</td>\n",
       "      <td>55</td>\n",
       "      <td>0</td>\n",
       "      <td>10.0</td>\n",
       "      <td>6.0</td>\n",
       "      <td>15.0</td>\n",
       "      <td>0.0</td>\n",
       "      <td>1</td>\n",
       "      <td>On</td>\n",
       "    </tr>\n",
       "    <tr>\n",
       "      <th>1</th>\n",
       "      <td>55_3</td>\n",
       "      <td>55</td>\n",
       "      <td>3</td>\n",
       "      <td>10.0</td>\n",
       "      <td>7.0</td>\n",
       "      <td>25.0</td>\n",
       "      <td>0.0</td>\n",
       "      <td>1</td>\n",
       "      <td>On</td>\n",
       "    </tr>\n",
       "    <tr>\n",
       "      <th>2</th>\n",
       "      <td>55_6</td>\n",
       "      <td>55</td>\n",
       "      <td>6</td>\n",
       "      <td>8.0</td>\n",
       "      <td>10.0</td>\n",
       "      <td>34.0</td>\n",
       "      <td>0.0</td>\n",
       "      <td>1</td>\n",
       "      <td>On</td>\n",
       "    </tr>\n",
       "    <tr>\n",
       "      <th>3</th>\n",
       "      <td>55_9</td>\n",
       "      <td>55</td>\n",
       "      <td>9</td>\n",
       "      <td>8.0</td>\n",
       "      <td>9.0</td>\n",
       "      <td>30.0</td>\n",
       "      <td>0.0</td>\n",
       "      <td>0</td>\n",
       "      <td>On</td>\n",
       "    </tr>\n",
       "    <tr>\n",
       "      <th>4</th>\n",
       "      <td>55_12</td>\n",
       "      <td>55</td>\n",
       "      <td>12</td>\n",
       "      <td>10.0</td>\n",
       "      <td>10.0</td>\n",
       "      <td>41.0</td>\n",
       "      <td>0.0</td>\n",
       "      <td>0</td>\n",
       "      <td>On</td>\n",
       "    </tr>\n",
       "  </tbody>\n",
       "</table>\n",
       "</div>"
      ],
      "text/plain": [
       "  visit_id  patient_id  visit_month  updrs_1  updrs_2  updrs_3  updrs_4  \\\n",
       "0     55_0          55            0     10.0      6.0     15.0      0.0   \n",
       "1     55_3          55            3     10.0      7.0     25.0      0.0   \n",
       "2     55_6          55            6      8.0     10.0     34.0      0.0   \n",
       "3     55_9          55            9      8.0      9.0     30.0      0.0   \n",
       "4    55_12          55           12     10.0     10.0     41.0      0.0   \n",
       "\n",
       "   updrs_4_missing clinical_state_on_medication  \n",
       "0                1                           On  \n",
       "1                1                           On  \n",
       "2                1                           On  \n",
       "3                0                           On  \n",
       "4                0                           On  "
      ]
     },
     "execution_count": 17,
     "metadata": {},
     "output_type": "execute_result"
    }
   ],
   "source": [
    "train_clinical_data.head()"
   ]
  },
  {
   "cell_type": "markdown",
   "id": "b8ab497b",
   "metadata": {},
   "source": [
    "### 4- Discovering and cleaning Supplemental Clinical Data "
   ]
  },
  {
   "cell_type": "markdown",
   "id": "200d750c",
   "metadata": {},
   "source": [
    "######  supplemental_clinical_data is same as train_clinical_data so we will be foolowing the same claning strategy before we merge them into one data frame"
   ]
  },
  {
   "cell_type": "code",
   "execution_count": 18,
   "id": "3ba1394b",
   "metadata": {
    "scrolled": true
   },
   "outputs": [
    {
     "data": {
      "text/html": [
       "<div>\n",
       "<style scoped>\n",
       "    .dataframe tbody tr th:only-of-type {\n",
       "        vertical-align: middle;\n",
       "    }\n",
       "\n",
       "    .dataframe tbody tr th {\n",
       "        vertical-align: top;\n",
       "    }\n",
       "\n",
       "    .dataframe thead th {\n",
       "        text-align: right;\n",
       "    }\n",
       "</style>\n",
       "<table border=\"1\" class=\"dataframe\">\n",
       "  <thead>\n",
       "    <tr style=\"text-align: right;\">\n",
       "      <th></th>\n",
       "      <th>visit_id</th>\n",
       "      <th>patient_id</th>\n",
       "      <th>visit_month</th>\n",
       "      <th>updrs_1</th>\n",
       "      <th>updrs_2</th>\n",
       "      <th>updrs_3</th>\n",
       "      <th>updrs_4</th>\n",
       "      <th>upd23b_clinical_state_on_medication</th>\n",
       "    </tr>\n",
       "  </thead>\n",
       "  <tbody>\n",
       "    <tr>\n",
       "      <th>0</th>\n",
       "      <td>35_0</td>\n",
       "      <td>35</td>\n",
       "      <td>0</td>\n",
       "      <td>5.0</td>\n",
       "      <td>3.0</td>\n",
       "      <td>16.0</td>\n",
       "      <td>0.0</td>\n",
       "      <td>NaN</td>\n",
       "    </tr>\n",
       "    <tr>\n",
       "      <th>1</th>\n",
       "      <td>35_36</td>\n",
       "      <td>35</td>\n",
       "      <td>36</td>\n",
       "      <td>6.0</td>\n",
       "      <td>4.0</td>\n",
       "      <td>20.0</td>\n",
       "      <td>0.0</td>\n",
       "      <td>NaN</td>\n",
       "    </tr>\n",
       "    <tr>\n",
       "      <th>2</th>\n",
       "      <td>75_0</td>\n",
       "      <td>75</td>\n",
       "      <td>0</td>\n",
       "      <td>4.0</td>\n",
       "      <td>6.0</td>\n",
       "      <td>26.0</td>\n",
       "      <td>0.0</td>\n",
       "      <td>NaN</td>\n",
       "    </tr>\n",
       "    <tr>\n",
       "      <th>3</th>\n",
       "      <td>75_36</td>\n",
       "      <td>75</td>\n",
       "      <td>36</td>\n",
       "      <td>1.0</td>\n",
       "      <td>8.0</td>\n",
       "      <td>38.0</td>\n",
       "      <td>0.0</td>\n",
       "      <td>On</td>\n",
       "    </tr>\n",
       "    <tr>\n",
       "      <th>4</th>\n",
       "      <td>155_0</td>\n",
       "      <td>155</td>\n",
       "      <td>0</td>\n",
       "      <td>NaN</td>\n",
       "      <td>NaN</td>\n",
       "      <td>0.0</td>\n",
       "      <td>NaN</td>\n",
       "      <td>NaN</td>\n",
       "    </tr>\n",
       "  </tbody>\n",
       "</table>\n",
       "</div>"
      ],
      "text/plain": [
       "  visit_id  patient_id  visit_month  updrs_1  updrs_2  updrs_3  updrs_4  \\\n",
       "0     35_0          35            0      5.0      3.0     16.0      0.0   \n",
       "1    35_36          35           36      6.0      4.0     20.0      0.0   \n",
       "2     75_0          75            0      4.0      6.0     26.0      0.0   \n",
       "3    75_36          75           36      1.0      8.0     38.0      0.0   \n",
       "4    155_0         155            0      NaN      NaN      0.0      NaN   \n",
       "\n",
       "  upd23b_clinical_state_on_medication  \n",
       "0                                 NaN  \n",
       "1                                 NaN  \n",
       "2                                 NaN  \n",
       "3                                  On  \n",
       "4                                 NaN  "
      ]
     },
     "execution_count": 18,
     "metadata": {},
     "output_type": "execute_result"
    }
   ],
   "source": [
    "supplemental_clinical_data.head()\n"
   ]
  },
  {
   "cell_type": "code",
   "execution_count": 19,
   "id": "1c555a94",
   "metadata": {},
   "outputs": [
    {
     "data": {
      "text/plain": [
       "visit_id                                  0\n",
       "patient_id                                0\n",
       "visit_month                               0\n",
       "updrs_1                                 213\n",
       "updrs_2                                 214\n",
       "updrs_3                                   5\n",
       "updrs_4                                 928\n",
       "upd23b_clinical_state_on_medication    1101\n",
       "dtype: int64"
      ]
     },
     "execution_count": 19,
     "metadata": {},
     "output_type": "execute_result"
    }
   ],
   "source": [
    "supplemental_clinical_data.isnull().sum()\n"
   ]
  },
  {
   "cell_type": "code",
   "execution_count": 20,
   "id": "23d9592b",
   "metadata": {},
   "outputs": [],
   "source": [
    "\n",
    "# Filling missing values for UPDRS_1\n",
    "supplemental_clinical_data = fill_missing_updrs_123(supplemental_clinical_data, 'updrs_1')\n",
    "\n",
    "# Filling missing values for UPDRS_2\n",
    "supplemental_clinical_data = fill_missing_updrs_123(supplemental_clinical_data, 'updrs_2')\n",
    "\n",
    "# Filling missing values for UPDRS_3\n",
    "supplemental_clinical_data = fill_missing_updrs_123(supplemental_clinical_data, 'updrs_3')\n"
   ]
  },
  {
   "cell_type": "code",
   "execution_count": 21,
   "id": "513b4c4c",
   "metadata": {},
   "outputs": [
    {
     "data": {
      "text/plain": [
       "visit_id                                  0\n",
       "patient_id                                0\n",
       "visit_month                               0\n",
       "updrs_1                                  96\n",
       "updrs_2                                  96\n",
       "updrs_3                                   3\n",
       "updrs_4                                 928\n",
       "upd23b_clinical_state_on_medication    1101\n",
       "dtype: int64"
      ]
     },
     "execution_count": 21,
     "metadata": {},
     "output_type": "execute_result"
    }
   ],
   "source": [
    "supplemental_clinical_data.isna().sum()"
   ]
  },
  {
   "cell_type": "code",
   "execution_count": 22,
   "id": "50bdfbd2",
   "metadata": {},
   "outputs": [
    {
     "name": "stdout",
     "output_type": "stream",
     "text": [
      "     visit_id  patient_id  visit_month  updrs_1  updrs_2  updrs_3  updrs_4  \\\n",
      "4       155_0         155            0      NaN      NaN      0.0      NaN   \n",
      "27      889_0         889            0      NaN      NaN      0.0      NaN   \n",
      "65     1663_0        1663            0      NaN      NaN      0.0      NaN   \n",
      "85     2222_0        2222            0      NaN      NaN      0.0      NaN   \n",
      "86     2331_0        2331            0      NaN      NaN      1.0      NaN   \n",
      "...       ...         ...          ...      ...      ...      ...      ...   \n",
      "2127  63278_0       63278            0      NaN      NaN      4.0      NaN   \n",
      "2130  63335_0       63335            0      NaN      NaN      7.0      NaN   \n",
      "2136  63479_0       63479            0      NaN      NaN      6.0      NaN   \n",
      "2148  63774_0       63774            0      NaN      NaN      0.0      NaN   \n",
      "2218  65382_0       65382            0      NaN      NaN      0.0      NaN   \n",
      "\n",
      "     upd23b_clinical_state_on_medication  \n",
      "4                                    NaN  \n",
      "27                                   NaN  \n",
      "65                                   NaN  \n",
      "85                                   NaN  \n",
      "86                                   NaN  \n",
      "...                                  ...  \n",
      "2127                                 NaN  \n",
      "2130                                 NaN  \n",
      "2136                                 NaN  \n",
      "2148                                 NaN  \n",
      "2218                                 NaN  \n",
      "\n",
      "[96 rows x 8 columns]\n"
     ]
    }
   ],
   "source": [
    "# Displaying the rows with missing values in 'clinical_state_on_medication'\n",
    "missing_values_mask = supplemental_clinical_data['updrs_1'].isnull()\n",
    "rows_with_missing_values = supplemental_clinical_data[missing_values_mask]\n",
    "print(rows_with_missing_values)\n"
   ]
  },
  {
   "cell_type": "markdown",
   "id": "924dd0b3",
   "metadata": {},
   "source": [
    "###### these patients have most of their updrs level missing so it would be more accurate to just drop their correspening rows"
   ]
  },
  {
   "cell_type": "code",
   "execution_count": 23,
   "id": "6fc33600",
   "metadata": {},
   "outputs": [],
   "source": [
    "supplemental_clinical_data.dropna(subset=['updrs_1', 'updrs_2', 'updrs_3'], inplace=True)\n"
   ]
  },
  {
   "cell_type": "code",
   "execution_count": 24,
   "id": "e6f749c1",
   "metadata": {
    "scrolled": true
   },
   "outputs": [
    {
     "data": {
      "text/plain": [
       "visit_id                                  0\n",
       "patient_id                                0\n",
       "visit_month                               0\n",
       "updrs_1                                   0\n",
       "updrs_2                                   0\n",
       "updrs_3                                   0\n",
       "updrs_4                                 832\n",
       "upd23b_clinical_state_on_medication    1004\n",
       "dtype: int64"
      ]
     },
     "execution_count": 24,
     "metadata": {},
     "output_type": "execute_result"
    }
   ],
   "source": [
    "supplemental_clinical_data.isna().sum()"
   ]
  },
  {
   "cell_type": "code",
   "execution_count": 25,
   "id": "ed39b182",
   "metadata": {},
   "outputs": [],
   "source": [
    "supplemental_clinical_data['updrs_4_missing'] = supplemental_clinical_data['updrs_4'].isnull().astype(int)\n",
    "supplemental_clinical_data['updrs_4'] = supplemental_clinical_data['updrs_4'].fillna(0)"
   ]
  },
  {
   "cell_type": "code",
   "execution_count": 26,
   "id": "00eed45c",
   "metadata": {},
   "outputs": [
    {
     "data": {
      "text/plain": [
       "visit_id                                  0\n",
       "patient_id                                0\n",
       "visit_month                               0\n",
       "updrs_1                                   0\n",
       "updrs_2                                   0\n",
       "updrs_3                                   0\n",
       "updrs_4                                   0\n",
       "upd23b_clinical_state_on_medication    1004\n",
       "updrs_4_missing                           0\n",
       "dtype: int64"
      ]
     },
     "execution_count": 26,
     "metadata": {},
     "output_type": "execute_result"
    }
   ],
   "source": [
    "supplemental_clinical_data.isna().sum()"
   ]
  },
  {
   "cell_type": "code",
   "execution_count": 27,
   "id": "de0de9ed",
   "metadata": {},
   "outputs": [],
   "source": [
    "supplemental_clinical_data['clinical_state_on_medication'] =  supplemental_clinical_data['upd23b_clinical_state_on_medication']"
   ]
  },
  {
   "cell_type": "code",
   "execution_count": 28,
   "id": "ca810847",
   "metadata": {},
   "outputs": [],
   "source": [
    "del(supplemental_clinical_data[\"upd23b_clinical_state_on_medication\"])"
   ]
  },
  {
   "cell_type": "code",
   "execution_count": 29,
   "id": "5cad71a0",
   "metadata": {},
   "outputs": [],
   "source": [
    "\n",
    "mode_per_patient1 = supplemental_clinical_data.groupby('patient_id')['clinical_state_on_medication'].apply(lambda x: x.mode().iloc[0] if not x.mode().empty else None).reset_index()\n",
    "\n",
    "# Merging the mode values back to the original dataframe\n",
    "supplemental_clinical_data = pd.merge(supplemental_clinical_data, mode_per_patient1, on='patient_id', how='left', suffixes=('', '_mode'))\n",
    "\n",
    "# Filling missing values in 'clinical_state_on_medication' with the calculated modes\n",
    "supplemental_clinical_data['clinical_state_on_medication'] = supplemental_clinical_data['clinical_state_on_medication'].fillna(supplemental_clinical_data['clinical_state_on_medication_mode'])\n",
    "\n",
    "# Dropping the temporary mode column\n",
    "supplemental_clinical_data.drop(columns='clinical_state_on_medication_mode', inplace=True)\n"
   ]
  },
  {
   "cell_type": "code",
   "execution_count": 30,
   "id": "0d15c862",
   "metadata": {},
   "outputs": [
    {
     "data": {
      "text/plain": [
       "visit_id                          0\n",
       "patient_id                        0\n",
       "visit_month                       0\n",
       "updrs_1                           0\n",
       "updrs_2                           0\n",
       "updrs_3                           0\n",
       "updrs_4                           0\n",
       "updrs_4_missing                   0\n",
       "clinical_state_on_medication    469\n",
       "dtype: int64"
      ]
     },
     "execution_count": 30,
     "metadata": {},
     "output_type": "execute_result"
    }
   ],
   "source": [
    "supplemental_clinical_data.isna().sum()"
   ]
  },
  {
   "cell_type": "code",
   "execution_count": 31,
   "id": "f7d1acca",
   "metadata": {},
   "outputs": [],
   "source": [
    "supplemental_clinical_data['clinical_state_on_medication'].fillna('Unknown', inplace=True)\n"
   ]
  },
  {
   "cell_type": "code",
   "execution_count": 32,
   "id": "2ca34015",
   "metadata": {},
   "outputs": [
    {
     "data": {
      "text/plain": [
       "visit_id                        0\n",
       "patient_id                      0\n",
       "visit_month                     0\n",
       "updrs_1                         0\n",
       "updrs_2                         0\n",
       "updrs_3                         0\n",
       "updrs_4                         0\n",
       "updrs_4_missing                 0\n",
       "clinical_state_on_medication    0\n",
       "dtype: int64"
      ]
     },
     "execution_count": 32,
     "metadata": {},
     "output_type": "execute_result"
    }
   ],
   "source": [
    "supplemental_clinical_data.isna().sum()"
   ]
  },
  {
   "cell_type": "code",
   "execution_count": 33,
   "id": "78c97fa5",
   "metadata": {},
   "outputs": [
    {
     "data": {
      "text/plain": [
       "(2125, 9)"
      ]
     },
     "execution_count": 33,
     "metadata": {},
     "output_type": "execute_result"
    }
   ],
   "source": [
    "supplemental_clinical_data.shape"
   ]
  },
  {
   "cell_type": "markdown",
   "id": "2000456f",
   "metadata": {},
   "source": [
    "### 5- Merging Train Clinical Data and Supplemental Clinical Data"
   ]
  },
  {
   "cell_type": "markdown",
   "id": "04505897",
   "metadata": {},
   "source": [
    "###### Here we are going to combine both of our files (train_clinical_data and suppelemental_clinical_data) into one file"
   ]
  },
  {
   "cell_type": "code",
   "execution_count": 34,
   "id": "d55f318c",
   "metadata": {
    "scrolled": true
   },
   "outputs": [],
   "source": [
    "Final_clinical_data = pd.concat([train_clinical_data, supplemental_clinical_data])\n",
    "Final_clinical_data.drop_duplicates(keep=False, inplace=True)"
   ]
  },
  {
   "cell_type": "code",
   "execution_count": 35,
   "id": "a6763bcd",
   "metadata": {},
   "outputs": [
    {
     "data": {
      "text/html": [
       "<div>\n",
       "<style scoped>\n",
       "    .dataframe tbody tr th:only-of-type {\n",
       "        vertical-align: middle;\n",
       "    }\n",
       "\n",
       "    .dataframe tbody tr th {\n",
       "        vertical-align: top;\n",
       "    }\n",
       "\n",
       "    .dataframe thead th {\n",
       "        text-align: right;\n",
       "    }\n",
       "</style>\n",
       "<table border=\"1\" class=\"dataframe\">\n",
       "  <thead>\n",
       "    <tr style=\"text-align: right;\">\n",
       "      <th></th>\n",
       "      <th>visit_id</th>\n",
       "      <th>patient_id</th>\n",
       "      <th>visit_month</th>\n",
       "      <th>updrs_1</th>\n",
       "      <th>updrs_2</th>\n",
       "      <th>updrs_3</th>\n",
       "      <th>updrs_4</th>\n",
       "      <th>updrs_4_missing</th>\n",
       "      <th>clinical_state_on_medication</th>\n",
       "    </tr>\n",
       "  </thead>\n",
       "  <tbody>\n",
       "    <tr>\n",
       "      <th>0</th>\n",
       "      <td>55_0</td>\n",
       "      <td>55</td>\n",
       "      <td>0</td>\n",
       "      <td>10.0</td>\n",
       "      <td>6.0</td>\n",
       "      <td>15.0</td>\n",
       "      <td>0.0</td>\n",
       "      <td>1</td>\n",
       "      <td>On</td>\n",
       "    </tr>\n",
       "    <tr>\n",
       "      <th>1</th>\n",
       "      <td>55_3</td>\n",
       "      <td>55</td>\n",
       "      <td>3</td>\n",
       "      <td>10.0</td>\n",
       "      <td>7.0</td>\n",
       "      <td>25.0</td>\n",
       "      <td>0.0</td>\n",
       "      <td>1</td>\n",
       "      <td>On</td>\n",
       "    </tr>\n",
       "    <tr>\n",
       "      <th>2</th>\n",
       "      <td>55_6</td>\n",
       "      <td>55</td>\n",
       "      <td>6</td>\n",
       "      <td>8.0</td>\n",
       "      <td>10.0</td>\n",
       "      <td>34.0</td>\n",
       "      <td>0.0</td>\n",
       "      <td>1</td>\n",
       "      <td>On</td>\n",
       "    </tr>\n",
       "    <tr>\n",
       "      <th>3</th>\n",
       "      <td>55_9</td>\n",
       "      <td>55</td>\n",
       "      <td>9</td>\n",
       "      <td>8.0</td>\n",
       "      <td>9.0</td>\n",
       "      <td>30.0</td>\n",
       "      <td>0.0</td>\n",
       "      <td>0</td>\n",
       "      <td>On</td>\n",
       "    </tr>\n",
       "    <tr>\n",
       "      <th>4</th>\n",
       "      <td>55_12</td>\n",
       "      <td>55</td>\n",
       "      <td>12</td>\n",
       "      <td>10.0</td>\n",
       "      <td>10.0</td>\n",
       "      <td>41.0</td>\n",
       "      <td>0.0</td>\n",
       "      <td>0</td>\n",
       "      <td>On</td>\n",
       "    </tr>\n",
       "  </tbody>\n",
       "</table>\n",
       "</div>"
      ],
      "text/plain": [
       "  visit_id  patient_id  visit_month  updrs_1  updrs_2  updrs_3  updrs_4  \\\n",
       "0     55_0          55            0     10.0      6.0     15.0      0.0   \n",
       "1     55_3          55            3     10.0      7.0     25.0      0.0   \n",
       "2     55_6          55            6      8.0     10.0     34.0      0.0   \n",
       "3     55_9          55            9      8.0      9.0     30.0      0.0   \n",
       "4    55_12          55           12     10.0     10.0     41.0      0.0   \n",
       "\n",
       "   updrs_4_missing clinical_state_on_medication  \n",
       "0                1                           On  \n",
       "1                1                           On  \n",
       "2                1                           On  \n",
       "3                0                           On  \n",
       "4                0                           On  "
      ]
     },
     "execution_count": 35,
     "metadata": {},
     "output_type": "execute_result"
    }
   ],
   "source": [
    "Final_clinical_data.head()"
   ]
  },
  {
   "cell_type": "code",
   "execution_count": 36,
   "id": "d82157e2",
   "metadata": {},
   "outputs": [
    {
     "data": {
      "text/plain": [
       "(4740, 9)"
      ]
     },
     "execution_count": 36,
     "metadata": {},
     "output_type": "execute_result"
    }
   ],
   "source": [
    "Final_clinical_data.shape"
   ]
  },
  {
   "cell_type": "code",
   "execution_count": 37,
   "id": "9bdb5619",
   "metadata": {},
   "outputs": [
    {
     "data": {
      "text/plain": [
       "False"
      ]
     },
     "execution_count": 37,
     "metadata": {},
     "output_type": "execute_result"
    }
   ],
   "source": [
    "Final_clinical_data.duplicated().any()"
   ]
  },
  {
   "cell_type": "code",
   "execution_count": 38,
   "id": "9257176e",
   "metadata": {
    "scrolled": true
   },
   "outputs": [
    {
     "data": {
      "text/plain": [
       "visit_id                        0\n",
       "patient_id                      0\n",
       "visit_month                     0\n",
       "updrs_1                         0\n",
       "updrs_2                         0\n",
       "updrs_3                         0\n",
       "updrs_4                         0\n",
       "updrs_4_missing                 0\n",
       "clinical_state_on_medication    0\n",
       "dtype: int64"
      ]
     },
     "execution_count": 38,
     "metadata": {},
     "output_type": "execute_result"
    }
   ],
   "source": [
    "Final_clinical_data.isna().sum()"
   ]
  },
  {
   "cell_type": "markdown",
   "id": "75fcea14",
   "metadata": {},
   "source": [
    "###### The UPDRS (Unified Parkinson's Disease Rating Scale) is divided into four parts (1, 2, 3, and 4 which are updrs_1, updrs_2,updrs_3,updrs_4 respectively from our datasaet), each focusing on different aspects of Parkinson's disease. After thorough checkouts we unfodled that for research or clinical purposes, some studies or clinicians may use a total UPDRS score by summing the scores across all parts to get an overall measure of disease severity hence(Total_UPDRS). This total score would consider both motor and non-motor aspects of Parkinson's disease."
   ]
  },
  {
   "cell_type": "code",
   "execution_count": 39,
   "id": "454bd8c6",
   "metadata": {},
   "outputs": [],
   "source": [
    "\n",
    "\n",
    "Final_clinical_data['Total_UPDRS'] = Final_clinical_data[['updrs_1','updrs_2','updrs_3', 'updrs_4']].sum(axis=1)"
   ]
  },
  {
   "cell_type": "code",
   "execution_count": 40,
   "id": "b0b7b32f",
   "metadata": {},
   "outputs": [
    {
     "data": {
      "text/html": [
       "<div>\n",
       "<style scoped>\n",
       "    .dataframe tbody tr th:only-of-type {\n",
       "        vertical-align: middle;\n",
       "    }\n",
       "\n",
       "    .dataframe tbody tr th {\n",
       "        vertical-align: top;\n",
       "    }\n",
       "\n",
       "    .dataframe thead th {\n",
       "        text-align: right;\n",
       "    }\n",
       "</style>\n",
       "<table border=\"1\" class=\"dataframe\">\n",
       "  <thead>\n",
       "    <tr style=\"text-align: right;\">\n",
       "      <th></th>\n",
       "      <th>visit_id</th>\n",
       "      <th>patient_id</th>\n",
       "      <th>visit_month</th>\n",
       "      <th>updrs_1</th>\n",
       "      <th>updrs_2</th>\n",
       "      <th>updrs_3</th>\n",
       "      <th>updrs_4</th>\n",
       "      <th>updrs_4_missing</th>\n",
       "      <th>clinical_state_on_medication</th>\n",
       "      <th>Total_UPDRS</th>\n",
       "    </tr>\n",
       "  </thead>\n",
       "  <tbody>\n",
       "    <tr>\n",
       "      <th>0</th>\n",
       "      <td>55_0</td>\n",
       "      <td>55</td>\n",
       "      <td>0</td>\n",
       "      <td>10.0</td>\n",
       "      <td>6.0</td>\n",
       "      <td>15.0</td>\n",
       "      <td>0.0</td>\n",
       "      <td>1</td>\n",
       "      <td>On</td>\n",
       "      <td>31.0</td>\n",
       "    </tr>\n",
       "    <tr>\n",
       "      <th>1</th>\n",
       "      <td>55_3</td>\n",
       "      <td>55</td>\n",
       "      <td>3</td>\n",
       "      <td>10.0</td>\n",
       "      <td>7.0</td>\n",
       "      <td>25.0</td>\n",
       "      <td>0.0</td>\n",
       "      <td>1</td>\n",
       "      <td>On</td>\n",
       "      <td>42.0</td>\n",
       "    </tr>\n",
       "    <tr>\n",
       "      <th>2</th>\n",
       "      <td>55_6</td>\n",
       "      <td>55</td>\n",
       "      <td>6</td>\n",
       "      <td>8.0</td>\n",
       "      <td>10.0</td>\n",
       "      <td>34.0</td>\n",
       "      <td>0.0</td>\n",
       "      <td>1</td>\n",
       "      <td>On</td>\n",
       "      <td>52.0</td>\n",
       "    </tr>\n",
       "    <tr>\n",
       "      <th>3</th>\n",
       "      <td>55_9</td>\n",
       "      <td>55</td>\n",
       "      <td>9</td>\n",
       "      <td>8.0</td>\n",
       "      <td>9.0</td>\n",
       "      <td>30.0</td>\n",
       "      <td>0.0</td>\n",
       "      <td>0</td>\n",
       "      <td>On</td>\n",
       "      <td>47.0</td>\n",
       "    </tr>\n",
       "    <tr>\n",
       "      <th>4</th>\n",
       "      <td>55_12</td>\n",
       "      <td>55</td>\n",
       "      <td>12</td>\n",
       "      <td>10.0</td>\n",
       "      <td>10.0</td>\n",
       "      <td>41.0</td>\n",
       "      <td>0.0</td>\n",
       "      <td>0</td>\n",
       "      <td>On</td>\n",
       "      <td>61.0</td>\n",
       "    </tr>\n",
       "  </tbody>\n",
       "</table>\n",
       "</div>"
      ],
      "text/plain": [
       "  visit_id  patient_id  visit_month  updrs_1  updrs_2  updrs_3  updrs_4  \\\n",
       "0     55_0          55            0     10.0      6.0     15.0      0.0   \n",
       "1     55_3          55            3     10.0      7.0     25.0      0.0   \n",
       "2     55_6          55            6      8.0     10.0     34.0      0.0   \n",
       "3     55_9          55            9      8.0      9.0     30.0      0.0   \n",
       "4    55_12          55           12     10.0     10.0     41.0      0.0   \n",
       "\n",
       "   updrs_4_missing clinical_state_on_medication  Total_UPDRS  \n",
       "0                1                           On         31.0  \n",
       "1                1                           On         42.0  \n",
       "2                1                           On         52.0  \n",
       "3                0                           On         47.0  \n",
       "4                0                           On         61.0  "
      ]
     },
     "execution_count": 40,
     "metadata": {},
     "output_type": "execute_result"
    }
   ],
   "source": [
    "Final_clinical_data.head()"
   ]
  },
  {
   "cell_type": "markdown",
   "id": "7d323d56",
   "metadata": {},
   "source": [
    "###### Our first dataframe is clean and set for usage"
   ]
  },
  {
   "cell_type": "markdown",
   "id": "b632a28e",
   "metadata": {},
   "source": [
    "### 6- Discovering Train Peptides "
   ]
  },
  {
   "cell_type": "code",
   "execution_count": 41,
   "id": "16cc5ffd",
   "metadata": {},
   "outputs": [
    {
     "data": {
      "text/html": [
       "<div>\n",
       "<style scoped>\n",
       "    .dataframe tbody tr th:only-of-type {\n",
       "        vertical-align: middle;\n",
       "    }\n",
       "\n",
       "    .dataframe tbody tr th {\n",
       "        vertical-align: top;\n",
       "    }\n",
       "\n",
       "    .dataframe thead th {\n",
       "        text-align: right;\n",
       "    }\n",
       "</style>\n",
       "<table border=\"1\" class=\"dataframe\">\n",
       "  <thead>\n",
       "    <tr style=\"text-align: right;\">\n",
       "      <th></th>\n",
       "      <th>visit_id</th>\n",
       "      <th>visit_month</th>\n",
       "      <th>patient_id</th>\n",
       "      <th>UniProt</th>\n",
       "      <th>Peptide</th>\n",
       "      <th>PeptideAbundance</th>\n",
       "    </tr>\n",
       "  </thead>\n",
       "  <tbody>\n",
       "    <tr>\n",
       "      <th>0</th>\n",
       "      <td>55_0</td>\n",
       "      <td>0</td>\n",
       "      <td>55</td>\n",
       "      <td>O00391</td>\n",
       "      <td>NEQEQPLGQWHLS</td>\n",
       "      <td>11254.3</td>\n",
       "    </tr>\n",
       "    <tr>\n",
       "      <th>1</th>\n",
       "      <td>55_0</td>\n",
       "      <td>0</td>\n",
       "      <td>55</td>\n",
       "      <td>O00533</td>\n",
       "      <td>GNPEPTFSWTK</td>\n",
       "      <td>102060.0</td>\n",
       "    </tr>\n",
       "    <tr>\n",
       "      <th>2</th>\n",
       "      <td>55_0</td>\n",
       "      <td>0</td>\n",
       "      <td>55</td>\n",
       "      <td>O00533</td>\n",
       "      <td>IEIPSSVQQVPTIIK</td>\n",
       "      <td>174185.0</td>\n",
       "    </tr>\n",
       "    <tr>\n",
       "      <th>3</th>\n",
       "      <td>55_0</td>\n",
       "      <td>0</td>\n",
       "      <td>55</td>\n",
       "      <td>O00533</td>\n",
       "      <td>KPQSAVYSTGSNGILLC(UniMod_4)EAEGEPQPTIK</td>\n",
       "      <td>27278.9</td>\n",
       "    </tr>\n",
       "    <tr>\n",
       "      <th>4</th>\n",
       "      <td>55_0</td>\n",
       "      <td>0</td>\n",
       "      <td>55</td>\n",
       "      <td>O00533</td>\n",
       "      <td>SMEQNGPGLEYR</td>\n",
       "      <td>30838.7</td>\n",
       "    </tr>\n",
       "  </tbody>\n",
       "</table>\n",
       "</div>"
      ],
      "text/plain": [
       "  visit_id  visit_month  patient_id UniProt  \\\n",
       "0     55_0            0          55  O00391   \n",
       "1     55_0            0          55  O00533   \n",
       "2     55_0            0          55  O00533   \n",
       "3     55_0            0          55  O00533   \n",
       "4     55_0            0          55  O00533   \n",
       "\n",
       "                                  Peptide  PeptideAbundance  \n",
       "0                           NEQEQPLGQWHLS           11254.3  \n",
       "1                             GNPEPTFSWTK          102060.0  \n",
       "2                         IEIPSSVQQVPTIIK          174185.0  \n",
       "3  KPQSAVYSTGSNGILLC(UniMod_4)EAEGEPQPTIK           27278.9  \n",
       "4                            SMEQNGPGLEYR           30838.7  "
      ]
     },
     "execution_count": 41,
     "metadata": {},
     "output_type": "execute_result"
    }
   ],
   "source": [
    "Peptides_data.head()"
   ]
  },
  {
   "cell_type": "code",
   "execution_count": 42,
   "id": "1a3222a6",
   "metadata": {
    "scrolled": true
   },
   "outputs": [
    {
     "data": {
      "text/plain": [
       "(981834, 6)"
      ]
     },
     "execution_count": 42,
     "metadata": {},
     "output_type": "execute_result"
    }
   ],
   "source": [
    "Peptides_data.shape"
   ]
  },
  {
   "cell_type": "code",
   "execution_count": 43,
   "id": "2de17140",
   "metadata": {},
   "outputs": [],
   "source": [
    "\n",
    "summed_peptide_data = Peptides_data.groupby(['visit_id'])['PeptideAbundance'].sum().reset_index()\n"
   ]
  },
  {
   "cell_type": "code",
   "execution_count": 44,
   "id": "f7308dbf",
   "metadata": {
    "scrolled": true
   },
   "outputs": [
    {
     "data": {
      "text/html": [
       "<div>\n",
       "<style scoped>\n",
       "    .dataframe tbody tr th:only-of-type {\n",
       "        vertical-align: middle;\n",
       "    }\n",
       "\n",
       "    .dataframe tbody tr th {\n",
       "        vertical-align: top;\n",
       "    }\n",
       "\n",
       "    .dataframe thead th {\n",
       "        text-align: right;\n",
       "    }\n",
       "</style>\n",
       "<table border=\"1\" class=\"dataframe\">\n",
       "  <thead>\n",
       "    <tr style=\"text-align: right;\">\n",
       "      <th></th>\n",
       "      <th>visit_id</th>\n",
       "      <th>PeptideAbundance</th>\n",
       "    </tr>\n",
       "  </thead>\n",
       "  <tbody>\n",
       "    <tr>\n",
       "      <th>0</th>\n",
       "      <td>10053_0</td>\n",
       "      <td>4.713352e+08</td>\n",
       "    </tr>\n",
       "    <tr>\n",
       "      <th>1</th>\n",
       "      <td>10053_12</td>\n",
       "      <td>4.666371e+08</td>\n",
       "    </tr>\n",
       "    <tr>\n",
       "      <th>2</th>\n",
       "      <td>10053_18</td>\n",
       "      <td>5.220732e+08</td>\n",
       "    </tr>\n",
       "    <tr>\n",
       "      <th>3</th>\n",
       "      <td>10138_12</td>\n",
       "      <td>6.515605e+08</td>\n",
       "    </tr>\n",
       "    <tr>\n",
       "      <th>4</th>\n",
       "      <td>10138_24</td>\n",
       "      <td>6.720870e+08</td>\n",
       "    </tr>\n",
       "    <tr>\n",
       "      <th>...</th>\n",
       "      <td>...</td>\n",
       "      <td>...</td>\n",
       "    </tr>\n",
       "    <tr>\n",
       "      <th>1108</th>\n",
       "      <td>8699_24</td>\n",
       "      <td>6.618368e+08</td>\n",
       "    </tr>\n",
       "    <tr>\n",
       "      <th>1109</th>\n",
       "      <td>942_12</td>\n",
       "      <td>5.540194e+08</td>\n",
       "    </tr>\n",
       "    <tr>\n",
       "      <th>1110</th>\n",
       "      <td>942_24</td>\n",
       "      <td>5.677032e+08</td>\n",
       "    </tr>\n",
       "    <tr>\n",
       "      <th>1111</th>\n",
       "      <td>942_48</td>\n",
       "      <td>5.979831e+08</td>\n",
       "    </tr>\n",
       "    <tr>\n",
       "      <th>1112</th>\n",
       "      <td>942_6</td>\n",
       "      <td>5.350063e+08</td>\n",
       "    </tr>\n",
       "  </tbody>\n",
       "</table>\n",
       "<p>1113 rows × 2 columns</p>\n",
       "</div>"
      ],
      "text/plain": [
       "      visit_id  PeptideAbundance\n",
       "0      10053_0      4.713352e+08\n",
       "1     10053_12      4.666371e+08\n",
       "2     10053_18      5.220732e+08\n",
       "3     10138_12      6.515605e+08\n",
       "4     10138_24      6.720870e+08\n",
       "...        ...               ...\n",
       "1108   8699_24      6.618368e+08\n",
       "1109    942_12      5.540194e+08\n",
       "1110    942_24      5.677032e+08\n",
       "1111    942_48      5.979831e+08\n",
       "1112     942_6      5.350063e+08\n",
       "\n",
       "[1113 rows x 2 columns]"
      ]
     },
     "execution_count": 44,
     "metadata": {},
     "output_type": "execute_result"
    }
   ],
   "source": [
    "summed_peptide_data"
   ]
  },
  {
   "cell_type": "code",
   "execution_count": 45,
   "id": "8dd8d24d",
   "metadata": {},
   "outputs": [],
   "source": [
    "from scipy import stats\n",
    "\n"
   ]
  },
  {
   "cell_type": "code",
   "execution_count": 46,
   "id": "c5801591",
   "metadata": {},
   "outputs": [
    {
     "data": {
      "text/plain": [
       "127056.0    10\n",
       "144004.0    10\n",
       "109591.0    10\n",
       "103890.0     9\n",
       "116278.0     9\n",
       "            ..\n",
       "21198.0      1\n",
       "62987.2      1\n",
       "182618.0     1\n",
       "30224.1      1\n",
       "12825.9      1\n",
       "Name: PeptideAbundance, Length: 738931, dtype: int64"
      ]
     },
     "execution_count": 46,
     "metadata": {},
     "output_type": "execute_result"
    }
   ],
   "source": [
    "Peptides_data['UniProt'].value_counts() #227 UniProt\n",
    "Peptides_data['Peptide'].value_counts() #968 Peptide\n",
    "Peptides_data['PeptideAbundance'].value_counts()"
   ]
  },
  {
   "cell_type": "code",
   "execution_count": 47,
   "id": "fe7b568f",
   "metadata": {},
   "outputs": [
    {
     "data": {
      "text/html": [
       "<div>\n",
       "<style scoped>\n",
       "    .dataframe tbody tr th:only-of-type {\n",
       "        vertical-align: middle;\n",
       "    }\n",
       "\n",
       "    .dataframe tbody tr th {\n",
       "        vertical-align: top;\n",
       "    }\n",
       "\n",
       "    .dataframe thead th {\n",
       "        text-align: right;\n",
       "    }\n",
       "</style>\n",
       "<table border=\"1\" class=\"dataframe\">\n",
       "  <thead>\n",
       "    <tr style=\"text-align: right;\">\n",
       "      <th></th>\n",
       "      <th>visit_id</th>\n",
       "      <th>visit_month</th>\n",
       "      <th>patient_id</th>\n",
       "      <th>UniProt</th>\n",
       "      <th>Peptide</th>\n",
       "      <th>PeptideAbundance</th>\n",
       "    </tr>\n",
       "  </thead>\n",
       "  <tbody>\n",
       "    <tr>\n",
       "      <th>0</th>\n",
       "      <td>55_0</td>\n",
       "      <td>0</td>\n",
       "      <td>55</td>\n",
       "      <td>O00391</td>\n",
       "      <td>NEQEQPLGQWHLS</td>\n",
       "      <td>11254.3</td>\n",
       "    </tr>\n",
       "    <tr>\n",
       "      <th>1</th>\n",
       "      <td>55_0</td>\n",
       "      <td>0</td>\n",
       "      <td>55</td>\n",
       "      <td>O00533</td>\n",
       "      <td>GNPEPTFSWTK</td>\n",
       "      <td>102060.0</td>\n",
       "    </tr>\n",
       "    <tr>\n",
       "      <th>2</th>\n",
       "      <td>55_0</td>\n",
       "      <td>0</td>\n",
       "      <td>55</td>\n",
       "      <td>O00533</td>\n",
       "      <td>IEIPSSVQQVPTIIK</td>\n",
       "      <td>174185.0</td>\n",
       "    </tr>\n",
       "    <tr>\n",
       "      <th>3</th>\n",
       "      <td>55_0</td>\n",
       "      <td>0</td>\n",
       "      <td>55</td>\n",
       "      <td>O00533</td>\n",
       "      <td>KPQSAVYSTGSNGILLC(UniMod_4)EAEGEPQPTIK</td>\n",
       "      <td>27278.9</td>\n",
       "    </tr>\n",
       "    <tr>\n",
       "      <th>4</th>\n",
       "      <td>55_0</td>\n",
       "      <td>0</td>\n",
       "      <td>55</td>\n",
       "      <td>O00533</td>\n",
       "      <td>SMEQNGPGLEYR</td>\n",
       "      <td>30838.7</td>\n",
       "    </tr>\n",
       "  </tbody>\n",
       "</table>\n",
       "</div>"
      ],
      "text/plain": [
       "  visit_id  visit_month  patient_id UniProt  \\\n",
       "0     55_0            0          55  O00391   \n",
       "1     55_0            0          55  O00533   \n",
       "2     55_0            0          55  O00533   \n",
       "3     55_0            0          55  O00533   \n",
       "4     55_0            0          55  O00533   \n",
       "\n",
       "                                  Peptide  PeptideAbundance  \n",
       "0                           NEQEQPLGQWHLS           11254.3  \n",
       "1                             GNPEPTFSWTK          102060.0  \n",
       "2                         IEIPSSVQQVPTIIK          174185.0  \n",
       "3  KPQSAVYSTGSNGILLC(UniMod_4)EAEGEPQPTIK           27278.9  \n",
       "4                            SMEQNGPGLEYR           30838.7  "
      ]
     },
     "execution_count": 47,
     "metadata": {},
     "output_type": "execute_result"
    }
   ],
   "source": [
    "Peptides_data.head()"
   ]
  },
  {
   "cell_type": "code",
   "execution_count": 48,
   "id": "4852ba52",
   "metadata": {},
   "outputs": [
    {
     "data": {
      "text/html": [
       "<div>\n",
       "<style scoped>\n",
       "    .dataframe tbody tr th:only-of-type {\n",
       "        vertical-align: middle;\n",
       "    }\n",
       "\n",
       "    .dataframe tbody tr th {\n",
       "        vertical-align: top;\n",
       "    }\n",
       "\n",
       "    .dataframe thead th {\n",
       "        text-align: right;\n",
       "    }\n",
       "</style>\n",
       "<table border=\"1\" class=\"dataframe\">\n",
       "  <thead>\n",
       "    <tr style=\"text-align: right;\">\n",
       "      <th></th>\n",
       "      <th>visit_id</th>\n",
       "      <th>PeptideAbundance</th>\n",
       "    </tr>\n",
       "  </thead>\n",
       "  <tbody>\n",
       "    <tr>\n",
       "      <th>0</th>\n",
       "      <td>10053_0</td>\n",
       "      <td>4.713352e+08</td>\n",
       "    </tr>\n",
       "    <tr>\n",
       "      <th>1</th>\n",
       "      <td>10053_12</td>\n",
       "      <td>4.666371e+08</td>\n",
       "    </tr>\n",
       "    <tr>\n",
       "      <th>2</th>\n",
       "      <td>10053_18</td>\n",
       "      <td>5.220732e+08</td>\n",
       "    </tr>\n",
       "    <tr>\n",
       "      <th>3</th>\n",
       "      <td>10138_12</td>\n",
       "      <td>6.515605e+08</td>\n",
       "    </tr>\n",
       "    <tr>\n",
       "      <th>4</th>\n",
       "      <td>10138_24</td>\n",
       "      <td>6.720870e+08</td>\n",
       "    </tr>\n",
       "    <tr>\n",
       "      <th>...</th>\n",
       "      <td>...</td>\n",
       "      <td>...</td>\n",
       "    </tr>\n",
       "    <tr>\n",
       "      <th>1108</th>\n",
       "      <td>8699_24</td>\n",
       "      <td>6.618368e+08</td>\n",
       "    </tr>\n",
       "    <tr>\n",
       "      <th>1109</th>\n",
       "      <td>942_12</td>\n",
       "      <td>5.540194e+08</td>\n",
       "    </tr>\n",
       "    <tr>\n",
       "      <th>1110</th>\n",
       "      <td>942_24</td>\n",
       "      <td>5.677032e+08</td>\n",
       "    </tr>\n",
       "    <tr>\n",
       "      <th>1111</th>\n",
       "      <td>942_48</td>\n",
       "      <td>5.979831e+08</td>\n",
       "    </tr>\n",
       "    <tr>\n",
       "      <th>1112</th>\n",
       "      <td>942_6</td>\n",
       "      <td>5.350063e+08</td>\n",
       "    </tr>\n",
       "  </tbody>\n",
       "</table>\n",
       "<p>1113 rows × 2 columns</p>\n",
       "</div>"
      ],
      "text/plain": [
       "      visit_id  PeptideAbundance\n",
       "0      10053_0      4.713352e+08\n",
       "1     10053_12      4.666371e+08\n",
       "2     10053_18      5.220732e+08\n",
       "3     10138_12      6.515605e+08\n",
       "4     10138_24      6.720870e+08\n",
       "...        ...               ...\n",
       "1108   8699_24      6.618368e+08\n",
       "1109    942_12      5.540194e+08\n",
       "1110    942_24      5.677032e+08\n",
       "1111    942_48      5.979831e+08\n",
       "1112     942_6      5.350063e+08\n",
       "\n",
       "[1113 rows x 2 columns]"
      ]
     },
     "execution_count": 48,
     "metadata": {},
     "output_type": "execute_result"
    }
   ],
   "source": [
    "Peptides = Peptides_data.groupby('visit_id')['PeptideAbundance'].sum().reset_index()\n",
    "Peptides"
   ]
  },
  {
   "cell_type": "code",
   "execution_count": 49,
   "id": "b0ce871e",
   "metadata": {},
   "outputs": [],
   "source": [
    "from sklearn.preprocessing import StandardScaler\n",
    "Scaler = StandardScaler()\n",
    "Peptide_Abundnace_Reshape = Peptides['PeptideAbundance'].values.reshape(-1, 1)\n",
    "Peptides['Peptide Abundance Standardized'] = Scaler.fit_transform(Peptide_Abundnace_Reshape)"
   ]
  },
  {
   "cell_type": "code",
   "execution_count": 50,
   "id": "438e6e16",
   "metadata": {},
   "outputs": [
    {
     "data": {
      "text/html": [
       "<div>\n",
       "<style scoped>\n",
       "    .dataframe tbody tr th:only-of-type {\n",
       "        vertical-align: middle;\n",
       "    }\n",
       "\n",
       "    .dataframe tbody tr th {\n",
       "        vertical-align: top;\n",
       "    }\n",
       "\n",
       "    .dataframe thead th {\n",
       "        text-align: right;\n",
       "    }\n",
       "</style>\n",
       "<table border=\"1\" class=\"dataframe\">\n",
       "  <thead>\n",
       "    <tr style=\"text-align: right;\">\n",
       "      <th></th>\n",
       "      <th>visit_id</th>\n",
       "      <th>PeptideAbundance</th>\n",
       "      <th>Peptide Abundance Standardized</th>\n",
       "    </tr>\n",
       "  </thead>\n",
       "  <tbody>\n",
       "    <tr>\n",
       "      <th>0</th>\n",
       "      <td>10053_0</td>\n",
       "      <td>4.713352e+08</td>\n",
       "      <td>-1.035157</td>\n",
       "    </tr>\n",
       "    <tr>\n",
       "      <th>1</th>\n",
       "      <td>10053_12</td>\n",
       "      <td>4.666371e+08</td>\n",
       "      <td>-1.085926</td>\n",
       "    </tr>\n",
       "    <tr>\n",
       "      <th>2</th>\n",
       "      <td>10053_18</td>\n",
       "      <td>5.220732e+08</td>\n",
       "      <td>-0.486862</td>\n",
       "    </tr>\n",
       "    <tr>\n",
       "      <th>3</th>\n",
       "      <td>10138_12</td>\n",
       "      <td>6.515605e+08</td>\n",
       "      <td>0.912430</td>\n",
       "    </tr>\n",
       "    <tr>\n",
       "      <th>4</th>\n",
       "      <td>10138_24</td>\n",
       "      <td>6.720870e+08</td>\n",
       "      <td>1.134248</td>\n",
       "    </tr>\n",
       "    <tr>\n",
       "      <th>...</th>\n",
       "      <td>...</td>\n",
       "      <td>...</td>\n",
       "      <td>...</td>\n",
       "    </tr>\n",
       "    <tr>\n",
       "      <th>1108</th>\n",
       "      <td>8699_24</td>\n",
       "      <td>6.618368e+08</td>\n",
       "      <td>1.023480</td>\n",
       "    </tr>\n",
       "    <tr>\n",
       "      <th>1109</th>\n",
       "      <td>942_12</td>\n",
       "      <td>5.540194e+08</td>\n",
       "      <td>-0.141637</td>\n",
       "    </tr>\n",
       "    <tr>\n",
       "      <th>1110</th>\n",
       "      <td>942_24</td>\n",
       "      <td>5.677032e+08</td>\n",
       "      <td>0.006235</td>\n",
       "    </tr>\n",
       "    <tr>\n",
       "      <th>1111</th>\n",
       "      <td>942_48</td>\n",
       "      <td>5.979831e+08</td>\n",
       "      <td>0.333452</td>\n",
       "    </tr>\n",
       "    <tr>\n",
       "      <th>1112</th>\n",
       "      <td>942_6</td>\n",
       "      <td>5.350063e+08</td>\n",
       "      <td>-0.347101</td>\n",
       "    </tr>\n",
       "  </tbody>\n",
       "</table>\n",
       "<p>1113 rows × 3 columns</p>\n",
       "</div>"
      ],
      "text/plain": [
       "      visit_id  PeptideAbundance  Peptide Abundance Standardized\n",
       "0      10053_0      4.713352e+08                       -1.035157\n",
       "1     10053_12      4.666371e+08                       -1.085926\n",
       "2     10053_18      5.220732e+08                       -0.486862\n",
       "3     10138_12      6.515605e+08                        0.912430\n",
       "4     10138_24      6.720870e+08                        1.134248\n",
       "...        ...               ...                             ...\n",
       "1108   8699_24      6.618368e+08                        1.023480\n",
       "1109    942_12      5.540194e+08                       -0.141637\n",
       "1110    942_24      5.677032e+08                        0.006235\n",
       "1111    942_48      5.979831e+08                        0.333452\n",
       "1112     942_6      5.350063e+08                       -0.347101\n",
       "\n",
       "[1113 rows x 3 columns]"
      ]
     },
     "execution_count": 50,
     "metadata": {},
     "output_type": "execute_result"
    }
   ],
   "source": [
    "Peptides"
   ]
  },
  {
   "cell_type": "markdown",
   "id": "38352e5d",
   "metadata": {},
   "source": [
    "Our second dataset is clean and set for usage "
   ]
  },
  {
   "cell_type": "code",
   "execution_count": 51,
   "id": "52fba2bf",
   "metadata": {},
   "outputs": [
    {
     "name": "stdout",
     "output_type": "stream",
     "text": [
      "631211501725.2501\n",
      "-4.565237077258644e-13\n"
     ]
    }
   ],
   "source": [
    "#Test : \n",
    "Total_PeptideAbu  = Peptides['PeptideAbundance'].sum()\n",
    "Total_PeptideAbu_std  = Peptides['Peptide Abundance Standardized'].sum()\n",
    "\n",
    "print(Total_PeptideAbu); print(Total_PeptideAbu_std)"
   ]
  },
  {
   "cell_type": "markdown",
   "id": "f2d92ee3",
   "metadata": {},
   "source": [
    "### 7 - Discovering Train Protein"
   ]
  },
  {
   "cell_type": "code",
   "execution_count": 52,
   "id": "613052a3",
   "metadata": {},
   "outputs": [
    {
     "data": {
      "text/html": [
       "<div>\n",
       "<style scoped>\n",
       "    .dataframe tbody tr th:only-of-type {\n",
       "        vertical-align: middle;\n",
       "    }\n",
       "\n",
       "    .dataframe tbody tr th {\n",
       "        vertical-align: top;\n",
       "    }\n",
       "\n",
       "    .dataframe thead th {\n",
       "        text-align: right;\n",
       "    }\n",
       "</style>\n",
       "<table border=\"1\" class=\"dataframe\">\n",
       "  <thead>\n",
       "    <tr style=\"text-align: right;\">\n",
       "      <th></th>\n",
       "      <th>visit_id</th>\n",
       "      <th>visit_month</th>\n",
       "      <th>patient_id</th>\n",
       "      <th>UniProt</th>\n",
       "      <th>NPX</th>\n",
       "    </tr>\n",
       "  </thead>\n",
       "  <tbody>\n",
       "    <tr>\n",
       "      <th>0</th>\n",
       "      <td>55_0</td>\n",
       "      <td>0</td>\n",
       "      <td>55</td>\n",
       "      <td>O00391</td>\n",
       "      <td>11254.3</td>\n",
       "    </tr>\n",
       "    <tr>\n",
       "      <th>1</th>\n",
       "      <td>55_0</td>\n",
       "      <td>0</td>\n",
       "      <td>55</td>\n",
       "      <td>O00533</td>\n",
       "      <td>732430.0</td>\n",
       "    </tr>\n",
       "    <tr>\n",
       "      <th>2</th>\n",
       "      <td>55_0</td>\n",
       "      <td>0</td>\n",
       "      <td>55</td>\n",
       "      <td>O00584</td>\n",
       "      <td>39585.8</td>\n",
       "    </tr>\n",
       "    <tr>\n",
       "      <th>3</th>\n",
       "      <td>55_0</td>\n",
       "      <td>0</td>\n",
       "      <td>55</td>\n",
       "      <td>O14498</td>\n",
       "      <td>41526.9</td>\n",
       "    </tr>\n",
       "    <tr>\n",
       "      <th>4</th>\n",
       "      <td>55_0</td>\n",
       "      <td>0</td>\n",
       "      <td>55</td>\n",
       "      <td>O14773</td>\n",
       "      <td>31238.0</td>\n",
       "    </tr>\n",
       "  </tbody>\n",
       "</table>\n",
       "</div>"
      ],
      "text/plain": [
       "  visit_id  visit_month  patient_id UniProt       NPX\n",
       "0     55_0            0          55  O00391   11254.3\n",
       "1     55_0            0          55  O00533  732430.0\n",
       "2     55_0            0          55  O00584   39585.8\n",
       "3     55_0            0          55  O14498   41526.9\n",
       "4     55_0            0          55  O14773   31238.0"
      ]
     },
     "execution_count": 52,
     "metadata": {},
     "output_type": "execute_result"
    }
   ],
   "source": [
    "Proteins_data.head()"
   ]
  },
  {
   "cell_type": "code",
   "execution_count": 53,
   "id": "04a9aba0",
   "metadata": {},
   "outputs": [
    {
     "data": {
      "text/plain": [
       "(232741, 5)"
      ]
     },
     "execution_count": 53,
     "metadata": {},
     "output_type": "execute_result"
    }
   ],
   "source": [
    "Proteins_data.shape"
   ]
  },
  {
   "cell_type": "code",
   "execution_count": 54,
   "id": "1b571d29",
   "metadata": {},
   "outputs": [],
   "source": [
    "\n",
    "Proteins = Proteins_data.groupby(['visit_id'])['NPX'].sum().reset_index()\n"
   ]
  },
  {
   "cell_type": "code",
   "execution_count": 55,
   "id": "fe24281c",
   "metadata": {},
   "outputs": [
    {
     "data": {
      "text/html": [
       "<div>\n",
       "<style scoped>\n",
       "    .dataframe tbody tr th:only-of-type {\n",
       "        vertical-align: middle;\n",
       "    }\n",
       "\n",
       "    .dataframe tbody tr th {\n",
       "        vertical-align: top;\n",
       "    }\n",
       "\n",
       "    .dataframe thead th {\n",
       "        text-align: right;\n",
       "    }\n",
       "</style>\n",
       "<table border=\"1\" class=\"dataframe\">\n",
       "  <thead>\n",
       "    <tr style=\"text-align: right;\">\n",
       "      <th></th>\n",
       "      <th>visit_id</th>\n",
       "      <th>NPX</th>\n",
       "    </tr>\n",
       "  </thead>\n",
       "  <tbody>\n",
       "    <tr>\n",
       "      <th>0</th>\n",
       "      <td>10053_0</td>\n",
       "      <td>4.713356e+08</td>\n",
       "    </tr>\n",
       "    <tr>\n",
       "      <th>1</th>\n",
       "      <td>10053_12</td>\n",
       "      <td>4.666370e+08</td>\n",
       "    </tr>\n",
       "    <tr>\n",
       "      <th>2</th>\n",
       "      <td>10053_18</td>\n",
       "      <td>5.220732e+08</td>\n",
       "    </tr>\n",
       "    <tr>\n",
       "      <th>3</th>\n",
       "      <td>10138_12</td>\n",
       "      <td>6.515605e+08</td>\n",
       "    </tr>\n",
       "    <tr>\n",
       "      <th>4</th>\n",
       "      <td>10138_24</td>\n",
       "      <td>6.720872e+08</td>\n",
       "    </tr>\n",
       "  </tbody>\n",
       "</table>\n",
       "</div>"
      ],
      "text/plain": [
       "   visit_id           NPX\n",
       "0   10053_0  4.713356e+08\n",
       "1  10053_12  4.666370e+08\n",
       "2  10053_18  5.220732e+08\n",
       "3  10138_12  6.515605e+08\n",
       "4  10138_24  6.720872e+08"
      ]
     },
     "execution_count": 55,
     "metadata": {},
     "output_type": "execute_result"
    }
   ],
   "source": [
    "\n",
    "Proteins.head()"
   ]
  },
  {
   "cell_type": "code",
   "execution_count": 56,
   "id": "cad2515a",
   "metadata": {},
   "outputs": [
    {
     "data": {
      "text/html": [
       "<div>\n",
       "<style scoped>\n",
       "    .dataframe tbody tr th:only-of-type {\n",
       "        vertical-align: middle;\n",
       "    }\n",
       "\n",
       "    .dataframe tbody tr th {\n",
       "        vertical-align: top;\n",
       "    }\n",
       "\n",
       "    .dataframe thead th {\n",
       "        text-align: right;\n",
       "    }\n",
       "</style>\n",
       "<table border=\"1\" class=\"dataframe\">\n",
       "  <thead>\n",
       "    <tr style=\"text-align: right;\">\n",
       "      <th></th>\n",
       "      <th>visit_id</th>\n",
       "      <th>NPX</th>\n",
       "      <th>Standardized_NPX</th>\n",
       "    </tr>\n",
       "  </thead>\n",
       "  <tbody>\n",
       "    <tr>\n",
       "      <th>0</th>\n",
       "      <td>10053_0</td>\n",
       "      <td>4.713356e+08</td>\n",
       "      <td>-1.035152</td>\n",
       "    </tr>\n",
       "    <tr>\n",
       "      <th>1</th>\n",
       "      <td>10053_12</td>\n",
       "      <td>4.666370e+08</td>\n",
       "      <td>-1.085927</td>\n",
       "    </tr>\n",
       "    <tr>\n",
       "      <th>2</th>\n",
       "      <td>10053_18</td>\n",
       "      <td>5.220732e+08</td>\n",
       "      <td>-0.486861</td>\n",
       "    </tr>\n",
       "    <tr>\n",
       "      <th>3</th>\n",
       "      <td>10138_12</td>\n",
       "      <td>6.515605e+08</td>\n",
       "      <td>0.912430</td>\n",
       "    </tr>\n",
       "    <tr>\n",
       "      <th>4</th>\n",
       "      <td>10138_24</td>\n",
       "      <td>6.720872e+08</td>\n",
       "      <td>1.134250</td>\n",
       "    </tr>\n",
       "    <tr>\n",
       "      <th>...</th>\n",
       "      <td>...</td>\n",
       "      <td>...</td>\n",
       "      <td>...</td>\n",
       "    </tr>\n",
       "    <tr>\n",
       "      <th>1108</th>\n",
       "      <td>8699_24</td>\n",
       "      <td>6.618367e+08</td>\n",
       "      <td>1.023479</td>\n",
       "    </tr>\n",
       "    <tr>\n",
       "      <th>1109</th>\n",
       "      <td>942_12</td>\n",
       "      <td>5.540191e+08</td>\n",
       "      <td>-0.141641</td>\n",
       "    </tr>\n",
       "    <tr>\n",
       "      <th>1110</th>\n",
       "      <td>942_24</td>\n",
       "      <td>5.677028e+08</td>\n",
       "      <td>0.006231</td>\n",
       "    </tr>\n",
       "    <tr>\n",
       "      <th>1111</th>\n",
       "      <td>942_48</td>\n",
       "      <td>5.979835e+08</td>\n",
       "      <td>0.333456</td>\n",
       "    </tr>\n",
       "    <tr>\n",
       "      <th>1112</th>\n",
       "      <td>942_6</td>\n",
       "      <td>5.350061e+08</td>\n",
       "      <td>-0.347103</td>\n",
       "    </tr>\n",
       "  </tbody>\n",
       "</table>\n",
       "<p>1113 rows × 3 columns</p>\n",
       "</div>"
      ],
      "text/plain": [
       "      visit_id           NPX  Standardized_NPX\n",
       "0      10053_0  4.713356e+08         -1.035152\n",
       "1     10053_12  4.666370e+08         -1.085927\n",
       "2     10053_18  5.220732e+08         -0.486861\n",
       "3     10138_12  6.515605e+08          0.912430\n",
       "4     10138_24  6.720872e+08          1.134250\n",
       "...        ...           ...               ...\n",
       "1108   8699_24  6.618367e+08          1.023479\n",
       "1109    942_12  5.540191e+08         -0.141641\n",
       "1110    942_24  5.677028e+08          0.006231\n",
       "1111    942_48  5.979835e+08          0.333456\n",
       "1112     942_6  5.350061e+08         -0.347103\n",
       "\n",
       "[1113 rows x 3 columns]"
      ]
     },
     "execution_count": 56,
     "metadata": {},
     "output_type": "execute_result"
    }
   ],
   "source": [
    "from sklearn.preprocessing import StandardScaler\n",
    "Proteins= pd.DataFrame(Proteins)\n",
    "scale= StandardScaler()\n",
    "X_data = Proteins[['NPX']]\n",
    "Proteins['Standardized_NPX'] = scale.fit_transform(X_data)\n",
    "Proteins"
   ]
  },
  {
   "cell_type": "code",
   "execution_count": 57,
   "id": "f00f34b9",
   "metadata": {},
   "outputs": [
    {
     "name": "stdout",
     "output_type": "stream",
     "text": [
      "631211499982.2302\n",
      "-1.5987211554602254e-14\n"
     ]
    }
   ],
   "source": [
    "#Test : \n",
    "Total_NPX  = Proteins['NPX'].sum()\n",
    "Total_NPX_std  = Proteins['Standardized_NPX'].sum()\n",
    "\n",
    "print(Total_NPX); print(Total_NPX_std)"
   ]
  },
  {
   "cell_type": "markdown",
   "id": "8a0a15d2",
   "metadata": {},
   "source": [
    "Our third Dataset is clean and ready for usage"
   ]
  },
  {
   "cell_type": "markdown",
   "id": "5f8a771d",
   "metadata": {},
   "source": [
    "### 8- Merging all three final Datasets"
   ]
  },
  {
   "cell_type": "code",
   "execution_count": 58,
   "id": "6d0680fb",
   "metadata": {},
   "outputs": [
    {
     "data": {
      "text/html": [
       "<div>\n",
       "<style scoped>\n",
       "    .dataframe tbody tr th:only-of-type {\n",
       "        vertical-align: middle;\n",
       "    }\n",
       "\n",
       "    .dataframe tbody tr th {\n",
       "        vertical-align: top;\n",
       "    }\n",
       "\n",
       "    .dataframe thead th {\n",
       "        text-align: right;\n",
       "    }\n",
       "</style>\n",
       "<table border=\"1\" class=\"dataframe\">\n",
       "  <thead>\n",
       "    <tr style=\"text-align: right;\">\n",
       "      <th></th>\n",
       "      <th>visit_id</th>\n",
       "      <th>patient_id</th>\n",
       "      <th>visit_month</th>\n",
       "      <th>updrs_1</th>\n",
       "      <th>updrs_2</th>\n",
       "      <th>updrs_3</th>\n",
       "      <th>updrs_4</th>\n",
       "      <th>updrs_4_missing</th>\n",
       "      <th>clinical_state_on_medication</th>\n",
       "      <th>Total_UPDRS</th>\n",
       "      <th>NPX</th>\n",
       "      <th>PeptideAbundance</th>\n",
       "      <th>Standardized_NPX</th>\n",
       "      <th>Peptide Abundance Standardized</th>\n",
       "    </tr>\n",
       "  </thead>\n",
       "  <tbody>\n",
       "    <tr>\n",
       "      <th>0</th>\n",
       "      <td>55_0</td>\n",
       "      <td>55</td>\n",
       "      <td>0</td>\n",
       "      <td>10.0</td>\n",
       "      <td>6.0</td>\n",
       "      <td>15.0</td>\n",
       "      <td>0.0</td>\n",
       "      <td>1</td>\n",
       "      <td>On</td>\n",
       "      <td>31.0</td>\n",
       "      <td>6.965313e+08</td>\n",
       "      <td>6.965313e+08</td>\n",
       "      <td>1.398404</td>\n",
       "      <td>1.398403</td>\n",
       "    </tr>\n",
       "    <tr>\n",
       "      <th>1</th>\n",
       "      <td>55_6</td>\n",
       "      <td>55</td>\n",
       "      <td>6</td>\n",
       "      <td>8.0</td>\n",
       "      <td>10.0</td>\n",
       "      <td>34.0</td>\n",
       "      <td>0.0</td>\n",
       "      <td>1</td>\n",
       "      <td>On</td>\n",
       "      <td>52.0</td>\n",
       "      <td>6.413644e+08</td>\n",
       "      <td>6.413646e+08</td>\n",
       "      <td>0.802248</td>\n",
       "      <td>0.802250</td>\n",
       "    </tr>\n",
       "    <tr>\n",
       "      <th>2</th>\n",
       "      <td>55_12</td>\n",
       "      <td>55</td>\n",
       "      <td>12</td>\n",
       "      <td>10.0</td>\n",
       "      <td>10.0</td>\n",
       "      <td>41.0</td>\n",
       "      <td>0.0</td>\n",
       "      <td>0</td>\n",
       "      <td>On</td>\n",
       "      <td>61.0</td>\n",
       "      <td>6.983249e+08</td>\n",
       "      <td>6.983249e+08</td>\n",
       "      <td>1.417786</td>\n",
       "      <td>1.417786</td>\n",
       "    </tr>\n",
       "    <tr>\n",
       "      <th>3</th>\n",
       "      <td>55_36</td>\n",
       "      <td>55</td>\n",
       "      <td>36</td>\n",
       "      <td>17.0</td>\n",
       "      <td>18.0</td>\n",
       "      <td>51.0</td>\n",
       "      <td>0.0</td>\n",
       "      <td>0</td>\n",
       "      <td>On</td>\n",
       "      <td>86.0</td>\n",
       "      <td>7.649231e+08</td>\n",
       "      <td>7.649234e+08</td>\n",
       "      <td>2.137472</td>\n",
       "      <td>2.137476</td>\n",
       "    </tr>\n",
       "    <tr>\n",
       "      <th>4</th>\n",
       "      <td>942_6</td>\n",
       "      <td>942</td>\n",
       "      <td>6</td>\n",
       "      <td>8.0</td>\n",
       "      <td>2.0</td>\n",
       "      <td>21.0</td>\n",
       "      <td>0.0</td>\n",
       "      <td>1</td>\n",
       "      <td>Off</td>\n",
       "      <td>31.0</td>\n",
       "      <td>5.350061e+08</td>\n",
       "      <td>5.350063e+08</td>\n",
       "      <td>-0.347103</td>\n",
       "      <td>-0.347101</td>\n",
       "    </tr>\n",
       "    <tr>\n",
       "      <th>...</th>\n",
       "      <td>...</td>\n",
       "      <td>...</td>\n",
       "      <td>...</td>\n",
       "      <td>...</td>\n",
       "      <td>...</td>\n",
       "      <td>...</td>\n",
       "      <td>...</td>\n",
       "      <td>...</td>\n",
       "      <td>...</td>\n",
       "      <td>...</td>\n",
       "      <td>...</td>\n",
       "      <td>...</td>\n",
       "      <td>...</td>\n",
       "      <td>...</td>\n",
       "    </tr>\n",
       "    <tr>\n",
       "      <th>1063</th>\n",
       "      <td>64674_84</td>\n",
       "      <td>64674</td>\n",
       "      <td>84</td>\n",
       "      <td>11.0</td>\n",
       "      <td>15.0</td>\n",
       "      <td>45.0</td>\n",
       "      <td>4.0</td>\n",
       "      <td>0</td>\n",
       "      <td>Off</td>\n",
       "      <td>75.0</td>\n",
       "      <td>4.292280e+08</td>\n",
       "      <td>4.292285e+08</td>\n",
       "      <td>-1.490184</td>\n",
       "      <td>-1.490179</td>\n",
       "    </tr>\n",
       "    <tr>\n",
       "      <th>1064</th>\n",
       "      <td>65043_0</td>\n",
       "      <td>65043</td>\n",
       "      <td>0</td>\n",
       "      <td>2.0</td>\n",
       "      <td>6.0</td>\n",
       "      <td>16.0</td>\n",
       "      <td>0.0</td>\n",
       "      <td>1</td>\n",
       "      <td>Off</td>\n",
       "      <td>24.0</td>\n",
       "      <td>6.527176e+08</td>\n",
       "      <td>6.527175e+08</td>\n",
       "      <td>0.924935</td>\n",
       "      <td>0.924934</td>\n",
       "    </tr>\n",
       "    <tr>\n",
       "      <th>1065</th>\n",
       "      <td>65043_12</td>\n",
       "      <td>65043</td>\n",
       "      <td>12</td>\n",
       "      <td>4.0</td>\n",
       "      <td>7.0</td>\n",
       "      <td>14.0</td>\n",
       "      <td>0.0</td>\n",
       "      <td>0</td>\n",
       "      <td>Off</td>\n",
       "      <td>25.0</td>\n",
       "      <td>6.562130e+08</td>\n",
       "      <td>6.562133e+08</td>\n",
       "      <td>0.962707</td>\n",
       "      <td>0.962711</td>\n",
       "    </tr>\n",
       "    <tr>\n",
       "      <th>1066</th>\n",
       "      <td>65043_24</td>\n",
       "      <td>65043</td>\n",
       "      <td>24</td>\n",
       "      <td>4.0</td>\n",
       "      <td>8.0</td>\n",
       "      <td>13.0</td>\n",
       "      <td>0.0</td>\n",
       "      <td>0</td>\n",
       "      <td>Off</td>\n",
       "      <td>25.0</td>\n",
       "      <td>7.090661e+08</td>\n",
       "      <td>7.090660e+08</td>\n",
       "      <td>1.533859</td>\n",
       "      <td>1.533859</td>\n",
       "    </tr>\n",
       "    <tr>\n",
       "      <th>1067</th>\n",
       "      <td>65043_48</td>\n",
       "      <td>65043</td>\n",
       "      <td>48</td>\n",
       "      <td>7.0</td>\n",
       "      <td>6.0</td>\n",
       "      <td>13.0</td>\n",
       "      <td>0.0</td>\n",
       "      <td>0</td>\n",
       "      <td>Off</td>\n",
       "      <td>26.0</td>\n",
       "      <td>6.272391e+08</td>\n",
       "      <td>6.272385e+08</td>\n",
       "      <td>0.649604</td>\n",
       "      <td>0.649598</td>\n",
       "    </tr>\n",
       "  </tbody>\n",
       "</table>\n",
       "<p>1068 rows × 14 columns</p>\n",
       "</div>"
      ],
      "text/plain": [
       "      visit_id  patient_id  visit_month  updrs_1  updrs_2  updrs_3  updrs_4  \\\n",
       "0         55_0          55            0     10.0      6.0     15.0      0.0   \n",
       "1         55_6          55            6      8.0     10.0     34.0      0.0   \n",
       "2        55_12          55           12     10.0     10.0     41.0      0.0   \n",
       "3        55_36          55           36     17.0     18.0     51.0      0.0   \n",
       "4        942_6         942            6      8.0      2.0     21.0      0.0   \n",
       "...        ...         ...          ...      ...      ...      ...      ...   \n",
       "1063  64674_84       64674           84     11.0     15.0     45.0      4.0   \n",
       "1064   65043_0       65043            0      2.0      6.0     16.0      0.0   \n",
       "1065  65043_12       65043           12      4.0      7.0     14.0      0.0   \n",
       "1066  65043_24       65043           24      4.0      8.0     13.0      0.0   \n",
       "1067  65043_48       65043           48      7.0      6.0     13.0      0.0   \n",
       "\n",
       "      updrs_4_missing clinical_state_on_medication  Total_UPDRS           NPX  \\\n",
       "0                   1                           On         31.0  6.965313e+08   \n",
       "1                   1                           On         52.0  6.413644e+08   \n",
       "2                   0                           On         61.0  6.983249e+08   \n",
       "3                   0                           On         86.0  7.649231e+08   \n",
       "4                   1                          Off         31.0  5.350061e+08   \n",
       "...               ...                          ...          ...           ...   \n",
       "1063                0                          Off         75.0  4.292280e+08   \n",
       "1064                1                          Off         24.0  6.527176e+08   \n",
       "1065                0                          Off         25.0  6.562130e+08   \n",
       "1066                0                          Off         25.0  7.090661e+08   \n",
       "1067                0                          Off         26.0  6.272391e+08   \n",
       "\n",
       "      PeptideAbundance  Standardized_NPX  Peptide Abundance Standardized  \n",
       "0         6.965313e+08          1.398404                        1.398403  \n",
       "1         6.413646e+08          0.802248                        0.802250  \n",
       "2         6.983249e+08          1.417786                        1.417786  \n",
       "3         7.649234e+08          2.137472                        2.137476  \n",
       "4         5.350063e+08         -0.347103                       -0.347101  \n",
       "...                ...               ...                             ...  \n",
       "1063      4.292285e+08         -1.490184                       -1.490179  \n",
       "1064      6.527175e+08          0.924935                        0.924934  \n",
       "1065      6.562133e+08          0.962707                        0.962711  \n",
       "1066      7.090660e+08          1.533859                        1.533859  \n",
       "1067      6.272385e+08          0.649604                        0.649598  \n",
       "\n",
       "[1068 rows x 14 columns]"
      ]
     },
     "execution_count": 58,
     "metadata": {},
     "output_type": "execute_result"
    }
   ],
   "source": [
    "#MergingData \n",
    "\n",
    "Merged_data = pd.merge(Peptides, Proteins, on=['visit_id'])\n",
    " \n",
    "Merged_data2 = pd.merge(Final_clinical_data, Merged_data, on='visit_id')\n",
    "\n",
    "Final_merge = Merged_data2[['visit_id', 'patient_id', 'visit_month', 'updrs_1', 'updrs_2', 'updrs_3', 'updrs_4', 'updrs_4_missing', 'clinical_state_on_medication', 'Total_UPDRS', 'NPX', 'PeptideAbundance', 'Standardized_NPX', 'Peptide Abundance Standardized']]\n",
    "\n",
    "Final_merge"
   ]
  },
  {
   "cell_type": "markdown",
   "id": "85885a7d",
   "metadata": {},
   "source": []
  },
  {
   "cell_type": "markdown",
   "id": "dfcdfe05",
   "metadata": {},
   "source": [
    "# II - DATA EXPLORATION"
   ]
  },
  {
   "cell_type": "markdown",
   "id": "e2c41ba5",
   "metadata": {},
   "source": [
    "### 1 - Plotting clinical Data \n"
   ]
  },
  {
   "cell_type": "code",
   "execution_count": 59,
   "id": "4375c4ea",
   "metadata": {},
   "outputs": [
    {
     "data": {
      "text/plain": [
       "248"
      ]
     },
     "execution_count": 59,
     "metadata": {},
     "output_type": "execute_result"
    }
   ],
   "source": [
    "# Grouping the last visit_id based on Total UPDRS from the final clinical data.\n",
    "\n",
    "Final_clinical_data_graphical = Final_merge.drop_duplicates(subset=['patient_id'], keep='last')\n",
    "Final_clinical_data_graphical\n",
    "UPDRS = Final_clinical_data_graphical['Total_UPDRS'].values\n",
    "len(UPDRS)"
   ]
  },
  {
   "cell_type": "code",
   "execution_count": 60,
   "id": "1e1abaca",
   "metadata": {},
   "outputs": [
    {
     "name": "stderr",
     "output_type": "stream",
     "text": [
      "C:\\Users\\Juan David\\AppData\\Local\\Temp\\ipykernel_13188\\2054673643.py:17: SettingWithCopyWarning: \n",
      "A value is trying to be set on a copy of a slice from a DataFrame.\n",
      "Try using .loc[row_indexer,col_indexer] = value instead\n",
      "\n",
      "See the caveats in the documentation: https://pandas.pydata.org/pandas-docs/stable/user_guide/indexing.html#returning-a-view-versus-a-copy\n",
      "  Final_clinical_data_graphical[\"UPDRS_Score\"] = np.select(Conditions, values, default=0)\n"
     ]
    },
    {
     "data": {
      "text/html": [
       "<div>\n",
       "<style scoped>\n",
       "    .dataframe tbody tr th:only-of-type {\n",
       "        vertical-align: middle;\n",
       "    }\n",
       "\n",
       "    .dataframe tbody tr th {\n",
       "        vertical-align: top;\n",
       "    }\n",
       "\n",
       "    .dataframe thead th {\n",
       "        text-align: right;\n",
       "    }\n",
       "</style>\n",
       "<table border=\"1\" class=\"dataframe\">\n",
       "  <thead>\n",
       "    <tr style=\"text-align: right;\">\n",
       "      <th></th>\n",
       "      <th>visit_id</th>\n",
       "      <th>patient_id</th>\n",
       "      <th>visit_month</th>\n",
       "      <th>updrs_1</th>\n",
       "      <th>updrs_2</th>\n",
       "      <th>updrs_3</th>\n",
       "      <th>updrs_4</th>\n",
       "      <th>updrs_4_missing</th>\n",
       "      <th>clinical_state_on_medication</th>\n",
       "      <th>Total_UPDRS</th>\n",
       "      <th>NPX</th>\n",
       "      <th>PeptideAbundance</th>\n",
       "      <th>Standardized_NPX</th>\n",
       "      <th>Peptide Abundance Standardized</th>\n",
       "      <th>UPDRS_Score</th>\n",
       "    </tr>\n",
       "  </thead>\n",
       "  <tbody>\n",
       "    <tr>\n",
       "      <th>3</th>\n",
       "      <td>55_36</td>\n",
       "      <td>55</td>\n",
       "      <td>36</td>\n",
       "      <td>17.0</td>\n",
       "      <td>18.0</td>\n",
       "      <td>51.0</td>\n",
       "      <td>0.0</td>\n",
       "      <td>0</td>\n",
       "      <td>On</td>\n",
       "      <td>86.0</td>\n",
       "      <td>7.649231e+08</td>\n",
       "      <td>7.649234e+08</td>\n",
       "      <td>2.137472</td>\n",
       "      <td>2.137476</td>\n",
       "      <td>3</td>\n",
       "    </tr>\n",
       "    <tr>\n",
       "      <th>7</th>\n",
       "      <td>942_48</td>\n",
       "      <td>942</td>\n",
       "      <td>48</td>\n",
       "      <td>2.0</td>\n",
       "      <td>6.0</td>\n",
       "      <td>35.0</td>\n",
       "      <td>0.0</td>\n",
       "      <td>0</td>\n",
       "      <td>Off</td>\n",
       "      <td>43.0</td>\n",
       "      <td>5.979835e+08</td>\n",
       "      <td>5.979831e+08</td>\n",
       "      <td>0.333456</td>\n",
       "      <td>0.333452</td>\n",
       "      <td>2</td>\n",
       "    </tr>\n",
       "    <tr>\n",
       "      <th>11</th>\n",
       "      <td>1517_60</td>\n",
       "      <td>1517</td>\n",
       "      <td>60</td>\n",
       "      <td>19.0</td>\n",
       "      <td>18.0</td>\n",
       "      <td>39.0</td>\n",
       "      <td>10.0</td>\n",
       "      <td>0</td>\n",
       "      <td>Off</td>\n",
       "      <td>86.0</td>\n",
       "      <td>5.840639e+08</td>\n",
       "      <td>5.840636e+08</td>\n",
       "      <td>0.183036</td>\n",
       "      <td>0.183032</td>\n",
       "      <td>3</td>\n",
       "    </tr>\n",
       "    <tr>\n",
       "      <th>14</th>\n",
       "      <td>1923_36</td>\n",
       "      <td>1923</td>\n",
       "      <td>36</td>\n",
       "      <td>3.0</td>\n",
       "      <td>0.0</td>\n",
       "      <td>1.0</td>\n",
       "      <td>0.0</td>\n",
       "      <td>1</td>\n",
       "      <td>Unknown</td>\n",
       "      <td>4.0</td>\n",
       "      <td>7.711963e+08</td>\n",
       "      <td>7.711966e+08</td>\n",
       "      <td>2.205263</td>\n",
       "      <td>2.205267</td>\n",
       "      <td>0</td>\n",
       "    </tr>\n",
       "    <tr>\n",
       "      <th>18</th>\n",
       "      <td>2660_48</td>\n",
       "      <td>2660</td>\n",
       "      <td>48</td>\n",
       "      <td>6.0</td>\n",
       "      <td>0.0</td>\n",
       "      <td>0.0</td>\n",
       "      <td>0.0</td>\n",
       "      <td>1</td>\n",
       "      <td>Unknown</td>\n",
       "      <td>6.0</td>\n",
       "      <td>6.153522e+08</td>\n",
       "      <td>6.153520e+08</td>\n",
       "      <td>0.521149</td>\n",
       "      <td>0.521147</td>\n",
       "      <td>0</td>\n",
       "    </tr>\n",
       "    <tr>\n",
       "      <th>...</th>\n",
       "      <td>...</td>\n",
       "      <td>...</td>\n",
       "      <td>...</td>\n",
       "      <td>...</td>\n",
       "      <td>...</td>\n",
       "      <td>...</td>\n",
       "      <td>...</td>\n",
       "      <td>...</td>\n",
       "      <td>...</td>\n",
       "      <td>...</td>\n",
       "      <td>...</td>\n",
       "      <td>...</td>\n",
       "      <td>...</td>\n",
       "      <td>...</td>\n",
       "      <td>...</td>\n",
       "    </tr>\n",
       "    <tr>\n",
       "      <th>1046</th>\n",
       "      <td>63875_48</td>\n",
       "      <td>63875</td>\n",
       "      <td>48</td>\n",
       "      <td>3.0</td>\n",
       "      <td>0.0</td>\n",
       "      <td>2.0</td>\n",
       "      <td>0.0</td>\n",
       "      <td>0</td>\n",
       "      <td>Unknown</td>\n",
       "      <td>5.0</td>\n",
       "      <td>5.435102e+08</td>\n",
       "      <td>5.435107e+08</td>\n",
       "      <td>-0.255204</td>\n",
       "      <td>-0.255199</td>\n",
       "      <td>0</td>\n",
       "    </tr>\n",
       "    <tr>\n",
       "      <th>1052</th>\n",
       "      <td>63889_60</td>\n",
       "      <td>63889</td>\n",
       "      <td>60</td>\n",
       "      <td>6.0</td>\n",
       "      <td>5.0</td>\n",
       "      <td>28.0</td>\n",
       "      <td>2.0</td>\n",
       "      <td>0</td>\n",
       "      <td>Off</td>\n",
       "      <td>41.0</td>\n",
       "      <td>5.450832e+08</td>\n",
       "      <td>5.450833e+08</td>\n",
       "      <td>-0.238205</td>\n",
       "      <td>-0.238204</td>\n",
       "      <td>0</td>\n",
       "    </tr>\n",
       "    <tr>\n",
       "      <th>1057</th>\n",
       "      <td>64669_60</td>\n",
       "      <td>64669</td>\n",
       "      <td>60</td>\n",
       "      <td>15.0</td>\n",
       "      <td>15.0</td>\n",
       "      <td>38.0</td>\n",
       "      <td>0.0</td>\n",
       "      <td>0</td>\n",
       "      <td>Off</td>\n",
       "      <td>68.0</td>\n",
       "      <td>5.587043e+08</td>\n",
       "      <td>5.587045e+08</td>\n",
       "      <td>-0.091011</td>\n",
       "      <td>-0.091008</td>\n",
       "      <td>2</td>\n",
       "    </tr>\n",
       "    <tr>\n",
       "      <th>1063</th>\n",
       "      <td>64674_84</td>\n",
       "      <td>64674</td>\n",
       "      <td>84</td>\n",
       "      <td>11.0</td>\n",
       "      <td>15.0</td>\n",
       "      <td>45.0</td>\n",
       "      <td>4.0</td>\n",
       "      <td>0</td>\n",
       "      <td>Off</td>\n",
       "      <td>75.0</td>\n",
       "      <td>4.292280e+08</td>\n",
       "      <td>4.292285e+08</td>\n",
       "      <td>-1.490184</td>\n",
       "      <td>-1.490179</td>\n",
       "      <td>3</td>\n",
       "    </tr>\n",
       "    <tr>\n",
       "      <th>1067</th>\n",
       "      <td>65043_48</td>\n",
       "      <td>65043</td>\n",
       "      <td>48</td>\n",
       "      <td>7.0</td>\n",
       "      <td>6.0</td>\n",
       "      <td>13.0</td>\n",
       "      <td>0.0</td>\n",
       "      <td>0</td>\n",
       "      <td>Off</td>\n",
       "      <td>26.0</td>\n",
       "      <td>6.272391e+08</td>\n",
       "      <td>6.272385e+08</td>\n",
       "      <td>0.649604</td>\n",
       "      <td>0.649598</td>\n",
       "      <td>1</td>\n",
       "    </tr>\n",
       "  </tbody>\n",
       "</table>\n",
       "<p>248 rows × 15 columns</p>\n",
       "</div>"
      ],
      "text/plain": [
       "      visit_id  patient_id  visit_month  updrs_1  updrs_2  updrs_3  updrs_4  \\\n",
       "3        55_36          55           36     17.0     18.0     51.0      0.0   \n",
       "7       942_48         942           48      2.0      6.0     35.0      0.0   \n",
       "11     1517_60        1517           60     19.0     18.0     39.0     10.0   \n",
       "14     1923_36        1923           36      3.0      0.0      1.0      0.0   \n",
       "18     2660_48        2660           48      6.0      0.0      0.0      0.0   \n",
       "...        ...         ...          ...      ...      ...      ...      ...   \n",
       "1046  63875_48       63875           48      3.0      0.0      2.0      0.0   \n",
       "1052  63889_60       63889           60      6.0      5.0     28.0      2.0   \n",
       "1057  64669_60       64669           60     15.0     15.0     38.0      0.0   \n",
       "1063  64674_84       64674           84     11.0     15.0     45.0      4.0   \n",
       "1067  65043_48       65043           48      7.0      6.0     13.0      0.0   \n",
       "\n",
       "      updrs_4_missing clinical_state_on_medication  Total_UPDRS           NPX  \\\n",
       "3                   0                           On         86.0  7.649231e+08   \n",
       "7                   0                          Off         43.0  5.979835e+08   \n",
       "11                  0                          Off         86.0  5.840639e+08   \n",
       "14                  1                      Unknown          4.0  7.711963e+08   \n",
       "18                  1                      Unknown          6.0  6.153522e+08   \n",
       "...               ...                          ...          ...           ...   \n",
       "1046                0                      Unknown          5.0  5.435102e+08   \n",
       "1052                0                          Off         41.0  5.450832e+08   \n",
       "1057                0                          Off         68.0  5.587043e+08   \n",
       "1063                0                          Off         75.0  4.292280e+08   \n",
       "1067                0                          Off         26.0  6.272391e+08   \n",
       "\n",
       "      PeptideAbundance  Standardized_NPX  Peptide Abundance Standardized  \\\n",
       "3         7.649234e+08          2.137472                        2.137476   \n",
       "7         5.979831e+08          0.333456                        0.333452   \n",
       "11        5.840636e+08          0.183036                        0.183032   \n",
       "14        7.711966e+08          2.205263                        2.205267   \n",
       "18        6.153520e+08          0.521149                        0.521147   \n",
       "...                ...               ...                             ...   \n",
       "1046      5.435107e+08         -0.255204                       -0.255199   \n",
       "1052      5.450833e+08         -0.238205                       -0.238204   \n",
       "1057      5.587045e+08         -0.091011                       -0.091008   \n",
       "1063      4.292285e+08         -1.490184                       -1.490179   \n",
       "1067      6.272385e+08          0.649604                        0.649598   \n",
       "\n",
       "      UPDRS_Score  \n",
       "3               3  \n",
       "7               2  \n",
       "11              3  \n",
       "14              0  \n",
       "18              0  \n",
       "...           ...  \n",
       "1046            0  \n",
       "1052            0  \n",
       "1057            2  \n",
       "1063            3  \n",
       "1067            1  \n",
       "\n",
       "[248 rows x 15 columns]"
      ]
     },
     "execution_count": 60,
     "metadata": {},
     "output_type": "execute_result"
    }
   ],
   "source": [
    "Conditions = [\n",
    "\n",
    "    Final_clinical_data_graphical[\"Total_UPDRS\"] <= 15,\n",
    "\n",
    "    (Final_clinical_data_graphical[\"Total_UPDRS\"] > 16) & (Final_clinical_data_graphical[\"Total_UPDRS\"] <= 40),\n",
    "\n",
    "    (Final_clinical_data_graphical[\"Total_UPDRS\"] > 41) & (Final_clinical_data_graphical[\"Total_UPDRS\"] <= 70),\n",
    "\n",
    "    (Final_clinical_data_graphical[\"Total_UPDRS\"] > 71) & (Final_clinical_data_graphical[\"Total_UPDRS\"] <= 100),\n",
    "\n",
    "    Final_clinical_data_graphical[\"Total_UPDRS\"] > 100\n",
    "\n",
    "]\n",
    " \n",
    "values = [0, 1, 2, 3, 4]\n",
    "\n",
    "Final_clinical_data_graphical[\"UPDRS_Score\"] = np.select(Conditions, values, default=0)\n",
    "Final_clinical_data_graphical"
   ]
  },
  {
   "cell_type": "code",
   "execution_count": 61,
   "id": "8194bd0e",
   "metadata": {},
   "outputs": [
    {
     "data": {
      "image/png": "[encoded data removed]",
      "text/plain": [
       "<Figure size 640x480 with 1 Axes>"
      ]
     },
     "metadata": {},
     "output_type": "display_data"
    }
   ],
   "source": [
    "score_counts = Final_clinical_data_graphical[\"UPDRS_Score\"].value_counts()\n",
    "score_counts\n",
    "labels = ['Slight', 'Mild', 'Moderate', 'Normal', 'Severe']\n",
    "plt.pie(score_counts, autopct='%1.0f%%',labels=labels, startangle=180, colors=['#66b3ff','#99ff99','#ffcc99','#ff6666', '#79e0d6'])\n",
    "plt.title('Score distribution')\n",
    " \n",
    "plt.show()"
   ]
  },
  {
   "cell_type": "code",
   "execution_count": 62,
   "id": "13018541",
   "metadata": {},
   "outputs": [
    {
     "data": {
      "text/plain": [
       "0    91\n",
       "2    70\n",
       "1    63\n",
       "3    21\n",
       "4     3\n",
       "Name: UPDRS_Score, dtype: int64"
      ]
     },
     "execution_count": 62,
     "metadata": {},
     "output_type": "execute_result"
    }
   ],
   "source": [
    "# UPDRS Range values for each range \n",
    "\n",
    "Final_clinical_data_graphical['UPDRS_Score'].value_counts()"
   ]
  },
  {
   "cell_type": "code",
   "execution_count": 63,
   "id": "805b29e6",
   "metadata": {},
   "outputs": [
    {
     "data": {
      "image/png": "[encoded data removed]",
      "text/plain": [
       "<Figure size 640x480 with 1 Axes>"
      ]
     },
     "metadata": {},
     "output_type": "display_data"
    }
   ],
   "source": [
    "# Graphical representtaion of UPDRS_Score count.\n",
    "\n",
    "Score_counts = Final_clinical_data_graphical['UPDRS_Score'].value_counts().sort_index()\n",
    "\n",
    "# Plotting\n",
    "plt.bar(Score_counts.index, Score_counts.values, color=['#66b3ff', '#99ff99', '#ffcc99', '#ff6666'])\n",
    "plt.xlabel('UPDRS Range')\n",
    "plt.ylabel('Count')\n",
    "plt.title('UPDRS ScoreCounts')\n",
    "#plt.xticks(range_counts.index, range_counts.index)\n",
    "\n",
    "plt.show()\n",
    "\n"
   ]
  },
  {
   "cell_type": "markdown",
   "id": "efd17870",
   "metadata": {},
   "source": [
    "So for the next step we're going to choose a patient for each score categorie and visualize their different updrs levels and their UPDRS Total"
   ]
  },
  {
   "cell_type": "code",
   "execution_count": 64,
   "id": "da06cf05",
   "metadata": {},
   "outputs": [
    {
     "data": {
      "image/png": "[encoded data removed]",
      "text/plain": [
       "<Figure size 640x480 with 1 Axes>"
      ]
     },
     "metadata": {},
     "output_type": "display_data"
    }
   ],
   "source": [
    "# Fetch data for a randomly chosen patient with id from categroy 0, patient : 6211\t\t\n",
    "\n",
    "\n",
    "plot_df = Final_clinical_data[Final_clinical_data[\"patient_id\"]==6211]\n",
    "fig, ax = plt.subplots(1, 1)\n",
    "\n",
    "ax.plot(plot_df['visit_month'], plot_df['updrs_1'], marker='o', color=\"#CC6677\", label=\"updrs_1\", linestyle=\"-\")\n",
    "ax.plot(plot_df['visit_month'], plot_df['updrs_2'], marker='o', color=\"#88CCEE\", label=\"updrs_2\", linestyle=\"-\")\n",
    "ax.plot(plot_df['visit_month'], plot_df['updrs_3'], marker='o', color=\"#DDCC77\", label=\"updrs_3\", linestyle=\"-\")\n",
    "ax.plot(plot_df['visit_month'], plot_df['updrs_4'], marker='o', color=\"#44AA99\", label=\"updrs_4\", linestyle=\"-\")\n",
    "ax.plot(plot_df['visit_month'], plot_df['Total_UPDRS'], marker='o', color=\"#003399\", label=\"Total UPDRS\", linestyle=\"-\")\n",
    "\n",
    "\n",
    "ax.legend()\n",
    "plt.show()\n"
   ]
  },
  {
   "cell_type": "code",
   "execution_count": 65,
   "id": "90652f39",
   "metadata": {},
   "outputs": [
    {
     "data": {
      "image/png": "[encoded data removed]",
      "text/plain": [
       "<Figure size 640x480 with 1 Axes>"
      ]
     },
     "metadata": {},
     "output_type": "display_data"
    }
   ],
   "source": [
    "# Fetch data for a randomly chosen patient with id from categroy 3, patient : 4923\t\n",
    "\n",
    "\n",
    "plot_df = Final_clinical_data[Final_clinical_data[\"patient_id\"]==4923]\n",
    "fig, ax = plt.subplots(1, 1)\n",
    "\n",
    "ax.plot(plot_df['visit_month'], plot_df['updrs_1'], marker='o', color=\"#CC6677\", label=\"updrs_1\", linestyle=\"-\")\n",
    "ax.plot(plot_df['visit_month'], plot_df['updrs_2'], marker='o', color=\"#88CCEE\", label=\"updrs_2\", linestyle=\"-\")\n",
    "ax.plot(plot_df['visit_month'], plot_df['updrs_3'], marker='o', color=\"#DDCC77\", label=\"updrs_3\", linestyle=\"-\")\n",
    "ax.plot(plot_df['visit_month'], plot_df['updrs_4'], marker='o', color=\"#44AA99\", label=\"updrs_4\", linestyle=\"-\")\n",
    "ax.plot(plot_df['visit_month'], plot_df['Total_UPDRS'], marker='o', color=\"#003399\", label=\"Total UPDRS\", linestyle=\"-\")\n",
    "\n",
    "\n",
    "ax.legend()\n",
    "plt.show()\n"
   ]
  },
  {
   "cell_type": "code",
   "execution_count": 66,
   "id": "0975b85d",
   "metadata": {},
   "outputs": [
    {
     "data": {
      "image/png": "[encoded data removed]",
      "text/plain": [
       "<Figure size 640x480 with 1 Axes>"
      ]
     },
     "metadata": {},
     "output_type": "display_data"
    }
   ],
   "source": [
    "# Fetch data for a randomly chosen patient with id from categroy 4, patient : 40650\n",
    "\n",
    "\n",
    "plot_df = Final_clinical_data[Final_clinical_data[\"patient_id\"]== 40650]\n",
    "fig, ax = plt.subplots(1, 1)\n",
    "\n",
    "ax.plot(plot_df['visit_month'], plot_df['updrs_1'], marker='o', color=\"#CC6677\", label=\"updrs_1\", linestyle=\"-\")\n",
    "ax.plot(plot_df['visit_month'], plot_df['updrs_2'], marker='o', color=\"#88CCEE\", label=\"updrs_2\", linestyle=\"-\")\n",
    "ax.plot(plot_df['visit_month'], plot_df['updrs_3'], marker='o', color=\"#DDCC77\", label=\"updrs_3\", linestyle=\"-\")\n",
    "ax.plot(plot_df['visit_month'], plot_df['updrs_4'], marker='o', color=\"#44AA99\", label=\"updrs_4\", linestyle=\"-\")\n",
    "ax.plot(plot_df['visit_month'], plot_df['Total_UPDRS'], marker='o', color=\"#003399\", label=\"Total UPDRS\", linestyle=\"-\")\n",
    "\n",
    "\n",
    "ax.legend()\n",
    "plt.show()\n"
   ]
  },
  {
   "cell_type": "markdown",
   "id": "17c29c9a",
   "metadata": {},
   "source": [
    "After individually analyzing five distinct patients, a recurring trend emerged where UPDRS3 consistently exhibited the highest scores among updrs_1, updrs_2, updrs_3, and updrs_4. This trend, observed across multiple patients, suggests that UPDRS3 might be a prominent contributing factor influencing the severity of Parkinson's disease symptoms for these individuals"
   ]
  },
  {
   "cell_type": "code",
   "execution_count": 67,
   "id": "1fb9881c",
   "metadata": {},
   "outputs": [
    {
     "data": {
      "text/plain": [
       "248"
      ]
     },
     "execution_count": 67,
     "metadata": {},
     "output_type": "execute_result"
    }
   ],
   "source": [
    "len(Final_clinical_data_graphical)"
   ]
  },
  {
   "cell_type": "markdown",
   "id": "499acd01",
   "metadata": {},
   "source": [
    "### 2 - Stastical studies and observations "
   ]
  },
  {
   "cell_type": "code",
   "execution_count": 68,
   "id": "e7639fa0",
   "metadata": {},
   "outputs": [
    {
     "name": "stderr",
     "output_type": "stream",
     "text": [
      "c:\\ProgramData\\Anaconda3\\lib\\site-packages\\seaborn\\distributions.py:2619: FutureWarning: `distplot` is a deprecated function and will be removed in a future version. Please adapt your code to use either `displot` (a figure-level function with similar flexibility) or `histplot` (an axes-level function for histograms).\n",
      "  warnings.warn(msg, FutureWarning)\n"
     ]
    },
    {
     "data": {
      "image/png": "[encoded data removed]",
      "text/plain": [
       "<Figure size 640x480 with 1 Axes>"
      ]
     },
     "metadata": {},
     "output_type": "display_data"
    }
   ],
   "source": [
    "\n",
    "# Plotting the distribution of 'PeptideAbundance'\n",
    "\n",
    "sns.distplot(Peptides['PeptideAbundance'], fit=norm, kde=False, bins=20, color='g', hist_kws={'edgecolor':'black'})\n",
    "plt.show()\n"
   ]
  },
  {
   "cell_type": "code",
   "execution_count": 69,
   "id": "82484c2d",
   "metadata": {},
   "outputs": [
    {
     "data": {
      "image/png": "[encoded data removed]",
      "text/plain": [
       "<Figure size 640x480 with 1 Axes>"
      ]
     },
     "metadata": {},
     "output_type": "display_data"
    }
   ],
   "source": [
    "# Plotting the distribution of 'NPX' (same graph as above)\n",
    "\n",
    "sns.distplot(Proteins['NPX'], fit=norm, kde=False, bins=20, color='g', hist_kws={'edgecolor':'black'})\n",
    "plt.show()"
   ]
  },
  {
   "cell_type": "code",
   "execution_count": 70,
   "id": "3dd491cf",
   "metadata": {},
   "outputs": [
    {
     "data": {
      "image/png": "[encoded data removed]",
      "text/plain": [
       "<Figure size 640x480 with 1 Axes>"
      ]
     },
     "metadata": {},
     "output_type": "display_data"
    }
   ],
   "source": [
    "\n",
    "# Plotting the distribution of 'Total_UPDRS'\n",
    "\n",
    "sns.distplot(UPDRS, fit=norm, kde=False, bins=20, color='g', hist_kws={'edgecolor':'black'})\n",
    "plt.show()\n"
   ]
  },
  {
   "cell_type": "code",
   "execution_count": 71,
   "id": "38f51625",
   "metadata": {},
   "outputs": [
    {
     "data": {
      "image/png": "[encoded data removed]",
      "text/plain": [
       "<Figure size 900x500 with 1 Axes>"
      ]
     },
     "metadata": {},
     "output_type": "display_data"
    }
   ],
   "source": [
    "\n",
    "#creating a numpy array with our patients (instead of having unrognized numbers assigend to each patient we are rescaling from 1 to 562)\n",
    "\n",
    "Patients = list(range(0,len(UPDRS)))\n",
    "# Graphical representtaion of Total_UPDRS.\n",
    "plt.figure(figsize=(9, 5))\n",
    "plt.scatter(Patients, UPDRS, color='magenta', edgecolors='black')\n",
    "plt.xlabel('Number of patients')\n",
    "plt.ylabel('Total_UPDRS')\n",
    "plt.show()"
   ]
  },
  {
   "cell_type": "code",
   "execution_count": 72,
   "id": "71291553",
   "metadata": {},
   "outputs": [
    {
     "data": {
      "text/plain": [
       "Text(0, 0.5, 'updrs_1')"
      ]
     },
     "execution_count": 72,
     "metadata": {},
     "output_type": "execute_result"
    },
    {
     "data": {
      "image/png": "[encoded data removed]",
      "text/plain": [
       "<Figure size 2000x1000 with 1 Axes>"
      ]
     },
     "metadata": {},
     "output_type": "display_data"
    }
   ],
   "source": [
    "# Graphical representtaion of UPDRS_1.\n",
    "\n",
    "plt.figure(figsize=(20, 10))\n",
    "plt.subplot(2, 2, 1)\n",
    "plt.scatter(Patients, Final_clinical_data_graphical['updrs_1'], color='g', edgecolors='black')\n",
    "plt.xlabel('Number of patients')\n",
    "plt.ylabel('updrs_1')"
   ]
  },
  {
   "cell_type": "markdown",
   "id": "938244ef",
   "metadata": {},
   "source": [
    "Varies between 0 and 35"
   ]
  },
  {
   "cell_type": "code",
   "execution_count": 73,
   "id": "3adda25d",
   "metadata": {},
   "outputs": [
    {
     "data": {
      "text/plain": [
       "Text(0, 0.5, 'updrs_2')"
      ]
     },
     "execution_count": 73,
     "metadata": {},
     "output_type": "execute_result"
    },
    {
     "data": {
      "image/png": "[encoded data removed]",
      "text/plain": [
       "<Figure size 2000x1000 with 1 Axes>"
      ]
     },
     "metadata": {},
     "output_type": "display_data"
    }
   ],
   "source": [
    "# Graphical representtaion of UPDRS_2.\n",
    "\n",
    "plt.figure(figsize=(20, 10))\n",
    "plt.subplot(2, 2, 2)\n",
    "plt.scatter(Patients, Final_clinical_data_graphical['updrs_2'], color='b', edgecolors='black')\n",
    "plt.xlabel('Number of patients')\n",
    "plt.ylabel('updrs_2')"
   ]
  },
  {
   "cell_type": "markdown",
   "id": "62f08082",
   "metadata": {},
   "source": [
    "Varies between 0 and 42"
   ]
  },
  {
   "cell_type": "code",
   "execution_count": 74,
   "id": "32284101",
   "metadata": {},
   "outputs": [
    {
     "data": {
      "text/plain": [
       "Text(0, 0.5, 'updrs_3')"
      ]
     },
     "execution_count": 74,
     "metadata": {},
     "output_type": "execute_result"
    },
    {
     "data": {
      "image/png": "[encoded data removed]",
      "text/plain": [
       "<Figure size 2000x1000 with 1 Axes>"
      ]
     },
     "metadata": {},
     "output_type": "display_data"
    }
   ],
   "source": [
    "# Graphical representtaion of UPDRS_3.\n",
    "\n",
    "plt.figure(figsize=(20, 10))\n",
    "plt.subplot(2, 2, 3)\n",
    "plt.scatter(Patients, Final_clinical_data_graphical['updrs_3'], color='y', edgecolors='black')\n",
    "plt.xlabel('Number of patients')\n",
    "plt.ylabel('updrs_3')"
   ]
  },
  {
   "cell_type": "markdown",
   "id": "b1b09587",
   "metadata": {},
   "source": [
    "Varies between 0 and 85"
   ]
  },
  {
   "cell_type": "code",
   "execution_count": 75,
   "id": "e02b448e",
   "metadata": {},
   "outputs": [
    {
     "data": {
      "text/plain": [
       "Text(0, 0.5, 'updrs_4')"
      ]
     },
     "execution_count": 75,
     "metadata": {},
     "output_type": "execute_result"
    },
    {
     "data": {
      "image/png": "[encoded data removed]",
      "text/plain": [
       "<Figure size 2000x1000 with 1 Axes>"
      ]
     },
     "metadata": {},
     "output_type": "display_data"
    }
   ],
   "source": [
    "# Graphical representtaion of UPDRS_4.\n",
    "\n",
    "plt.figure(figsize=(20, 10))\n",
    "plt.subplot(2, 2, 4)\n",
    "plt.scatter(Patients, Final_clinical_data_graphical['updrs_4'], color='pink', edgecolors='black')\n",
    "plt.xlabel('Number of patients')\n",
    "plt.ylabel('updrs_4')"
   ]
  },
  {
   "cell_type": "markdown",
   "id": "791c34d1",
   "metadata": {},
   "source": [
    "Varies between 0 and 18"
   ]
  },
  {
   "cell_type": "code",
   "execution_count": 76,
   "metadata": {},
   "outputs": [
    {
     "data": {
      "image/png": "[encoded data removed]",
      "text/plain": [
       "<Figure size 800x600 with 2 Axes>"
      ]
     },
     "metadata": {},
     "output_type": "display_data"
    }
   ],
   "source": [
    "\n",
    "updrs_subset = Final_clinical_data_graphical[['updrs_1', 'updrs_2', 'updrs_3', 'updrs_4', 'Total_UPDRS']]\n",
    "\n",
    "correlation_matrix = updrs_subset.corr()\n",
    "\n",
    "# Creating the heatmap\n",
    "plt.figure(figsize=(8, 6))\n",
    "sns.heatmap(correlation_matrix, annot=True, cmap='coolwarm', fmt='.2f')\n",
    "plt.title('Correlation Heatmap of UPDRS Scores')\n",
    "plt.show()\n"
   ]
  },
  {
   "cell_type": "markdown",
   "id": "07543dd4",
   "metadata": {},
   "source": [
    "updrs_2 and updrs_3 seem to be highly correlated with Total_UPDRS, which makes sense since they have the highest upper bound ranged compared to updrs_1 and updrs_2"
   ]
  },
  {
   "cell_type": "code",
   "execution_count": 77,
   "id": "6b6b5666",
   "metadata": {},
   "outputs": [
    {
     "data": {
      "text/html": [
       "<div>\n",
       "<style scoped>\n",
       "    .dataframe tbody tr th:only-of-type {\n",
       "        vertical-align: middle;\n",
       "    }\n",
       "\n",
       "    .dataframe tbody tr th {\n",
       "        vertical-align: top;\n",
       "    }\n",
       "\n",
       "    .dataframe thead th {\n",
       "        text-align: right;\n",
       "    }\n",
       "</style>\n",
       "<table border=\"1\" class=\"dataframe\">\n",
       "  <thead>\n",
       "    <tr style=\"text-align: right;\">\n",
       "      <th></th>\n",
       "      <th>visit_id</th>\n",
       "      <th>patient_id</th>\n",
       "      <th>visit_month</th>\n",
       "      <th>updrs_1</th>\n",
       "      <th>updrs_2</th>\n",
       "      <th>updrs_3</th>\n",
       "      <th>updrs_4</th>\n",
       "      <th>updrs_4_missing</th>\n",
       "      <th>clinical_state_on_medication</th>\n",
       "      <th>Total_UPDRS</th>\n",
       "      <th>NPX</th>\n",
       "      <th>PeptideAbundance</th>\n",
       "      <th>Standardized_NPX</th>\n",
       "      <th>Peptide Abundance Standardized</th>\n",
       "      <th>UPDRS_Score</th>\n",
       "    </tr>\n",
       "  </thead>\n",
       "  <tbody>\n",
       "    <tr>\n",
       "      <th>3</th>\n",
       "      <td>55_36</td>\n",
       "      <td>55</td>\n",
       "      <td>36</td>\n",
       "      <td>17.0</td>\n",
       "      <td>18.0</td>\n",
       "      <td>51.0</td>\n",
       "      <td>0.0</td>\n",
       "      <td>0</td>\n",
       "      <td>On</td>\n",
       "      <td>86.0</td>\n",
       "      <td>7.649231e+08</td>\n",
       "      <td>7.649234e+08</td>\n",
       "      <td>2.137472</td>\n",
       "      <td>2.137476</td>\n",
       "      <td>3</td>\n",
       "    </tr>\n",
       "    <tr>\n",
       "      <th>7</th>\n",
       "      <td>942_48</td>\n",
       "      <td>942</td>\n",
       "      <td>48</td>\n",
       "      <td>2.0</td>\n",
       "      <td>6.0</td>\n",
       "      <td>35.0</td>\n",
       "      <td>0.0</td>\n",
       "      <td>0</td>\n",
       "      <td>Off</td>\n",
       "      <td>43.0</td>\n",
       "      <td>5.979835e+08</td>\n",
       "      <td>5.979831e+08</td>\n",
       "      <td>0.333456</td>\n",
       "      <td>0.333452</td>\n",
       "      <td>2</td>\n",
       "    </tr>\n",
       "    <tr>\n",
       "      <th>11</th>\n",
       "      <td>1517_60</td>\n",
       "      <td>1517</td>\n",
       "      <td>60</td>\n",
       "      <td>19.0</td>\n",
       "      <td>18.0</td>\n",
       "      <td>39.0</td>\n",
       "      <td>10.0</td>\n",
       "      <td>0</td>\n",
       "      <td>Off</td>\n",
       "      <td>86.0</td>\n",
       "      <td>5.840639e+08</td>\n",
       "      <td>5.840636e+08</td>\n",
       "      <td>0.183036</td>\n",
       "      <td>0.183032</td>\n",
       "      <td>3</td>\n",
       "    </tr>\n",
       "    <tr>\n",
       "      <th>14</th>\n",
       "      <td>1923_36</td>\n",
       "      <td>1923</td>\n",
       "      <td>36</td>\n",
       "      <td>3.0</td>\n",
       "      <td>0.0</td>\n",
       "      <td>1.0</td>\n",
       "      <td>0.0</td>\n",
       "      <td>1</td>\n",
       "      <td>Unknown</td>\n",
       "      <td>4.0</td>\n",
       "      <td>7.711963e+08</td>\n",
       "      <td>7.711966e+08</td>\n",
       "      <td>2.205263</td>\n",
       "      <td>2.205267</td>\n",
       "      <td>0</td>\n",
       "    </tr>\n",
       "    <tr>\n",
       "      <th>18</th>\n",
       "      <td>2660_48</td>\n",
       "      <td>2660</td>\n",
       "      <td>48</td>\n",
       "      <td>6.0</td>\n",
       "      <td>0.0</td>\n",
       "      <td>0.0</td>\n",
       "      <td>0.0</td>\n",
       "      <td>1</td>\n",
       "      <td>Unknown</td>\n",
       "      <td>6.0</td>\n",
       "      <td>6.153522e+08</td>\n",
       "      <td>6.153520e+08</td>\n",
       "      <td>0.521149</td>\n",
       "      <td>0.521147</td>\n",
       "      <td>0</td>\n",
       "    </tr>\n",
       "  </tbody>\n",
       "</table>\n",
       "</div>"
      ],
      "text/plain": [
       "   visit_id  patient_id  visit_month  updrs_1  updrs_2  updrs_3  updrs_4  \\\n",
       "3     55_36          55           36     17.0     18.0     51.0      0.0   \n",
       "7    942_48         942           48      2.0      6.0     35.0      0.0   \n",
       "11  1517_60        1517           60     19.0     18.0     39.0     10.0   \n",
       "14  1923_36        1923           36      3.0      0.0      1.0      0.0   \n",
       "18  2660_48        2660           48      6.0      0.0      0.0      0.0   \n",
       "\n",
       "    updrs_4_missing clinical_state_on_medication  Total_UPDRS           NPX  \\\n",
       "3                 0                           On         86.0  7.649231e+08   \n",
       "7                 0                          Off         43.0  5.979835e+08   \n",
       "11                0                          Off         86.0  5.840639e+08   \n",
       "14                1                      Unknown          4.0  7.711963e+08   \n",
       "18                1                      Unknown          6.0  6.153522e+08   \n",
       "\n",
       "    PeptideAbundance  Standardized_NPX  Peptide Abundance Standardized  \\\n",
       "3       7.649234e+08          2.137472                        2.137476   \n",
       "7       5.979831e+08          0.333456                        0.333452   \n",
       "11      5.840636e+08          0.183036                        0.183032   \n",
       "14      7.711966e+08          2.205263                        2.205267   \n",
       "18      6.153520e+08          0.521149                        0.521147   \n",
       "\n",
       "    UPDRS_Score  \n",
       "3             3  \n",
       "7             2  \n",
       "11            3  \n",
       "14            0  \n",
       "18            0  "
      ]
     },
     "execution_count": 77,
     "metadata": {},
     "output_type": "execute_result"
    }
   ],
   "source": [
    "Final_clinical_data_graphical.head()"
   ]
  },
  {
   "cell_type": "code",
   "execution_count": 78,
   "id": "a5538091",
   "metadata": {},
   "outputs": [
    {
     "data": {
      "text/html": [
       "<div>\n",
       "<style scoped>\n",
       "    .dataframe tbody tr th:only-of-type {\n",
       "        vertical-align: middle;\n",
       "    }\n",
       "\n",
       "    .dataframe tbody tr th {\n",
       "        vertical-align: top;\n",
       "    }\n",
       "\n",
       "    .dataframe thead th {\n",
       "        text-align: right;\n",
       "    }\n",
       "</style>\n",
       "<table border=\"1\" class=\"dataframe\">\n",
       "  <thead>\n",
       "    <tr style=\"text-align: right;\">\n",
       "      <th></th>\n",
       "      <th>visit_id</th>\n",
       "      <th>patient_id</th>\n",
       "      <th>visit_month</th>\n",
       "      <th>updrs_1</th>\n",
       "      <th>updrs_2</th>\n",
       "      <th>updrs_3</th>\n",
       "      <th>updrs_4</th>\n",
       "      <th>updrs_4_missing</th>\n",
       "      <th>clinical_state_on_medication</th>\n",
       "      <th>Total_UPDRS</th>\n",
       "    </tr>\n",
       "  </thead>\n",
       "  <tbody>\n",
       "    <tr>\n",
       "      <th>0</th>\n",
       "      <td>55_0</td>\n",
       "      <td>55</td>\n",
       "      <td>0</td>\n",
       "      <td>10.0</td>\n",
       "      <td>6.0</td>\n",
       "      <td>15.0</td>\n",
       "      <td>0.0</td>\n",
       "      <td>1</td>\n",
       "      <td>On</td>\n",
       "      <td>31.0</td>\n",
       "    </tr>\n",
       "    <tr>\n",
       "      <th>1</th>\n",
       "      <td>55_3</td>\n",
       "      <td>55</td>\n",
       "      <td>3</td>\n",
       "      <td>10.0</td>\n",
       "      <td>7.0</td>\n",
       "      <td>25.0</td>\n",
       "      <td>0.0</td>\n",
       "      <td>1</td>\n",
       "      <td>On</td>\n",
       "      <td>42.0</td>\n",
       "    </tr>\n",
       "    <tr>\n",
       "      <th>2</th>\n",
       "      <td>55_6</td>\n",
       "      <td>55</td>\n",
       "      <td>6</td>\n",
       "      <td>8.0</td>\n",
       "      <td>10.0</td>\n",
       "      <td>34.0</td>\n",
       "      <td>0.0</td>\n",
       "      <td>1</td>\n",
       "      <td>On</td>\n",
       "      <td>52.0</td>\n",
       "    </tr>\n",
       "    <tr>\n",
       "      <th>3</th>\n",
       "      <td>55_9</td>\n",
       "      <td>55</td>\n",
       "      <td>9</td>\n",
       "      <td>8.0</td>\n",
       "      <td>9.0</td>\n",
       "      <td>30.0</td>\n",
       "      <td>0.0</td>\n",
       "      <td>0</td>\n",
       "      <td>On</td>\n",
       "      <td>47.0</td>\n",
       "    </tr>\n",
       "    <tr>\n",
       "      <th>4</th>\n",
       "      <td>55_12</td>\n",
       "      <td>55</td>\n",
       "      <td>12</td>\n",
       "      <td>10.0</td>\n",
       "      <td>10.0</td>\n",
       "      <td>41.0</td>\n",
       "      <td>0.0</td>\n",
       "      <td>0</td>\n",
       "      <td>On</td>\n",
       "      <td>61.0</td>\n",
       "    </tr>\n",
       "  </tbody>\n",
       "</table>\n",
       "</div>"
      ],
      "text/plain": [
       "  visit_id  patient_id  visit_month  updrs_1  updrs_2  updrs_3  updrs_4  \\\n",
       "0     55_0          55            0     10.0      6.0     15.0      0.0   \n",
       "1     55_3          55            3     10.0      7.0     25.0      0.0   \n",
       "2     55_6          55            6      8.0     10.0     34.0      0.0   \n",
       "3     55_9          55            9      8.0      9.0     30.0      0.0   \n",
       "4    55_12          55           12     10.0     10.0     41.0      0.0   \n",
       "\n",
       "   updrs_4_missing clinical_state_on_medication  Total_UPDRS  \n",
       "0                1                           On         31.0  \n",
       "1                1                           On         42.0  \n",
       "2                1                           On         52.0  \n",
       "3                0                           On         47.0  \n",
       "4                0                           On         61.0  "
      ]
     },
     "execution_count": 78,
     "metadata": {},
     "output_type": "execute_result"
    }
   ],
   "source": [
    "Final_clinical_data.head()\n"
   ]
  },
  {
   "cell_type": "code",
   "execution_count": 79,
   "id": "2e4a0341",
   "metadata": {},
   "outputs": [
    {
     "data": {
      "text/html": [
       "<div>\n",
       "<style scoped>\n",
       "    .dataframe tbody tr th:only-of-type {\n",
       "        vertical-align: middle;\n",
       "    }\n",
       "\n",
       "    .dataframe tbody tr th {\n",
       "        vertical-align: top;\n",
       "    }\n",
       "\n",
       "    .dataframe thead th {\n",
       "        text-align: right;\n",
       "    }\n",
       "</style>\n",
       "<table border=\"1\" class=\"dataframe\">\n",
       "  <thead>\n",
       "    <tr style=\"text-align: right;\">\n",
       "      <th></th>\n",
       "      <th>visit_id</th>\n",
       "      <th>patient_id</th>\n",
       "      <th>visit_month</th>\n",
       "      <th>updrs_1</th>\n",
       "      <th>updrs_2</th>\n",
       "      <th>updrs_3</th>\n",
       "      <th>updrs_4</th>\n",
       "      <th>updrs_4_missing</th>\n",
       "      <th>clinical_state_on_medication</th>\n",
       "      <th>Total_UPDRS</th>\n",
       "      <th>NPX</th>\n",
       "      <th>PeptideAbundance</th>\n",
       "      <th>Standardized_NPX</th>\n",
       "      <th>Peptide Abundance Standardized</th>\n",
       "    </tr>\n",
       "  </thead>\n",
       "  <tbody>\n",
       "    <tr>\n",
       "      <th>0</th>\n",
       "      <td>55_0</td>\n",
       "      <td>55</td>\n",
       "      <td>0</td>\n",
       "      <td>10.0</td>\n",
       "      <td>6.0</td>\n",
       "      <td>15.0</td>\n",
       "      <td>0.0</td>\n",
       "      <td>1</td>\n",
       "      <td>On</td>\n",
       "      <td>31.0</td>\n",
       "      <td>6.965313e+08</td>\n",
       "      <td>6.965313e+08</td>\n",
       "      <td>1.398404</td>\n",
       "      <td>1.398403</td>\n",
       "    </tr>\n",
       "    <tr>\n",
       "      <th>1</th>\n",
       "      <td>55_6</td>\n",
       "      <td>55</td>\n",
       "      <td>6</td>\n",
       "      <td>8.0</td>\n",
       "      <td>10.0</td>\n",
       "      <td>34.0</td>\n",
       "      <td>0.0</td>\n",
       "      <td>1</td>\n",
       "      <td>On</td>\n",
       "      <td>52.0</td>\n",
       "      <td>6.413644e+08</td>\n",
       "      <td>6.413646e+08</td>\n",
       "      <td>0.802248</td>\n",
       "      <td>0.802250</td>\n",
       "    </tr>\n",
       "    <tr>\n",
       "      <th>2</th>\n",
       "      <td>55_12</td>\n",
       "      <td>55</td>\n",
       "      <td>12</td>\n",
       "      <td>10.0</td>\n",
       "      <td>10.0</td>\n",
       "      <td>41.0</td>\n",
       "      <td>0.0</td>\n",
       "      <td>0</td>\n",
       "      <td>On</td>\n",
       "      <td>61.0</td>\n",
       "      <td>6.983249e+08</td>\n",
       "      <td>6.983249e+08</td>\n",
       "      <td>1.417786</td>\n",
       "      <td>1.417786</td>\n",
       "    </tr>\n",
       "    <tr>\n",
       "      <th>3</th>\n",
       "      <td>55_36</td>\n",
       "      <td>55</td>\n",
       "      <td>36</td>\n",
       "      <td>17.0</td>\n",
       "      <td>18.0</td>\n",
       "      <td>51.0</td>\n",
       "      <td>0.0</td>\n",
       "      <td>0</td>\n",
       "      <td>On</td>\n",
       "      <td>86.0</td>\n",
       "      <td>7.649231e+08</td>\n",
       "      <td>7.649234e+08</td>\n",
       "      <td>2.137472</td>\n",
       "      <td>2.137476</td>\n",
       "    </tr>\n",
       "    <tr>\n",
       "      <th>4</th>\n",
       "      <td>942_6</td>\n",
       "      <td>942</td>\n",
       "      <td>6</td>\n",
       "      <td>8.0</td>\n",
       "      <td>2.0</td>\n",
       "      <td>21.0</td>\n",
       "      <td>0.0</td>\n",
       "      <td>1</td>\n",
       "      <td>Off</td>\n",
       "      <td>31.0</td>\n",
       "      <td>5.350061e+08</td>\n",
       "      <td>5.350063e+08</td>\n",
       "      <td>-0.347103</td>\n",
       "      <td>-0.347101</td>\n",
       "    </tr>\n",
       "  </tbody>\n",
       "</table>\n",
       "</div>"
      ],
      "text/plain": [
       "  visit_id  patient_id  visit_month  updrs_1  updrs_2  updrs_3  updrs_4  \\\n",
       "0     55_0          55            0     10.0      6.0     15.0      0.0   \n",
       "1     55_6          55            6      8.0     10.0     34.0      0.0   \n",
       "2    55_12          55           12     10.0     10.0     41.0      0.0   \n",
       "3    55_36          55           36     17.0     18.0     51.0      0.0   \n",
       "4    942_6         942            6      8.0      2.0     21.0      0.0   \n",
       "\n",
       "   updrs_4_missing clinical_state_on_medication  Total_UPDRS           NPX  \\\n",
       "0                1                           On         31.0  6.965313e+08   \n",
       "1                1                           On         52.0  6.413644e+08   \n",
       "2                0                           On         61.0  6.983249e+08   \n",
       "3                0                           On         86.0  7.649231e+08   \n",
       "4                1                          Off         31.0  5.350061e+08   \n",
       "\n",
       "   PeptideAbundance  Standardized_NPX  Peptide Abundance Standardized  \n",
       "0      6.965313e+08          1.398404                        1.398403  \n",
       "1      6.413646e+08          0.802248                        0.802250  \n",
       "2      6.983249e+08          1.417786                        1.417786  \n",
       "3      7.649234e+08          2.137472                        2.137476  \n",
       "4      5.350063e+08         -0.347103                       -0.347101  "
      ]
     },
     "execution_count": 79,
     "metadata": {},
     "output_type": "execute_result"
    }
   ],
   "source": [
    "Final_merge.head()"
   ]
  },
  {
   "cell_type": "code",
   "execution_count": 80,
   "id": "1bf65fd7",
   "metadata": {},
   "outputs": [
    {
     "data": {
      "image/png": "[encoded data removed]",
      "text/plain": [
       "<Figure size 640x480 with 1 Axes>"
      ]
     },
     "metadata": {},
     "output_type": "display_data"
    }
   ],
   "source": [
    "\n",
    "plt.scatter(Final_clinical_data_graphical['PeptideAbundance'], Final_clinical_data_graphical['NPX'])\n",
    "plt.xlabel('Peptide Abundance')\n",
    "plt.ylabel('NPX')\n",
    "plt.title('Relationship between Summed Peptide Abundance and NPX')\n",
    "plt.show()\n"
   ]
  },
  {
   "cell_type": "code",
   "execution_count": 81,
   "id": "4cbbd224",
   "metadata": {},
   "outputs": [
    {
     "data": {
      "image/png": "[encoded data removed]",
      "text/plain": [
       "<Figure size 800x600 with 2 Axes>"
      ]
     },
     "metadata": {},
     "output_type": "display_data"
    }
   ],
   "source": [
    "\n",
    "NPX_Pepetide_Ab = Final_clinical_data_graphical[['PeptideAbundance', 'NPX']]\n",
    "\n",
    "correlation_matrix2 = NPX_Pepetide_Ab.corr()\n",
    "\n",
    "# Creating the heatmap\n",
    "plt.figure(figsize=(8, 6))\n",
    "sns.heatmap(correlation_matrix2, annot=True, cmap='coolwarm', fmt='.2f')\n",
    "plt.title('Correlation Heatmap of NPX and Peptide Abundance')\n",
    "plt.show()\n"
   ]
  },
  {
   "cell_type": "markdown",
   "id": "56bf556d",
   "metadata": {},
   "source": [
    "There is a very strong relationship between NPX and the summed Peptide abundance for each patient.Given the strong correlation we might consider using either NPX or Peptide Abundance for our machine learning model as they seem to capture similar infformation"
   ]
  },
  {
   "cell_type": "code",
   "execution_count": 82,
   "id": "a3779804",
   "metadata": {},
   "outputs": [
    {
     "data": {
      "text/html": [
       "<div>\n",
       "<style scoped>\n",
       "    .dataframe tbody tr th:only-of-type {\n",
       "        vertical-align: middle;\n",
       "    }\n",
       "\n",
       "    .dataframe tbody tr th {\n",
       "        vertical-align: top;\n",
       "    }\n",
       "\n",
       "    .dataframe thead th {\n",
       "        text-align: right;\n",
       "    }\n",
       "</style>\n",
       "<table border=\"1\" class=\"dataframe\">\n",
       "  <thead>\n",
       "    <tr style=\"text-align: right;\">\n",
       "      <th></th>\n",
       "      <th>visit_id</th>\n",
       "      <th>patient_id</th>\n",
       "      <th>visit_month</th>\n",
       "      <th>updrs_1</th>\n",
       "      <th>updrs_2</th>\n",
       "      <th>updrs_3</th>\n",
       "      <th>updrs_4</th>\n",
       "      <th>updrs_4_missing</th>\n",
       "      <th>clinical_state_on_medication</th>\n",
       "      <th>Total_UPDRS</th>\n",
       "      <th>NPX</th>\n",
       "      <th>PeptideAbundance</th>\n",
       "      <th>Standardized_NPX</th>\n",
       "      <th>Peptide Abundance Standardized</th>\n",
       "      <th>UPDRS_Score</th>\n",
       "    </tr>\n",
       "  </thead>\n",
       "  <tbody>\n",
       "    <tr>\n",
       "      <th>3</th>\n",
       "      <td>55_36</td>\n",
       "      <td>55</td>\n",
       "      <td>36</td>\n",
       "      <td>17.0</td>\n",
       "      <td>18.0</td>\n",
       "      <td>51.0</td>\n",
       "      <td>0.0</td>\n",
       "      <td>0</td>\n",
       "      <td>On</td>\n",
       "      <td>86.0</td>\n",
       "      <td>7.649231e+08</td>\n",
       "      <td>7.649234e+08</td>\n",
       "      <td>2.137472</td>\n",
       "      <td>2.137476</td>\n",
       "      <td>3</td>\n",
       "    </tr>\n",
       "    <tr>\n",
       "      <th>7</th>\n",
       "      <td>942_48</td>\n",
       "      <td>942</td>\n",
       "      <td>48</td>\n",
       "      <td>2.0</td>\n",
       "      <td>6.0</td>\n",
       "      <td>35.0</td>\n",
       "      <td>0.0</td>\n",
       "      <td>0</td>\n",
       "      <td>Off</td>\n",
       "      <td>43.0</td>\n",
       "      <td>5.979835e+08</td>\n",
       "      <td>5.979831e+08</td>\n",
       "      <td>0.333456</td>\n",
       "      <td>0.333452</td>\n",
       "      <td>2</td>\n",
       "    </tr>\n",
       "    <tr>\n",
       "      <th>11</th>\n",
       "      <td>1517_60</td>\n",
       "      <td>1517</td>\n",
       "      <td>60</td>\n",
       "      <td>19.0</td>\n",
       "      <td>18.0</td>\n",
       "      <td>39.0</td>\n",
       "      <td>10.0</td>\n",
       "      <td>0</td>\n",
       "      <td>Off</td>\n",
       "      <td>86.0</td>\n",
       "      <td>5.840639e+08</td>\n",
       "      <td>5.840636e+08</td>\n",
       "      <td>0.183036</td>\n",
       "      <td>0.183032</td>\n",
       "      <td>3</td>\n",
       "    </tr>\n",
       "    <tr>\n",
       "      <th>14</th>\n",
       "      <td>1923_36</td>\n",
       "      <td>1923</td>\n",
       "      <td>36</td>\n",
       "      <td>3.0</td>\n",
       "      <td>0.0</td>\n",
       "      <td>1.0</td>\n",
       "      <td>0.0</td>\n",
       "      <td>1</td>\n",
       "      <td>Unknown</td>\n",
       "      <td>4.0</td>\n",
       "      <td>7.711963e+08</td>\n",
       "      <td>7.711966e+08</td>\n",
       "      <td>2.205263</td>\n",
       "      <td>2.205267</td>\n",
       "      <td>0</td>\n",
       "    </tr>\n",
       "    <tr>\n",
       "      <th>18</th>\n",
       "      <td>2660_48</td>\n",
       "      <td>2660</td>\n",
       "      <td>48</td>\n",
       "      <td>6.0</td>\n",
       "      <td>0.0</td>\n",
       "      <td>0.0</td>\n",
       "      <td>0.0</td>\n",
       "      <td>1</td>\n",
       "      <td>Unknown</td>\n",
       "      <td>6.0</td>\n",
       "      <td>6.153522e+08</td>\n",
       "      <td>6.153520e+08</td>\n",
       "      <td>0.521149</td>\n",
       "      <td>0.521147</td>\n",
       "      <td>0</td>\n",
       "    </tr>\n",
       "  </tbody>\n",
       "</table>\n",
       "</div>"
      ],
      "text/plain": [
       "   visit_id  patient_id  visit_month  updrs_1  updrs_2  updrs_3  updrs_4  \\\n",
       "3     55_36          55           36     17.0     18.0     51.0      0.0   \n",
       "7    942_48         942           48      2.0      6.0     35.0      0.0   \n",
       "11  1517_60        1517           60     19.0     18.0     39.0     10.0   \n",
       "14  1923_36        1923           36      3.0      0.0      1.0      0.0   \n",
       "18  2660_48        2660           48      6.0      0.0      0.0      0.0   \n",
       "\n",
       "    updrs_4_missing clinical_state_on_medication  Total_UPDRS           NPX  \\\n",
       "3                 0                           On         86.0  7.649231e+08   \n",
       "7                 0                          Off         43.0  5.979835e+08   \n",
       "11                0                          Off         86.0  5.840639e+08   \n",
       "14                1                      Unknown          4.0  7.711963e+08   \n",
       "18                1                      Unknown          6.0  6.153522e+08   \n",
       "\n",
       "    PeptideAbundance  Standardized_NPX  Peptide Abundance Standardized  \\\n",
       "3       7.649234e+08          2.137472                        2.137476   \n",
       "7       5.979831e+08          0.333456                        0.333452   \n",
       "11      5.840636e+08          0.183036                        0.183032   \n",
       "14      7.711966e+08          2.205263                        2.205267   \n",
       "18      6.153520e+08          0.521149                        0.521147   \n",
       "\n",
       "    UPDRS_Score  \n",
       "3             3  \n",
       "7             2  \n",
       "11            3  \n",
       "14            0  \n",
       "18            0  "
      ]
     },
     "execution_count": 82,
     "metadata": {},
     "output_type": "execute_result"
    }
   ],
   "source": [
    "Final_clinical_data_graphical.head()"
   ]
  },
  {
   "cell_type": "markdown",
   "id": "3b15c389",
   "metadata": {},
   "source": [
    "# III - Machine Learning"
   ]
  },
  {
   "cell_type": "code",
   "execution_count": 83,
   "id": "6b85d2ca",
   "metadata": {},
   "outputs": [],
   "source": [
    "from sklearn.linear_model import LogisticRegression, Lasso\n",
    "from sklearn.model_selection import train_test_split, cross_val_score, KFold\n",
    "from sklearn.metrics import mean_squared_error, roc_auc_score, classification_report\n",
    "from sklearn.model_selection import GridSearchCV\n",
    "from sklearn.preprocessing import StandardScaler\n",
    "from sklearn.metrics import roc_auc_score, roc_curve\n",
    "from sklearn.pipeline import Pipeline\n",
    "from sklearn.ensemble import RandomForestRegressor\n",
    "from sklearn.metrics import make_scorer\n",
    "\n"
   ]
  },
  {
   "cell_type": "markdown",
   "id": "23edad7f",
   "metadata": {},
   "source": [
    "Working with Total_UPDRS as the depndent variables and the rest of the fatures as independent variables"
   ]
  },
  {
   "cell_type": "code",
   "execution_count": 84,
   "id": "f8878c6c",
   "metadata": {},
   "outputs": [
    {
     "data": {
      "text/html": [
       "<div>\n",
       "<style scoped>\n",
       "    .dataframe tbody tr th:only-of-type {\n",
       "        vertical-align: middle;\n",
       "    }\n",
       "\n",
       "    .dataframe tbody tr th {\n",
       "        vertical-align: top;\n",
       "    }\n",
       "\n",
       "    .dataframe thead th {\n",
       "        text-align: right;\n",
       "    }\n",
       "</style>\n",
       "<table border=\"1\" class=\"dataframe\">\n",
       "  <thead>\n",
       "    <tr style=\"text-align: right;\">\n",
       "      <th></th>\n",
       "      <th>updrs_1</th>\n",
       "      <th>updrs_2</th>\n",
       "      <th>updrs_3</th>\n",
       "      <th>updrs_4</th>\n",
       "      <th>updrs_4_missing</th>\n",
       "      <th>clinical_state_on_medication</th>\n",
       "      <th>Total_UPDRS</th>\n",
       "      <th>NPX</th>\n",
       "    </tr>\n",
       "  </thead>\n",
       "  <tbody>\n",
       "    <tr>\n",
       "      <th>3</th>\n",
       "      <td>17.0</td>\n",
       "      <td>18.0</td>\n",
       "      <td>51.0</td>\n",
       "      <td>0.0</td>\n",
       "      <td>0</td>\n",
       "      <td>On</td>\n",
       "      <td>86.0</td>\n",
       "      <td>7.649231e+08</td>\n",
       "    </tr>\n",
       "    <tr>\n",
       "      <th>7</th>\n",
       "      <td>2.0</td>\n",
       "      <td>6.0</td>\n",
       "      <td>35.0</td>\n",
       "      <td>0.0</td>\n",
       "      <td>0</td>\n",
       "      <td>Off</td>\n",
       "      <td>43.0</td>\n",
       "      <td>5.979835e+08</td>\n",
       "    </tr>\n",
       "    <tr>\n",
       "      <th>11</th>\n",
       "      <td>19.0</td>\n",
       "      <td>18.0</td>\n",
       "      <td>39.0</td>\n",
       "      <td>10.0</td>\n",
       "      <td>0</td>\n",
       "      <td>Off</td>\n",
       "      <td>86.0</td>\n",
       "      <td>5.840639e+08</td>\n",
       "    </tr>\n",
       "    <tr>\n",
       "      <th>14</th>\n",
       "      <td>3.0</td>\n",
       "      <td>0.0</td>\n",
       "      <td>1.0</td>\n",
       "      <td>0.0</td>\n",
       "      <td>1</td>\n",
       "      <td>Unknown</td>\n",
       "      <td>4.0</td>\n",
       "      <td>7.711963e+08</td>\n",
       "    </tr>\n",
       "    <tr>\n",
       "      <th>18</th>\n",
       "      <td>6.0</td>\n",
       "      <td>0.0</td>\n",
       "      <td>0.0</td>\n",
       "      <td>0.0</td>\n",
       "      <td>1</td>\n",
       "      <td>Unknown</td>\n",
       "      <td>6.0</td>\n",
       "      <td>6.153522e+08</td>\n",
       "    </tr>\n",
       "  </tbody>\n",
       "</table>\n",
       "</div>"
      ],
      "text/plain": [
       "    updrs_1  updrs_2  updrs_3  updrs_4  updrs_4_missing  \\\n",
       "3      17.0     18.0     51.0      0.0                0   \n",
       "7       2.0      6.0     35.0      0.0                0   \n",
       "11     19.0     18.0     39.0     10.0                0   \n",
       "14      3.0      0.0      1.0      0.0                1   \n",
       "18      6.0      0.0      0.0      0.0                1   \n",
       "\n",
       "   clinical_state_on_medication  Total_UPDRS           NPX  \n",
       "3                            On         86.0  7.649231e+08  \n",
       "7                           Off         43.0  5.979835e+08  \n",
       "11                          Off         86.0  5.840639e+08  \n",
       "14                      Unknown          4.0  7.711963e+08  \n",
       "18                      Unknown          6.0  6.153522e+08  "
      ]
     },
     "execution_count": 84,
     "metadata": {},
     "output_type": "execute_result"
    }
   ],
   "source": [
    "Final_ML = Final_clinical_data_graphical.drop(['PeptideAbundance','patient_id','visit_month', 'visit_id', 'Standardized_NPX', 'UPDRS_Score', 'Peptide Abundance Standardized'] , axis=1) \n",
    "# dropping Peptide Abundnace because it's has a perfect correelation with NPX better drop it for machine learning\n",
    "Final_ML.head()\n"
   ]
  },
  {
   "cell_type": "markdown",
   "id": "79c043ab",
   "metadata": {},
   "source": [
    "Next step would be that we have to transform thr clinical_state_on _medication values to dummies. "
   ]
  },
  {
   "cell_type": "code",
   "execution_count": 85,
   "id": "d94706fc",
   "metadata": {},
   "outputs": [],
   "source": [
    "Final_ML_dummies = pd.get_dummies(Final_ML, columns=['clinical_state_on_medication'], prefix='clinical_state')"
   ]
  },
  {
   "cell_type": "code",
   "execution_count": 86,
   "id": "aa1bf44a",
   "metadata": {},
   "outputs": [
    {
     "data": {
      "text/html": [
       "<div>\n",
       "<style scoped>\n",
       "    .dataframe tbody tr th:only-of-type {\n",
       "        vertical-align: middle;\n",
       "    }\n",
       "\n",
       "    .dataframe tbody tr th {\n",
       "        vertical-align: top;\n",
       "    }\n",
       "\n",
       "    .dataframe thead th {\n",
       "        text-align: right;\n",
       "    }\n",
       "</style>\n",
       "<table border=\"1\" class=\"dataframe\">\n",
       "  <thead>\n",
       "    <tr style=\"text-align: right;\">\n",
       "      <th></th>\n",
       "      <th>updrs_1</th>\n",
       "      <th>updrs_2</th>\n",
       "      <th>updrs_3</th>\n",
       "      <th>updrs_4</th>\n",
       "      <th>updrs_4_missing</th>\n",
       "      <th>Total_UPDRS</th>\n",
       "      <th>NPX</th>\n",
       "      <th>clinical_state_Off</th>\n",
       "      <th>clinical_state_On</th>\n",
       "      <th>clinical_state_Unknown</th>\n",
       "    </tr>\n",
       "  </thead>\n",
       "  <tbody>\n",
       "    <tr>\n",
       "      <th>3</th>\n",
       "      <td>17</td>\n",
       "      <td>18</td>\n",
       "      <td>51</td>\n",
       "      <td>0</td>\n",
       "      <td>0</td>\n",
       "      <td>86</td>\n",
       "      <td>764923056</td>\n",
       "      <td>0</td>\n",
       "      <td>1</td>\n",
       "      <td>0</td>\n",
       "    </tr>\n",
       "    <tr>\n",
       "      <th>7</th>\n",
       "      <td>2</td>\n",
       "      <td>6</td>\n",
       "      <td>35</td>\n",
       "      <td>0</td>\n",
       "      <td>0</td>\n",
       "      <td>43</td>\n",
       "      <td>597983523</td>\n",
       "      <td>1</td>\n",
       "      <td>0</td>\n",
       "      <td>0</td>\n",
       "    </tr>\n",
       "    <tr>\n",
       "      <th>11</th>\n",
       "      <td>19</td>\n",
       "      <td>18</td>\n",
       "      <td>39</td>\n",
       "      <td>10</td>\n",
       "      <td>0</td>\n",
       "      <td>86</td>\n",
       "      <td>584063932</td>\n",
       "      <td>1</td>\n",
       "      <td>0</td>\n",
       "      <td>0</td>\n",
       "    </tr>\n",
       "    <tr>\n",
       "      <th>14</th>\n",
       "      <td>3</td>\n",
       "      <td>0</td>\n",
       "      <td>1</td>\n",
       "      <td>0</td>\n",
       "      <td>1</td>\n",
       "      <td>4</td>\n",
       "      <td>771196270</td>\n",
       "      <td>0</td>\n",
       "      <td>0</td>\n",
       "      <td>1</td>\n",
       "    </tr>\n",
       "    <tr>\n",
       "      <th>18</th>\n",
       "      <td>6</td>\n",
       "      <td>0</td>\n",
       "      <td>0</td>\n",
       "      <td>0</td>\n",
       "      <td>1</td>\n",
       "      <td>6</td>\n",
       "      <td>615352184</td>\n",
       "      <td>0</td>\n",
       "      <td>0</td>\n",
       "      <td>1</td>\n",
       "    </tr>\n",
       "  </tbody>\n",
       "</table>\n",
       "</div>"
      ],
      "text/plain": [
       "    updrs_1  updrs_2  updrs_3  updrs_4  updrs_4_missing  Total_UPDRS  \\\n",
       "3        17       18       51        0                0           86   \n",
       "7         2        6       35        0                0           43   \n",
       "11       19       18       39       10                0           86   \n",
       "14        3        0        1        0                1            4   \n",
       "18        6        0        0        0                1            6   \n",
       "\n",
       "          NPX  clinical_state_Off  clinical_state_On  clinical_state_Unknown  \n",
       "3   764923056                   0                  1                       0  \n",
       "7   597983523                   1                  0                       0  \n",
       "11  584063932                   1                  0                       0  \n",
       "14  771196270                   0                  0                       1  \n",
       "18  615352184                   0                  0                       1  "
      ]
     },
     "execution_count": 86,
     "metadata": {},
     "output_type": "execute_result"
    }
   ],
   "source": [
    "Final_ML_dummies = Final_ML_dummies.astype(int)\n",
    "Final_ML_dummies.head()"
   ]
  },
  {
   "cell_type": "markdown",
   "id": "6d397863",
   "metadata": {},
   "source": [
    "### 1 - Logistic Regression"
   ]
  },
  {
   "cell_type": "code",
   "execution_count": 87,
   "id": "b80e3f76",
   "metadata": {},
   "outputs": [
    {
     "name": "stdout",
     "output_type": "stream",
     "text": [
      "<class 'pandas.core.frame.DataFrame'>\n",
      "Int64Index: 248 entries, 3 to 1067\n",
      "Data columns (total 10 columns):\n",
      " #   Column                  Non-Null Count  Dtype\n",
      "---  ------                  --------------  -----\n",
      " 0   updrs_1                 248 non-null    int32\n",
      " 1   updrs_2                 248 non-null    int32\n",
      " 2   updrs_3                 248 non-null    int32\n",
      " 3   updrs_4                 248 non-null    int32\n",
      " 4   updrs_4_missing         248 non-null    int32\n",
      " 5   Total_UPDRS             248 non-null    int32\n",
      " 6   NPX                     248 non-null    int32\n",
      " 7   clinical_state_Off      248 non-null    int32\n",
      " 8   clinical_state_On       248 non-null    int32\n",
      " 9   clinical_state_Unknown  248 non-null    int32\n",
      "dtypes: int32(10)\n",
      "memory usage: 11.6 KB\n"
     ]
    }
   ],
   "source": [
    "Final_ML_dummies.shape\n",
    "Final_ML.isnull().sum()\n",
    "Final_ML_dummies.info()"
   ]
  },
  {
   "cell_type": "code",
   "execution_count": 88,
   "id": "2144ce2c",
   "metadata": {},
   "outputs": [],
   "source": [
    "# Defining our Features and targets\n",
    "X = Final_ML_dummies[['updrs_1', 'updrs_2', 'updrs_3', 'updrs_3', 'updrs_4', 'updrs_4_missing', 'NPX', 'clinical_state_Off', 'clinical_state_On', 'clinical_state_Unknown']]\n",
    "y = Final_ML_dummies['Total_UPDRS']"
   ]
  },
  {
   "cell_type": "code",
   "execution_count": 89,
   "id": "424abd61",
   "metadata": {},
   "outputs": [
    {
     "name": "stdout",
     "output_type": "stream",
     "text": [
      "(248, 10)\n",
      "(248,)\n"
     ]
    }
   ],
   "source": [
    "print(X.shape)\n",
    "print(y.shape)\n"
   ]
  },
  {
   "cell_type": "code",
   "execution_count": 90,
   "id": "a14355f4",
   "metadata": {},
   "outputs": [],
   "source": [
    "\n",
    "\n",
    "# Train-test split\n",
    "X_train, X_test, y_train, y_test = train_test_split(X, y, test_size=0.25, random_state=3)\n"
   ]
  },
  {
   "cell_type": "code",
   "execution_count": 91,
   "id": "27f370cb",
   "metadata": {},
   "outputs": [],
   "source": [
    "X_train.reset_index(drop=True, inplace=True)\n",
    "y_train.reset_index(drop=True, inplace=True)\n",
    "\n",
    "\n",
    "LogReg = LogisticRegression()\n",
    "LogReg.fit(X_train,y_train)\n",
    "y_pred = LogReg.predict(X_test)\n"
   ]
  },
  {
   "cell_type": "code",
   "execution_count": 92,
   "id": "3a622ead",
   "metadata": {},
   "outputs": [
    {
     "name": "stdout",
     "output_type": "stream",
     "text": [
      "[0.05263158 0.05263158 0.         0.         0.05263158 0.05263158\n",
      " 0.         0.         0.11111111 0.        ]\n"
     ]
    }
   ],
   "source": [
    "#Cross_Validation \n",
    "\n",
    "kf = KFold(n_splits=10, shuffle = True, random_state=3)\n",
    "cv_results = cross_val_score(LogReg, X_train, y_train, cv=kf)\n",
    "print(cv_results)"
   ]
  },
  {
   "cell_type": "markdown",
   "id": "263d7f99",
   "metadata": {},
   "source": [
    "So the best KFold within our cross validation gives us an 0.111 accuracy which is about 11% model accuracy whhich is not Good at all "
   ]
  },
  {
   "cell_type": "code",
   "execution_count": 207,
   "id": "65c6c823",
   "metadata": {},
   "outputs": [],
   "source": [
    "# Trying to improve introducing Lasso l1 and Rigid l2 "
   ]
  },
  {
   "cell_type": "code",
   "execution_count": 208,
   "id": "ebf3e9ba",
   "metadata": {},
   "outputs": [
    {
     "name": "stderr",
     "output_type": "stream",
     "text": [
      "c:\\ProgramData\\Anaconda3\\lib\\site-packages\\sklearn\\svm\\_base.py:1206: ConvergenceWarning: Liblinear failed to converge, increase the number of iterations.\n",
      "  warnings.warn(\n"
     ]
    }
   ],
   "source": [
    "\n",
    "# Train-test split\n",
    "X1_train, X1_test, y1_train, y1_test = train_test_split(X, y, test_size=0.25, random_state=3)\n",
    "\n",
    "# Feature scaling\n",
    "scaler = StandardScaler()\n",
    "X1_train = scaler.fit_transform(X1_train)\n",
    "X1_test = scaler.transform(X1_test)\n",
    "\n",
    "# Applying Logistic Regression with L1 (Lasso) regularization\n",
    "logreg_l1 = LogisticRegression(penalty='l1', solver='liblinear', random_state=3, max_iter=2000)\n",
    "logreg_l1.fit(X1_train, y1_train)\n",
    "y_pred_l1 = logreg_l1.predict(X1_test)\n",
    "\n",
    "# Cross-validation with L1\n",
    "kf = KFold(n_splits=10, shuffle=True, random_state=3)\n",
    "cv_results_l1 = cross_val_score(logreg_l1, X, y, cv=kf)\n",
    "print(\"Cross-validation results with L1 regularization:\", cv_results_l1.mean())\n",
    "\n",
    "# Applying Logistic Regression with L2 (Ridge) regularization\n",
    "logreg_l2 = LogisticRegression(penalty='l2', solver='lbfgs', random_state=3, max_iter=2000)\n",
    "logreg_l2.fit(X1_train, y1_train)\n",
    "y_pred_l2 = logreg_l2.predict(X1_test)\n",
    "\n",
    "# Cross-validation with L2\n",
    "cv_results_l2 = cross_val_score(logreg_l2, X, y, cv=kf)\n",
    "print(\"Cross-validation results with L2 regularization:\", cv_results_l2.mean())\n"
   ]
  },
  {
   "cell_type": "markdown",
   "id": "bd3c0c99",
   "metadata": {},
   "source": [
    "We can't seem to reduce the convergence of l1 and l2 there are two possible solutions we can either reduce the number of features or change the solver we are working with for one that is mor custom to a large set of features "
   ]
  },
  {
   "cell_type": "markdown",
   "id": "d6e046b4",
   "metadata": {},
   "source": [
    "##### changing Solver"
   ]
  },
  {
   "cell_type": "code",
   "execution_count": null,
   "id": "4aa7acec",
   "metadata": {},
   "outputs": [],
   "source": [
    "\n",
    "# Train-test split\n",
    "X1_train, X1_test, y1_train, y1_test = train_test_split(X, y, test_size=0.25, random_state=3)\n",
    "\n",
    "# Feature scaling\n",
    "scaler = StandardScaler()\n",
    "X1_train = scaler.fit_transform(X1_train)\n",
    "X1_test = scaler.transform(X1_test)\n",
    "\n",
    "# Applying Logistic Regression with L1 (Lasso) regularization\n",
    "logreg_l1 = LogisticRegression(penalty='l1', solver='saga', random_state=3, max_iter=2000)\n",
    "logreg_l1.fit(X1_train, y1_train)\n",
    "y_pred_l1 = logreg_l1.predict(X1_test)\n",
    "\n",
    "# Cross-validation with L1\n",
    "kf = KFold(n_splits=10, shuffle=True, random_state=3)\n",
    "cv_results_l1 = cross_val_score(logreg_l1, X, y, cv=kf)\n",
    "print(\"Cross-validation results with L1 regularization:\", cv_results_l1.mean())\n",
    "\n",
    "# Applying Logistic Regression with L2 (Ridge) regularization\n",
    "logreg_l2 = LogisticRegression(penalty='l2', solver='saga', random_state=3, max_iter=2000)\n",
    "logreg_l2.fit(X1_train, y1_train)\n",
    "y_pred_l2 = logreg_l2.predict(X1_test)\n",
    "\n",
    "# Cross-validation with L2\n",
    "cv_results_l2 = cross_val_score(logreg_l2, X, y, cv=kf)\n",
    "print(\"Cross-validation results with L2 regularization:\", cv_results_l2.mean())\n"
   ]
  },
  {
   "cell_type": "markdown",
   "id": "fe95dc23",
   "metadata": {},
   "source": [
    "Still not workiing we might have to consider using less features and test with other models"
   ]
  },
  {
   "cell_type": "code",
   "execution_count": null,
   "id": "2080989c",
   "metadata": {},
   "outputs": [],
   "source": [
    "Final_ML_dummies.head()"
   ]
  },
  {
   "cell_type": "code",
   "execution_count": null,
   "id": "d991687e",
   "metadata": {},
   "outputs": [],
   "source": [
    "Xless=  Final_ML_dummies[['updrs_1', 'updrs_2', 'updrs_3', 'updrs_4', 'NPX']]"
   ]
  },
  {
   "cell_type": "code",
   "execution_count": null,
   "id": "2a40fac3",
   "metadata": {},
   "outputs": [],
   "source": [
    "\n",
    "# Train-test split\n",
    "Xless_train, Xless_test, yl_train, yl_test = train_test_split(X_less, y, test_size=0.25, random_state=3)\n",
    "\n",
    "# Feature scaling\n",
    "scaler = StandardScaler()\n",
    "Xless_train = scaler.fit_transform(Xless_train)\n",
    "Xless_test = scaler.transform(Xless_test)\n",
    "\n",
    "# Applying Logistic Regression with L1 (Lasso) regularization\n",
    "logreg_l1 = LogisticRegression(penalty='l1', solver='liblinear', random_state=3, max_iter=2000)\n",
    "logreg_l1.fit(Xless_train, yl_train)\n",
    "y_pred_l1 = logreg_l1.predict(Xless_test)\n",
    "\n",
    "# Cross-validation with L1\n",
    "kf = KFold(n_splits=10, shuffle=True, random_state=3)\n",
    "cv_results_l1 = cross_val_score(logreg_l1, X, y, cv=kf)\n",
    "print(\"Cross-validation results with L1 regularization:\", cv_results_l1.mean())\n",
    "\n",
    "# Applying Logistic Regression with L2 (Ridge) regularization\n",
    "logreg_l2 = LogisticRegression(penalty='l2', solver='lbfgs', random_state=3, max_iter=2000)\n",
    "logreg_l2.fit(Xless_train, yl_train)\n",
    "y_pred_l2 = logreg_l2.predict(Xless_test)\n",
    "\n",
    "# Cross-validation with L2\n",
    "cv_results_l2 = cross_val_score(logreg_l2, X, y, cv=kf)\n",
    "print(\"Cross-validation results with L2 regularization:\", cv_results_l2.mean())\n"
   ]
  },
  {
   "cell_type": "markdown",
   "id": "19a18faf",
   "metadata": {},
   "source": [
    "Same result it's best to try with a different model"
   ]
  },
  {
   "cell_type": "markdown",
   "id": "4ee5284f",
   "metadata": {},
   "source": [
    "#### Decision Tree"
   ]
  },
  {
   "cell_type": "code",
   "execution_count": null,
   "id": "22bc01b4",
   "metadata": {},
   "outputs": [],
   "source": [
    "from sklearn.tree import DecisionTreeClassifier\n",
    "\n",
    "# Split the data into training and testing sets\n",
    "X_train, X_test, y_train, y_test = train_test_split(X, y, test_size=0.25, random_state=3)\n",
    "\n",
    "# Define the parameter grid to search through\n",
    "param_grid = {\n",
    "    'max_depth': [3, 5, 7, 10, 12, 15, 18, 20],    # Different max depth values to try\n",
    "    'min_samples_leaf': [1, 2, 4, 6]               # Different min samples leaf values to try\n",
    "}\n",
    "\n",
    "# Create a decision tree classifier\n",
    "dt_classifier = DecisionTreeClassifier()\n",
    "\n",
    "# Use GridSearchCV for cross-validation and parameter tuning\n",
    "grid_search = GridSearchCV(dt_classifier, param_grid, cv=5, scoring='accuracy')\n",
    "grid_search.fit(X_train, y_train)\n",
    "\n",
    "# Get the best parameters and the best estimator\n",
    "best_params = grid_search.best_params_\n",
    "best_estimator = grid_search.best_estimator_\n",
    "\n",
    "# Evaluate the best estimator on the test set\n",
    "test_accuracy = best_estimator.score(X_test, y_test)\n",
    "\n",
    "print(\"Best Parameters:\", best_params)\n",
    "print(\"Test set accuracy of the best estimator:\", test_accuracy)\n",
    "\n"
   ]
  },
  {
   "cell_type": "code",
   "execution_count": null,
   "id": "5feb2562",
   "metadata": {},
   "outputs": [],
   "source": []
  },
  {
   "cell_type": "markdown",
   "metadata": {},
   "source": [
    "Random forest"
   ]
  },
  {
   "cell_type": "code",
   "execution_count": 93,
   "metadata": {},
   "outputs": [
    {
     "name": "stdout",
     "output_type": "stream",
     "text": [
      "Best Parameters: {'max_depth': 20, 'min_samples_leaf': 1, 'min_samples_split': 2, 'n_estimators': 150}\n",
      "SMAPE: 12.366923409485622\n"
     ]
    }
   ],
   "source": [
    "# Define a SMAPE metric\n",
    "def smape(y_true, y_pred):\n",
    "    denominator = (np.abs(y_true) + np.abs(y_pred)) / 2.0\n",
    "    diff = np.abs(y_true - y_pred) / denominator\n",
    "    diff[denominator == 0] = 0.0\n",
    "    return 100 * np.mean(diff)\n",
    "\n",
    "smape_scorer = make_scorer(smape, greater_is_better=False)\n",
    "\n",
    "# Define our Features (X) and target variable (y)\n",
    "X = Final_ML_dummies[['updrs_1', 'updrs_2', 'updrs_3', 'updrs_3', 'updrs_4', 'updrs_4_missing', 'NPX', 'clinical_state_Off', 'clinical_state_On', 'clinical_state_Unknown']]\n",
    "y = Final_ML_dummies['Total_UPDRS']\n",
    "\n",
    "# Split the data into training and testing sets\n",
    "X_train, X_test, y_train, y_test = train_test_split(X, y, test_size=0.25, random_state=3)\n",
    "\n",
    "# Feature scaling using StandardScaler\n",
    "scaler = StandardScaler()\n",
    "X_train_scaled = scaler.fit_transform(X_train)\n",
    "X_test_scaled = scaler.transform(X_test)\n",
    "\n",
    "# Create a Random Forest Regressor model\n",
    "rf_regressor = RandomForestRegressor()\n",
    "\n",
    "# Define the parameter grid for hyperparameter optimization\n",
    "param_grid = {\n",
    "    'n_estimators': [50, 100, 150],\n",
    "    'max_depth': [None, 10, 20, 30],\n",
    "    'min_samples_split': [2, 5, 10],\n",
    "    'min_samples_leaf': [1, 2, 4]\n",
    "}\n",
    "\n",
    "# Use GridSearchCV to find the best hyperparameters with SMAPE metric\n",
    "grid_search = GridSearchCV(rf_regressor, param_grid, cv=5, scoring=smape_scorer)\n",
    "grid_search.fit(X_train_scaled, y_train)\n",
    "\n",
    "# Get the best parameters and the best estimator\n",
    "best_params = grid_search.best_params_\n",
    "best_estimator = grid_search.best_estimator_\n",
    "\n",
    "# Make predictions on the test set\n",
    "y_pred = best_estimator.predict(X_test_scaled)\n",
    "\n",
    "# Evaluate the model's performance using SMAPE\n",
    "smape_value = smape(y_test, y_pred)\n",
    "print(\"Best Parameters:\", best_params)\n",
    "print(\"SMAPE:\", smape_value)\n",
    "\n"
   ]
  }
 ],
 "metadata": {
  "kernelspec": {
   "display_name": "Python 3 (ipykernel)",
   "language": "python",
   "name": "python3"
  },
  "language_info": {
   "codemirror_mode": {
    "name": "ipython",
    "version": 3
   },
   "file_extension": ".py",
   "mimetype": "text/x-python",
   "name": "python",
   "nbconvert_exporter": "python",
   "pygments_lexer": "ipython3",
   "version": "3.9.13"
  }
 },
 "nbformat": 4,
 "nbformat_minor": 5
}
