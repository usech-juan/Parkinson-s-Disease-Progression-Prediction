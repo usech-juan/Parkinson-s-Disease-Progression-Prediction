{
 "cells": [
  {
   "cell_type": "markdown",
   "id": "d8806314",
   "metadata": {},
   "source": [
    "### 1- Importing Libraries"
   ]
  },
  {
   "cell_type": "code",
   "execution_count": null,
   "id": "458cfae3",
   "metadata": {},
   "outputs": [
    {
     "ename": "",
     "evalue": "",
     "output_type": "error",
     "traceback": [
      "\u001b[1;31mRunning cells with 'c:\\ProgramData\\Anaconda3\\python.exe' requires the ipykernel package.\n",
      "\u001b[1;31mRun the following command to install 'ipykernel' into the Python environment. \n",
      "\u001b[1;31mCommand: 'conda install -p c:\\ProgramData\\Anaconda3 ipykernel --update-deps --force-reinstall'"
     ]
    }
   ],
   "source": [
    "import pandas as pd\n",
    "import numpy as np \n",
    "import matplotlib.pyplot as plt\n",
    "import seaborn as sns"
   ]
  },
  {
   "cell_type": "markdown",
   "id": "a574fde4",
   "metadata": {},
   "source": [
    "###  2- Importing all files"
   ]
  },
  {
   "cell_type": "code",
   "execution_count": 3,
   "id": "bc31921a",
   "metadata": {},
   "outputs": [],
   "source": [
    "Peptides_data = pd.read_csv('train_peptides.csv')\n",
    "Proteins_data = pd.read_csv('train_proteins.csv')\n",
    "supplemental_clinical_data = pd.read_csv('supplemental_clinical_data.csv')\n",
    "train_clinical_data = pd.read_csv('train_clinical_data.csv')\n"
   ]
  },
  {
   "cell_type": "markdown",
   "id": "1fd74bff",
   "metadata": {},
   "source": [
    "### 3- Discovering and cleaning Train Clinical Data "
   ]
  },
  {
   "cell_type": "code",
   "execution_count": 4,
   "id": "ce97385f",
   "metadata": {},
   "outputs": [
    {
     "data": {
      "text/html": [
       "<div>\n",
       "<style scoped>\n",
       "    .dataframe tbody tr th:only-of-type {\n",
       "        vertical-align: middle;\n",
       "    }\n",
       "\n",
       "    .dataframe tbody tr th {\n",
       "        vertical-align: top;\n",
       "    }\n",
       "\n",
       "    .dataframe thead th {\n",
       "        text-align: right;\n",
       "    }\n",
       "</style>\n",
       "<table border=\"1\" class=\"dataframe\">\n",
       "  <thead>\n",
       "    <tr style=\"text-align: right;\">\n",
       "      <th></th>\n",
       "      <th>visit_id</th>\n",
       "      <th>patient_id</th>\n",
       "      <th>visit_month</th>\n",
       "      <th>updrs_1</th>\n",
       "      <th>updrs_2</th>\n",
       "      <th>updrs_3</th>\n",
       "      <th>updrs_4</th>\n",
       "      <th>upd23b_clinical_state_on_medication</th>\n",
       "    </tr>\n",
       "  </thead>\n",
       "  <tbody>\n",
       "    <tr>\n",
       "      <th>0</th>\n",
       "      <td>55_0</td>\n",
       "      <td>55</td>\n",
       "      <td>0</td>\n",
       "      <td>10.0</td>\n",
       "      <td>6.0</td>\n",
       "      <td>15.0</td>\n",
       "      <td>NaN</td>\n",
       "      <td>NaN</td>\n",
       "    </tr>\n",
       "    <tr>\n",
       "      <th>1</th>\n",
       "      <td>55_3</td>\n",
       "      <td>55</td>\n",
       "      <td>3</td>\n",
       "      <td>10.0</td>\n",
       "      <td>7.0</td>\n",
       "      <td>25.0</td>\n",
       "      <td>NaN</td>\n",
       "      <td>NaN</td>\n",
       "    </tr>\n",
       "    <tr>\n",
       "      <th>2</th>\n",
       "      <td>55_6</td>\n",
       "      <td>55</td>\n",
       "      <td>6</td>\n",
       "      <td>8.0</td>\n",
       "      <td>10.0</td>\n",
       "      <td>34.0</td>\n",
       "      <td>NaN</td>\n",
       "      <td>NaN</td>\n",
       "    </tr>\n",
       "    <tr>\n",
       "      <th>3</th>\n",
       "      <td>55_9</td>\n",
       "      <td>55</td>\n",
       "      <td>9</td>\n",
       "      <td>8.0</td>\n",
       "      <td>9.0</td>\n",
       "      <td>30.0</td>\n",
       "      <td>0.0</td>\n",
       "      <td>On</td>\n",
       "    </tr>\n",
       "    <tr>\n",
       "      <th>4</th>\n",
       "      <td>55_12</td>\n",
       "      <td>55</td>\n",
       "      <td>12</td>\n",
       "      <td>10.0</td>\n",
       "      <td>10.0</td>\n",
       "      <td>41.0</td>\n",
       "      <td>0.0</td>\n",
       "      <td>On</td>\n",
       "    </tr>\n",
       "  </tbody>\n",
       "</table>\n",
       "</div>"
      ],
      "text/plain": [
       "  visit_id  patient_id  visit_month  updrs_1  updrs_2  updrs_3  updrs_4  \\\n",
       "0     55_0          55            0     10.0      6.0     15.0      NaN   \n",
       "1     55_3          55            3     10.0      7.0     25.0      NaN   \n",
       "2     55_6          55            6      8.0     10.0     34.0      NaN   \n",
       "3     55_9          55            9      8.0      9.0     30.0      0.0   \n",
       "4    55_12          55           12     10.0     10.0     41.0      0.0   \n",
       "\n",
       "  upd23b_clinical_state_on_medication  \n",
       "0                                 NaN  \n",
       "1                                 NaN  \n",
       "2                                 NaN  \n",
       "3                                  On  \n",
       "4                                  On  "
      ]
     },
     "execution_count": 4,
     "metadata": {},
     "output_type": "execute_result"
    }
   ],
   "source": [
    "train_clinical_data.head()\n"
   ]
  },
  {
   "cell_type": "code",
   "execution_count": 5,
   "id": "5e38bc71",
   "metadata": {},
   "outputs": [
    {
     "data": {
      "text/plain": [
       "visit_id                                  0\n",
       "patient_id                                0\n",
       "visit_month                               0\n",
       "updrs_1                                   1\n",
       "updrs_2                                   2\n",
       "updrs_3                                  25\n",
       "updrs_4                                1038\n",
       "upd23b_clinical_state_on_medication    1327\n",
       "dtype: int64"
      ]
     },
     "execution_count": 5,
     "metadata": {},
     "output_type": "execute_result"
    }
   ],
   "source": [
    "train_clinical_data.isnull().sum()\n"
   ]
  },
  {
   "cell_type": "code",
   "execution_count": 6,
   "id": "035cfa82",
   "metadata": {},
   "outputs": [
    {
     "data": {
      "text/plain": [
       "(2615, 8)"
      ]
     },
     "execution_count": 6,
     "metadata": {},
     "output_type": "execute_result"
    }
   ],
   "source": [
    "train_clinical_data.shape"
   ]
  },
  {
   "cell_type": "markdown",
   "id": "89fff38f",
   "metadata": {},
   "source": [
    "###### Filling missing values in the updrs_1, updrs_2, and updrs_3 columns involved a process that ensured accurate imputation while considering each patient's data sequence. The function fill_missing_updrs123() was created to systematically handle missing values within patient groups. This function first performed forward-fill and backward-fill operations within each patient's data to replace missing values with the nearest available measurements before and after. By incorporating this function for each UPDRS column, we were able to maintain data integrity by utilizing the available information while accounting for temporal sequencing within patients' visits. The temporary columns created during this process were then dropped to maintain the cleanliness and organization of the data. However a different approach would be implemented for updrs_4"
   ]
  },
  {
   "cell_type": "code",
   "execution_count": 7,
   "id": "87a8e24d",
   "metadata": {},
   "outputs": [],
   "source": [
    "\n",
    "\n",
    "def fill_missing_updrs_123(data, updrs_column):\n",
    "    # Create a temporary filled column within each patient group\n",
    "    filled_column = f'{updrs_column}_filled'\n",
    "    data[filled_column] = data.groupby('patient_id')[updrs_column].ffill()\n",
    "    data[filled_column] = data.groupby('patient_id')[filled_column].bfill()\n",
    "    data[updrs_column] = data[updrs_column].fillna(data[filled_column])\n",
    "    \n",
    "    # Dropping the temporary filled column\n",
    "    data.drop(columns=filled_column, inplace=True)\n",
    "    return data\n",
    "\n",
    "# Filling missing values for UPDRS_1\n",
    "train_clinical_data = fill_missing_updrs_123(train_clinical_data, 'updrs_1')\n",
    "\n",
    "# Filling missing values for UPDRS_2\n",
    "train_clinical_data = fill_missing_updrs_123(train_clinical_data, 'updrs_2')\n",
    "\n",
    "# Filling missing values for UPDRS_3\n",
    "train_clinical_data = fill_missing_updrs_123(train_clinical_data, 'updrs_3')\n"
   ]
  },
  {
   "cell_type": "code",
   "execution_count": 8,
   "id": "2b067e97",
   "metadata": {},
   "outputs": [
    {
     "data": {
      "text/plain": [
       "visit_id                                  0\n",
       "patient_id                                0\n",
       "visit_month                               0\n",
       "updrs_1                                   0\n",
       "updrs_2                                   0\n",
       "updrs_3                                   0\n",
       "updrs_4                                1038\n",
       "upd23b_clinical_state_on_medication    1327\n",
       "dtype: int64"
      ]
     },
     "execution_count": 8,
     "metadata": {},
     "output_type": "execute_result"
    }
   ],
   "source": [
    "train_clinical_data.isnull().sum()"
   ]
  },
  {
   "cell_type": "markdown",
   "id": "36f5b848",
   "metadata": {},
   "source": [
    "###### In addressing missing values within the updrs_4 column, a two-fold strategy was implemented. First, a binary indicator column, 'updrs_4_missing', was created to distinctly mark the initially missing values. This indicator serves as a valuable flag, indicating whether the patient's updrs_4 level was genuinely absent or started as 0. Subsequently, the missing values in updrs_4 were replaced with zeros. Even in cases where a patient's updrs_4 level might be naturally 0, the 'updrs_4_missing' column distinguishes between inherent zero levels and missing data. This dual approach not only addresses the missing values but also acknowledges both inherent zero levels and absent measurements."
   ]
  },
  {
   "cell_type": "code",
   "execution_count": 9,
   "id": "d4ba64be",
   "metadata": {},
   "outputs": [],
   "source": [
    "\n",
    "# Creating a binary indicator column for missing UPDRS_4 values\n",
    "train_clinical_data['updrs_4_missing'] = train_clinical_data['updrs_4'].isnull().astype(int)\n",
    "\n",
    "# Filling missing values in UPDRS_4 with zeros\n",
    "train_clinical_data['updrs_4'] = train_clinical_data['updrs_4'].fillna(0)\n"
   ]
  },
  {
   "cell_type": "code",
   "execution_count": 10,
   "id": "013c2187",
   "metadata": {},
   "outputs": [],
   "source": [
    " train_clinical_data['clinical_state_on_medication'] =  train_clinical_data['upd23b_clinical_state_on_medication']"
   ]
  },
  {
   "cell_type": "code",
   "execution_count": 11,
   "id": "19bcb2d5",
   "metadata": {},
   "outputs": [],
   "source": [
    "\n",
    "mode_per_patient = train_clinical_data.groupby('patient_id')['clinical_state_on_medication'].apply(lambda x: x.mode().iloc[0] if not x.mode().empty else None).reset_index()\n",
    "\n",
    "# Merging the mode values back to the original dataframe\n",
    "train_clinical_data = pd.merge(train_clinical_data, mode_per_patient, on='patient_id', how='left', suffixes=('', '_mode'))\n",
    "\n",
    "# Filling missing values in 'clinical_state_on_medication' with the calculated modes\n",
    "train_clinical_data['clinical_state_on_medication'] = train_clinical_data['clinical_state_on_medication'].fillna(train_clinical_data['clinical_state_on_medication_mode'])\n",
    "\n",
    "# Dropping the temporary mode column\n",
    "train_clinical_data.drop(columns='clinical_state_on_medication_mode', inplace=True)\n"
   ]
  },
  {
   "cell_type": "code",
   "execution_count": 12,
   "id": "34495aa4",
   "metadata": {
    "scrolled": true
   },
   "outputs": [],
   "source": [
    "del(train_clinical_data[\"upd23b_clinical_state_on_medication\"])"
   ]
  },
  {
   "cell_type": "code",
   "execution_count": 13,
   "id": "5cb55d59",
   "metadata": {
    "scrolled": true
   },
   "outputs": [
    {
     "data": {
      "text/plain": [
       "visit_id                          0\n",
       "patient_id                        0\n",
       "visit_month                       0\n",
       "updrs_1                           0\n",
       "updrs_2                           0\n",
       "updrs_3                           0\n",
       "updrs_4                           0\n",
       "updrs_4_missing                   0\n",
       "clinical_state_on_medication    732\n",
       "dtype: int64"
      ]
     },
     "execution_count": 13,
     "metadata": {},
     "output_type": "execute_result"
    }
   ],
   "source": [
    "train_clinical_data.isnull().sum()"
   ]
  },
  {
   "cell_type": "markdown",
   "id": "7618e25b",
   "metadata": {},
   "source": [
    "###### filling missing values with 'unknown'"
   ]
  },
  {
   "cell_type": "code",
   "execution_count": 14,
   "id": "dc1af9f0",
   "metadata": {},
   "outputs": [],
   "source": [
    "train_clinical_data['clinical_state_on_medication'].fillna('Unknown', inplace=True)\n"
   ]
  },
  {
   "cell_type": "code",
   "execution_count": 15,
   "id": "ef6379c7",
   "metadata": {
    "scrolled": true
   },
   "outputs": [
    {
     "data": {
      "text/plain": [
       "visit_id                        0\n",
       "patient_id                      0\n",
       "visit_month                     0\n",
       "updrs_1                         0\n",
       "updrs_2                         0\n",
       "updrs_3                         0\n",
       "updrs_4                         0\n",
       "updrs_4_missing                 0\n",
       "clinical_state_on_medication    0\n",
       "dtype: int64"
      ]
     },
     "execution_count": 15,
     "metadata": {},
     "output_type": "execute_result"
    }
   ],
   "source": [
    "train_clinical_data.isna().sum()"
   ]
  },
  {
   "cell_type": "code",
   "execution_count": 16,
   "id": "41ef7d98",
   "metadata": {
    "scrolled": true
   },
   "outputs": [
    {
     "data": {
      "text/plain": [
       "(2615, 9)"
      ]
     },
     "execution_count": 16,
     "metadata": {},
     "output_type": "execute_result"
    }
   ],
   "source": [
    "train_clinical_data.shape"
   ]
  },
  {
   "cell_type": "code",
   "execution_count": 17,
   "id": "ef4d2222",
   "metadata": {},
   "outputs": [
    {
     "data": {
      "text/html": [
       "<div>\n",
       "<style scoped>\n",
       "    .dataframe tbody tr th:only-of-type {\n",
       "        vertical-align: middle;\n",
       "    }\n",
       "\n",
       "    .dataframe tbody tr th {\n",
       "        vertical-align: top;\n",
       "    }\n",
       "\n",
       "    .dataframe thead th {\n",
       "        text-align: right;\n",
       "    }\n",
       "</style>\n",
       "<table border=\"1\" class=\"dataframe\">\n",
       "  <thead>\n",
       "    <tr style=\"text-align: right;\">\n",
       "      <th></th>\n",
       "      <th>visit_id</th>\n",
       "      <th>patient_id</th>\n",
       "      <th>visit_month</th>\n",
       "      <th>updrs_1</th>\n",
       "      <th>updrs_2</th>\n",
       "      <th>updrs_3</th>\n",
       "      <th>updrs_4</th>\n",
       "      <th>updrs_4_missing</th>\n",
       "      <th>clinical_state_on_medication</th>\n",
       "    </tr>\n",
       "  </thead>\n",
       "  <tbody>\n",
       "    <tr>\n",
       "      <th>0</th>\n",
       "      <td>55_0</td>\n",
       "      <td>55</td>\n",
       "      <td>0</td>\n",
       "      <td>10.0</td>\n",
       "      <td>6.0</td>\n",
       "      <td>15.0</td>\n",
       "      <td>0.0</td>\n",
       "      <td>1</td>\n",
       "      <td>On</td>\n",
       "    </tr>\n",
       "    <tr>\n",
       "      <th>1</th>\n",
       "      <td>55_3</td>\n",
       "      <td>55</td>\n",
       "      <td>3</td>\n",
       "      <td>10.0</td>\n",
       "      <td>7.0</td>\n",
       "      <td>25.0</td>\n",
       "      <td>0.0</td>\n",
       "      <td>1</td>\n",
       "      <td>On</td>\n",
       "    </tr>\n",
       "    <tr>\n",
       "      <th>2</th>\n",
       "      <td>55_6</td>\n",
       "      <td>55</td>\n",
       "      <td>6</td>\n",
       "      <td>8.0</td>\n",
       "      <td>10.0</td>\n",
       "      <td>34.0</td>\n",
       "      <td>0.0</td>\n",
       "      <td>1</td>\n",
       "      <td>On</td>\n",
       "    </tr>\n",
       "    <tr>\n",
       "      <th>3</th>\n",
       "      <td>55_9</td>\n",
       "      <td>55</td>\n",
       "      <td>9</td>\n",
       "      <td>8.0</td>\n",
       "      <td>9.0</td>\n",
       "      <td>30.0</td>\n",
       "      <td>0.0</td>\n",
       "      <td>0</td>\n",
       "      <td>On</td>\n",
       "    </tr>\n",
       "    <tr>\n",
       "      <th>4</th>\n",
       "      <td>55_12</td>\n",
       "      <td>55</td>\n",
       "      <td>12</td>\n",
       "      <td>10.0</td>\n",
       "      <td>10.0</td>\n",
       "      <td>41.0</td>\n",
       "      <td>0.0</td>\n",
       "      <td>0</td>\n",
       "      <td>On</td>\n",
       "    </tr>\n",
       "  </tbody>\n",
       "</table>\n",
       "</div>"
      ],
      "text/plain": [
       "  visit_id  patient_id  visit_month  updrs_1  updrs_2  updrs_3  updrs_4  \\\n",
       "0     55_0          55            0     10.0      6.0     15.0      0.0   \n",
       "1     55_3          55            3     10.0      7.0     25.0      0.0   \n",
       "2     55_6          55            6      8.0     10.0     34.0      0.0   \n",
       "3     55_9          55            9      8.0      9.0     30.0      0.0   \n",
       "4    55_12          55           12     10.0     10.0     41.0      0.0   \n",
       "\n",
       "   updrs_4_missing clinical_state_on_medication  \n",
       "0                1                           On  \n",
       "1                1                           On  \n",
       "2                1                           On  \n",
       "3                0                           On  \n",
       "4                0                           On  "
      ]
     },
     "execution_count": 17,
     "metadata": {},
     "output_type": "execute_result"
    }
   ],
   "source": [
    "train_clinical_data.head()"
   ]
  },
  {
   "cell_type": "markdown",
   "id": "b8ab497b",
   "metadata": {},
   "source": [
    "### 4- Discovering and cleaning Supplemental Clinical Data "
   ]
  },
  {
   "cell_type": "markdown",
   "id": "200d750c",
   "metadata": {},
   "source": [
    "######  supplemental_clinical_data is same as train_clinical_data so we will be foolowing the same claning strategy before we merge them into one data frame"
   ]
  },
  {
   "cell_type": "code",
   "execution_count": 18,
   "id": "3ba1394b",
   "metadata": {
    "scrolled": true
   },
   "outputs": [
    {
     "data": {
      "text/html": [
       "<div>\n",
       "<style scoped>\n",
       "    .dataframe tbody tr th:only-of-type {\n",
       "        vertical-align: middle;\n",
       "    }\n",
       "\n",
       "    .dataframe tbody tr th {\n",
       "        vertical-align: top;\n",
       "    }\n",
       "\n",
       "    .dataframe thead th {\n",
       "        text-align: right;\n",
       "    }\n",
       "</style>\n",
       "<table border=\"1\" class=\"dataframe\">\n",
       "  <thead>\n",
       "    <tr style=\"text-align: right;\">\n",
       "      <th></th>\n",
       "      <th>visit_id</th>\n",
       "      <th>patient_id</th>\n",
       "      <th>visit_month</th>\n",
       "      <th>updrs_1</th>\n",
       "      <th>updrs_2</th>\n",
       "      <th>updrs_3</th>\n",
       "      <th>updrs_4</th>\n",
       "      <th>upd23b_clinical_state_on_medication</th>\n",
       "    </tr>\n",
       "  </thead>\n",
       "  <tbody>\n",
       "    <tr>\n",
       "      <th>0</th>\n",
       "      <td>35_0</td>\n",
       "      <td>35</td>\n",
       "      <td>0</td>\n",
       "      <td>5.0</td>\n",
       "      <td>3.0</td>\n",
       "      <td>16.0</td>\n",
       "      <td>0.0</td>\n",
       "      <td>NaN</td>\n",
       "    </tr>\n",
       "    <tr>\n",
       "      <th>1</th>\n",
       "      <td>35_36</td>\n",
       "      <td>35</td>\n",
       "      <td>36</td>\n",
       "      <td>6.0</td>\n",
       "      <td>4.0</td>\n",
       "      <td>20.0</td>\n",
       "      <td>0.0</td>\n",
       "      <td>NaN</td>\n",
       "    </tr>\n",
       "    <tr>\n",
       "      <th>2</th>\n",
       "      <td>75_0</td>\n",
       "      <td>75</td>\n",
       "      <td>0</td>\n",
       "      <td>4.0</td>\n",
       "      <td>6.0</td>\n",
       "      <td>26.0</td>\n",
       "      <td>0.0</td>\n",
       "      <td>NaN</td>\n",
       "    </tr>\n",
       "    <tr>\n",
       "      <th>3</th>\n",
       "      <td>75_36</td>\n",
       "      <td>75</td>\n",
       "      <td>36</td>\n",
       "      <td>1.0</td>\n",
       "      <td>8.0</td>\n",
       "      <td>38.0</td>\n",
       "      <td>0.0</td>\n",
       "      <td>On</td>\n",
       "    </tr>\n",
       "    <tr>\n",
       "      <th>4</th>\n",
       "      <td>155_0</td>\n",
       "      <td>155</td>\n",
       "      <td>0</td>\n",
       "      <td>NaN</td>\n",
       "      <td>NaN</td>\n",
       "      <td>0.0</td>\n",
       "      <td>NaN</td>\n",
       "      <td>NaN</td>\n",
       "    </tr>\n",
       "  </tbody>\n",
       "</table>\n",
       "</div>"
      ],
      "text/plain": [
       "  visit_id  patient_id  visit_month  updrs_1  updrs_2  updrs_3  updrs_4  \\\n",
       "0     35_0          35            0      5.0      3.0     16.0      0.0   \n",
       "1    35_36          35           36      6.0      4.0     20.0      0.0   \n",
       "2     75_0          75            0      4.0      6.0     26.0      0.0   \n",
       "3    75_36          75           36      1.0      8.0     38.0      0.0   \n",
       "4    155_0         155            0      NaN      NaN      0.0      NaN   \n",
       "\n",
       "  upd23b_clinical_state_on_medication  \n",
       "0                                 NaN  \n",
       "1                                 NaN  \n",
       "2                                 NaN  \n",
       "3                                  On  \n",
       "4                                 NaN  "
      ]
     },
     "execution_count": 18,
     "metadata": {},
     "output_type": "execute_result"
    }
   ],
   "source": [
    "supplemental_clinical_data.head()\n"
   ]
  },
  {
   "cell_type": "code",
   "execution_count": 19,
   "id": "1c555a94",
   "metadata": {},
   "outputs": [
    {
     "data": {
      "text/plain": [
       "visit_id                                  0\n",
       "patient_id                                0\n",
       "visit_month                               0\n",
       "updrs_1                                 213\n",
       "updrs_2                                 214\n",
       "updrs_3                                   5\n",
       "updrs_4                                 928\n",
       "upd23b_clinical_state_on_medication    1101\n",
       "dtype: int64"
      ]
     },
     "execution_count": 19,
     "metadata": {},
     "output_type": "execute_result"
    }
   ],
   "source": [
    "supplemental_clinical_data.isnull().sum()\n"
   ]
  },
  {
   "cell_type": "code",
   "execution_count": 20,
   "id": "23d9592b",
   "metadata": {},
   "outputs": [],
   "source": [
    "\n",
    "# Filling missing values for UPDRS_1\n",
    "supplemental_clinical_data = fill_missing_updrs_123(supplemental_clinical_data, 'updrs_1')\n",
    "\n",
    "# Filling missing values for UPDRS_2\n",
    "supplemental_clinical_data = fill_missing_updrs_123(supplemental_clinical_data, 'updrs_2')\n",
    "\n",
    "# Filling missing values for UPDRS_3\n",
    "supplemental_clinical_data = fill_missing_updrs_123(supplemental_clinical_data, 'updrs_3')\n"
   ]
  },
  {
   "cell_type": "code",
   "execution_count": 21,
   "id": "513b4c4c",
   "metadata": {},
   "outputs": [
    {
     "data": {
      "text/plain": [
       "visit_id                                  0\n",
       "patient_id                                0\n",
       "visit_month                               0\n",
       "updrs_1                                  96\n",
       "updrs_2                                  96\n",
       "updrs_3                                   3\n",
       "updrs_4                                 928\n",
       "upd23b_clinical_state_on_medication    1101\n",
       "dtype: int64"
      ]
     },
     "execution_count": 21,
     "metadata": {},
     "output_type": "execute_result"
    }
   ],
   "source": [
    "supplemental_clinical_data.isna().sum()"
   ]
  },
  {
   "cell_type": "code",
   "execution_count": 22,
   "id": "50bdfbd2",
   "metadata": {},
   "outputs": [
    {
     "name": "stdout",
     "output_type": "stream",
     "text": [
      "     visit_id  patient_id  visit_month  updrs_1  updrs_2  updrs_3  updrs_4  \\\n",
      "4       155_0         155            0      NaN      NaN      0.0      NaN   \n",
      "27      889_0         889            0      NaN      NaN      0.0      NaN   \n",
      "65     1663_0        1663            0      NaN      NaN      0.0      NaN   \n",
      "85     2222_0        2222            0      NaN      NaN      0.0      NaN   \n",
      "86     2331_0        2331            0      NaN      NaN      1.0      NaN   \n",
      "...       ...         ...          ...      ...      ...      ...      ...   \n",
      "2127  63278_0       63278            0      NaN      NaN      4.0      NaN   \n",
      "2130  63335_0       63335            0      NaN      NaN      7.0      NaN   \n",
      "2136  63479_0       63479            0      NaN      NaN      6.0      NaN   \n",
      "2148  63774_0       63774            0      NaN      NaN      0.0      NaN   \n",
      "2218  65382_0       65382            0      NaN      NaN      0.0      NaN   \n",
      "\n",
      "     upd23b_clinical_state_on_medication  \n",
      "4                                    NaN  \n",
      "27                                   NaN  \n",
      "65                                   NaN  \n",
      "85                                   NaN  \n",
      "86                                   NaN  \n",
      "...                                  ...  \n",
      "2127                                 NaN  \n",
      "2130                                 NaN  \n",
      "2136                                 NaN  \n",
      "2148                                 NaN  \n",
      "2218                                 NaN  \n",
      "\n",
      "[96 rows x 8 columns]\n"
     ]
    }
   ],
   "source": [
    "# Displaying the rows with missing values in 'clinical_state_on_medication'\n",
    "missing_values_mask = supplemental_clinical_data['updrs_1'].isnull()\n",
    "rows_with_missing_values = supplemental_clinical_data[missing_values_mask]\n",
    "print(rows_with_missing_values)\n"
   ]
  },
  {
   "cell_type": "markdown",
   "id": "924dd0b3",
   "metadata": {},
   "source": [
    "###### these patients have most of their updrs level missing so it would be more accurate to just drop their correspening rows"
   ]
  },
  {
   "cell_type": "code",
   "execution_count": 23,
   "id": "6fc33600",
   "metadata": {},
   "outputs": [],
   "source": [
    "supplemental_clinical_data.dropna(subset=['updrs_1', 'updrs_2', 'updrs_3'], inplace=True)\n"
   ]
  },
  {
   "cell_type": "code",
   "execution_count": null,
   "id": "e6f749c1",
   "metadata": {
    "scrolled": true
   },
   "outputs": [],
   "source": [
    "supplemental_clinical_data.isna().sum()"
   ]
  },
  {
   "cell_type": "code",
   "execution_count": 24,
   "id": "ed39b182",
   "metadata": {},
   "outputs": [],
   "source": [
    "supplemental_clinical_data['updrs_4_missing'] = supplemental_clinical_data['updrs_4'].isnull().astype(int)\n",
    "supplemental_clinical_data['updrs_4'] = supplemental_clinical_data['updrs_4'].fillna(0)"
   ]
  },
  {
   "cell_type": "code",
   "execution_count": 25,
   "id": "00eed45c",
   "metadata": {},
   "outputs": [
    {
     "data": {
      "text/plain": [
       "visit_id                                  0\n",
       "patient_id                                0\n",
       "visit_month                               0\n",
       "updrs_1                                   0\n",
       "updrs_2                                   0\n",
       "updrs_3                                   0\n",
       "updrs_4                                   0\n",
       "upd23b_clinical_state_on_medication    1004\n",
       "updrs_4_missing                           0\n",
       "dtype: int64"
      ]
     },
     "execution_count": 25,
     "metadata": {},
     "output_type": "execute_result"
    }
   ],
   "source": [
    "supplemental_clinical_data.isna().sum()"
   ]
  },
  {
   "cell_type": "code",
   "execution_count": 28,
   "id": "de0de9ed",
   "metadata": {},
   "outputs": [],
   "source": [
    "supplemental_clinical_data['clinical_state_on_medication'] =  supplemental_clinical_data['upd23b_clinical_state_on_medication']"
   ]
  },
  {
   "cell_type": "code",
   "execution_count": 29,
   "id": "ca810847",
   "metadata": {},
   "outputs": [],
   "source": [
    "del(supplemental_clinical_data[\"upd23b_clinical_state_on_medication\"])"
   ]
  },
  {
   "cell_type": "code",
   "execution_count": 30,
   "id": "5cad71a0",
   "metadata": {},
   "outputs": [],
   "source": [
    "\n",
    "mode_per_patient1 = supplemental_clinical_data.groupby('patient_id')['clinical_state_on_medication'].apply(lambda x: x.mode().iloc[0] if not x.mode().empty else None).reset_index()\n",
    "\n",
    "# Merging the mode values back to the original dataframe\n",
    "supplemental_clinical_data = pd.merge(supplemental_clinical_data, mode_per_patient1, on='patient_id', how='left', suffixes=('', '_mode'))\n",
    "\n",
    "# Filling missing values in 'clinical_state_on_medication' with the calculated modes\n",
    "supplemental_clinical_data['clinical_state_on_medication'] = supplemental_clinical_data['clinical_state_on_medication'].fillna(supplemental_clinical_data['clinical_state_on_medication_mode'])\n",
    "\n",
    "# Dropping the temporary mode column\n",
    "supplemental_clinical_data.drop(columns='clinical_state_on_medication_mode', inplace=True)\n"
   ]
  },
  {
   "cell_type": "code",
   "execution_count": 31,
   "id": "0d15c862",
   "metadata": {},
   "outputs": [
    {
     "data": {
      "text/plain": [
       "visit_id                          0\n",
       "patient_id                        0\n",
       "visit_month                       0\n",
       "updrs_1                           0\n",
       "updrs_2                           0\n",
       "updrs_3                           0\n",
       "updrs_4                           0\n",
       "updrs_4_missing                   0\n",
       "clinical_state_on_medication    469\n",
       "dtype: int64"
      ]
     },
     "execution_count": 31,
     "metadata": {},
     "output_type": "execute_result"
    }
   ],
   "source": [
    "supplemental_clinical_data.isna().sum()"
   ]
  },
  {
   "cell_type": "code",
   "execution_count": 32,
   "id": "f7d1acca",
   "metadata": {},
   "outputs": [],
   "source": [
    "supplemental_clinical_data['clinical_state_on_medication'].fillna('Unknown', inplace=True)\n"
   ]
  },
  {
   "cell_type": "code",
   "execution_count": 33,
   "id": "2ca34015",
   "metadata": {},
   "outputs": [
    {
     "data": {
      "text/plain": [
       "visit_id                        0\n",
       "patient_id                      0\n",
       "visit_month                     0\n",
       "updrs_1                         0\n",
       "updrs_2                         0\n",
       "updrs_3                         0\n",
       "updrs_4                         0\n",
       "updrs_4_missing                 0\n",
       "clinical_state_on_medication    0\n",
       "dtype: int64"
      ]
     },
     "execution_count": 33,
     "metadata": {},
     "output_type": "execute_result"
    }
   ],
   "source": [
    "supplemental_clinical_data.isna().sum()"
   ]
  },
  {
   "cell_type": "code",
   "execution_count": 36,
   "id": "78c97fa5",
   "metadata": {},
   "outputs": [
    {
     "data": {
      "text/plain": [
       "(2125, 9)"
      ]
     },
     "execution_count": 36,
     "metadata": {},
     "output_type": "execute_result"
    }
   ],
   "source": [
    "supplemental_clinical_data.shape"
   ]
  },
  {
   "cell_type": "markdown",
   "id": "2000456f",
   "metadata": {},
   "source": [
    "### 5- Merging Train Clinical Data and Supplemental Clinical Data"
   ]
  },
  {
   "cell_type": "markdown",
   "id": "04505897",
   "metadata": {},
   "source": [
    "###### Here we are going to combine both of our files (train_clinical_data and suppelemental_clinical_data) into one file"
   ]
  },
  {
   "cell_type": "code",
   "execution_count": 34,
   "id": "d55f318c",
   "metadata": {
    "scrolled": true
   },
   "outputs": [],
   "source": [
    "Final_clinical_data = pd.concat([train_clinical_data, supplemental_clinical_data])\n",
    "Final_clinical_data.drop_duplicates(keep=False, inplace=True)"
   ]
  },
  {
   "cell_type": "code",
   "execution_count": 35,
   "id": "a6763bcd",
   "metadata": {},
   "outputs": [
    {
     "data": {
      "text/html": [
       "<div>\n",
       "<style scoped>\n",
       "    .dataframe tbody tr th:only-of-type {\n",
       "        vertical-align: middle;\n",
       "    }\n",
       "\n",
       "    .dataframe tbody tr th {\n",
       "        vertical-align: top;\n",
       "    }\n",
       "\n",
       "    .dataframe thead th {\n",
       "        text-align: right;\n",
       "    }\n",
       "</style>\n",
       "<table border=\"1\" class=\"dataframe\">\n",
       "  <thead>\n",
       "    <tr style=\"text-align: right;\">\n",
       "      <th></th>\n",
       "      <th>visit_id</th>\n",
       "      <th>patient_id</th>\n",
       "      <th>visit_month</th>\n",
       "      <th>updrs_1</th>\n",
       "      <th>updrs_2</th>\n",
       "      <th>updrs_3</th>\n",
       "      <th>updrs_4</th>\n",
       "      <th>updrs_4_missing</th>\n",
       "      <th>clinical_state_on_medication</th>\n",
       "    </tr>\n",
       "  </thead>\n",
       "  <tbody>\n",
       "    <tr>\n",
       "      <th>0</th>\n",
       "      <td>55_0</td>\n",
       "      <td>55</td>\n",
       "      <td>0</td>\n",
       "      <td>10.0</td>\n",
       "      <td>6.0</td>\n",
       "      <td>15.0</td>\n",
       "      <td>0.0</td>\n",
       "      <td>1</td>\n",
       "      <td>On</td>\n",
       "    </tr>\n",
       "    <tr>\n",
       "      <th>1</th>\n",
       "      <td>55_3</td>\n",
       "      <td>55</td>\n",
       "      <td>3</td>\n",
       "      <td>10.0</td>\n",
       "      <td>7.0</td>\n",
       "      <td>25.0</td>\n",
       "      <td>0.0</td>\n",
       "      <td>1</td>\n",
       "      <td>On</td>\n",
       "    </tr>\n",
       "    <tr>\n",
       "      <th>2</th>\n",
       "      <td>55_6</td>\n",
       "      <td>55</td>\n",
       "      <td>6</td>\n",
       "      <td>8.0</td>\n",
       "      <td>10.0</td>\n",
       "      <td>34.0</td>\n",
       "      <td>0.0</td>\n",
       "      <td>1</td>\n",
       "      <td>On</td>\n",
       "    </tr>\n",
       "    <tr>\n",
       "      <th>3</th>\n",
       "      <td>55_9</td>\n",
       "      <td>55</td>\n",
       "      <td>9</td>\n",
       "      <td>8.0</td>\n",
       "      <td>9.0</td>\n",
       "      <td>30.0</td>\n",
       "      <td>0.0</td>\n",
       "      <td>0</td>\n",
       "      <td>On</td>\n",
       "    </tr>\n",
       "    <tr>\n",
       "      <th>4</th>\n",
       "      <td>55_12</td>\n",
       "      <td>55</td>\n",
       "      <td>12</td>\n",
       "      <td>10.0</td>\n",
       "      <td>10.0</td>\n",
       "      <td>41.0</td>\n",
       "      <td>0.0</td>\n",
       "      <td>0</td>\n",
       "      <td>On</td>\n",
       "    </tr>\n",
       "  </tbody>\n",
       "</table>\n",
       "</div>"
      ],
      "text/plain": [
       "  visit_id  patient_id  visit_month  updrs_1  updrs_2  updrs_3  updrs_4  \\\n",
       "0     55_0          55            0     10.0      6.0     15.0      0.0   \n",
       "1     55_3          55            3     10.0      7.0     25.0      0.0   \n",
       "2     55_6          55            6      8.0     10.0     34.0      0.0   \n",
       "3     55_9          55            9      8.0      9.0     30.0      0.0   \n",
       "4    55_12          55           12     10.0     10.0     41.0      0.0   \n",
       "\n",
       "   updrs_4_missing clinical_state_on_medication  \n",
       "0                1                           On  \n",
       "1                1                           On  \n",
       "2                1                           On  \n",
       "3                0                           On  \n",
       "4                0                           On  "
      ]
     },
     "execution_count": 35,
     "metadata": {},
     "output_type": "execute_result"
    }
   ],
   "source": [
    "Final_clinical_data.head()"
   ]
  },
  {
   "cell_type": "code",
   "execution_count": 37,
   "id": "d82157e2",
   "metadata": {},
   "outputs": [
    {
     "data": {
      "text/plain": [
       "(4740, 9)"
      ]
     },
     "execution_count": 37,
     "metadata": {},
     "output_type": "execute_result"
    }
   ],
   "source": [
    "Final_clinical_data.shape"
   ]
  },
  {
   "cell_type": "code",
   "execution_count": 40,
   "id": "9bdb5619",
   "metadata": {},
   "outputs": [
    {
     "data": {
      "text/plain": [
       "False"
      ]
     },
     "execution_count": 40,
     "metadata": {},
     "output_type": "execute_result"
    }
   ],
   "source": [
    "Final_clinical_data.duplicated().any()"
   ]
  },
  {
   "cell_type": "code",
   "execution_count": 41,
   "id": "9257176e",
   "metadata": {
    "scrolled": true
   },
   "outputs": [
    {
     "data": {
      "text/plain": [
       "visit_id                        0\n",
       "patient_id                      0\n",
       "visit_month                     0\n",
       "updrs_1                         0\n",
       "updrs_2                         0\n",
       "updrs_3                         0\n",
       "updrs_4                         0\n",
       "updrs_4_missing                 0\n",
       "clinical_state_on_medication    0\n",
       "dtype: int64"
      ]
     },
     "execution_count": 41,
     "metadata": {},
     "output_type": "execute_result"
    }
   ],
   "source": [
    "Final_clinical_data.isna().sum()"
   ]
  },
  {
   "cell_type": "markdown",
   "id": "7d323d56",
   "metadata": {},
   "source": [
    "###### Our first dataframe is clean and set for usage"
   ]
  },
  {
   "cell_type": "markdown",
   "id": "b632a28e",
   "metadata": {},
   "source": [
    "### 6- Discovering Train Peptides "
   ]
  },
  {
   "cell_type": "code",
   "execution_count": 42,
   "id": "16cc5ffd",
   "metadata": {},
   "outputs": [
    {
     "data": {
      "text/html": [
       "<div>\n",
       "<style scoped>\n",
       "    .dataframe tbody tr th:only-of-type {\n",
       "        vertical-align: middle;\n",
       "    }\n",
       "\n",
       "    .dataframe tbody tr th {\n",
       "        vertical-align: top;\n",
       "    }\n",
       "\n",
       "    .dataframe thead th {\n",
       "        text-align: right;\n",
       "    }\n",
       "</style>\n",
       "<table border=\"1\" class=\"dataframe\">\n",
       "  <thead>\n",
       "    <tr style=\"text-align: right;\">\n",
       "      <th></th>\n",
       "      <th>visit_id</th>\n",
       "      <th>visit_month</th>\n",
       "      <th>patient_id</th>\n",
       "      <th>UniProt</th>\n",
       "      <th>Peptide</th>\n",
       "      <th>PeptideAbundance</th>\n",
       "    </tr>\n",
       "  </thead>\n",
       "  <tbody>\n",
       "    <tr>\n",
       "      <th>0</th>\n",
       "      <td>55_0</td>\n",
       "      <td>0</td>\n",
       "      <td>55</td>\n",
       "      <td>O00391</td>\n",
       "      <td>NEQEQPLGQWHLS</td>\n",
       "      <td>11254.3</td>\n",
       "    </tr>\n",
       "    <tr>\n",
       "      <th>1</th>\n",
       "      <td>55_0</td>\n",
       "      <td>0</td>\n",
       "      <td>55</td>\n",
       "      <td>O00533</td>\n",
       "      <td>GNPEPTFSWTK</td>\n",
       "      <td>102060.0</td>\n",
       "    </tr>\n",
       "    <tr>\n",
       "      <th>2</th>\n",
       "      <td>55_0</td>\n",
       "      <td>0</td>\n",
       "      <td>55</td>\n",
       "      <td>O00533</td>\n",
       "      <td>IEIPSSVQQVPTIIK</td>\n",
       "      <td>174185.0</td>\n",
       "    </tr>\n",
       "    <tr>\n",
       "      <th>3</th>\n",
       "      <td>55_0</td>\n",
       "      <td>0</td>\n",
       "      <td>55</td>\n",
       "      <td>O00533</td>\n",
       "      <td>KPQSAVYSTGSNGILLC(UniMod_4)EAEGEPQPTIK</td>\n",
       "      <td>27278.9</td>\n",
       "    </tr>\n",
       "    <tr>\n",
       "      <th>4</th>\n",
       "      <td>55_0</td>\n",
       "      <td>0</td>\n",
       "      <td>55</td>\n",
       "      <td>O00533</td>\n",
       "      <td>SMEQNGPGLEYR</td>\n",
       "      <td>30838.7</td>\n",
       "    </tr>\n",
       "  </tbody>\n",
       "</table>\n",
       "</div>"
      ],
      "text/plain": [
       "  visit_id  visit_month  patient_id UniProt  \\\n",
       "0     55_0            0          55  O00391   \n",
       "1     55_0            0          55  O00533   \n",
       "2     55_0            0          55  O00533   \n",
       "3     55_0            0          55  O00533   \n",
       "4     55_0            0          55  O00533   \n",
       "\n",
       "                                  Peptide  PeptideAbundance  \n",
       "0                           NEQEQPLGQWHLS           11254.3  \n",
       "1                             GNPEPTFSWTK          102060.0  \n",
       "2                         IEIPSSVQQVPTIIK          174185.0  \n",
       "3  KPQSAVYSTGSNGILLC(UniMod_4)EAEGEPQPTIK           27278.9  \n",
       "4                            SMEQNGPGLEYR           30838.7  "
      ]
     },
     "execution_count": 42,
     "metadata": {},
     "output_type": "execute_result"
    }
   ],
   "source": [
    "Peptides_data.head()"
   ]
  },
  {
   "cell_type": "code",
   "execution_count": 44,
   "id": "1a3222a6",
   "metadata": {
    "scrolled": true
   },
   "outputs": [
    {
     "data": {
      "text/plain": [
       "(981834, 6)"
      ]
     },
     "execution_count": 44,
     "metadata": {},
     "output_type": "execute_result"
    }
   ],
   "source": [
    "Peptides_data.shape"
   ]
  },
  {
   "cell_type": "code",
   "execution_count": 46,
   "id": "2de17140",
   "metadata": {},
   "outputs": [],
   "source": [
    "\n",
    "summed_peptide_data = Peptides_data.groupby(['visit_id'])['PeptideAbundance'].sum().reset_index()\n"
   ]
  },
  {
   "cell_type": "code",
   "execution_count": 47,
   "id": "f7308dbf",
   "metadata": {
    "scrolled": true
   },
   "outputs": [
    {
     "data": {
      "text/html": [
       "<div>\n",
       "<style scoped>\n",
       "    .dataframe tbody tr th:only-of-type {\n",
       "        vertical-align: middle;\n",
       "    }\n",
       "\n",
       "    .dataframe tbody tr th {\n",
       "        vertical-align: top;\n",
       "    }\n",
       "\n",
       "    .dataframe thead th {\n",
       "        text-align: right;\n",
       "    }\n",
       "</style>\n",
       "<table border=\"1\" class=\"dataframe\">\n",
       "  <thead>\n",
       "    <tr style=\"text-align: right;\">\n",
       "      <th></th>\n",
       "      <th>visit_id</th>\n",
       "      <th>PeptideAbundance</th>\n",
       "    </tr>\n",
       "  </thead>\n",
       "  <tbody>\n",
       "    <tr>\n",
       "      <th>0</th>\n",
       "      <td>10053_0</td>\n",
       "      <td>4.713352e+08</td>\n",
       "    </tr>\n",
       "    <tr>\n",
       "      <th>1</th>\n",
       "      <td>10053_12</td>\n",
       "      <td>4.666371e+08</td>\n",
       "    </tr>\n",
       "    <tr>\n",
       "      <th>2</th>\n",
       "      <td>10053_18</td>\n",
       "      <td>5.220732e+08</td>\n",
       "    </tr>\n",
       "    <tr>\n",
       "      <th>3</th>\n",
       "      <td>10138_12</td>\n",
       "      <td>6.515605e+08</td>\n",
       "    </tr>\n",
       "    <tr>\n",
       "      <th>4</th>\n",
       "      <td>10138_24</td>\n",
       "      <td>6.720870e+08</td>\n",
       "    </tr>\n",
       "    <tr>\n",
       "      <th>...</th>\n",
       "      <td>...</td>\n",
       "      <td>...</td>\n",
       "    </tr>\n",
       "    <tr>\n",
       "      <th>1108</th>\n",
       "      <td>8699_24</td>\n",
       "      <td>6.618368e+08</td>\n",
       "    </tr>\n",
       "    <tr>\n",
       "      <th>1109</th>\n",
       "      <td>942_12</td>\n",
       "      <td>5.540194e+08</td>\n",
       "    </tr>\n",
       "    <tr>\n",
       "      <th>1110</th>\n",
       "      <td>942_24</td>\n",
       "      <td>5.677032e+08</td>\n",
       "    </tr>\n",
       "    <tr>\n",
       "      <th>1111</th>\n",
       "      <td>942_48</td>\n",
       "      <td>5.979831e+08</td>\n",
       "    </tr>\n",
       "    <tr>\n",
       "      <th>1112</th>\n",
       "      <td>942_6</td>\n",
       "      <td>5.350063e+08</td>\n",
       "    </tr>\n",
       "  </tbody>\n",
       "</table>\n",
       "<p>1113 rows × 2 columns</p>\n",
       "</div>"
      ],
      "text/plain": [
       "      visit_id  PeptideAbundance\n",
       "0      10053_0      4.713352e+08\n",
       "1     10053_12      4.666371e+08\n",
       "2     10053_18      5.220732e+08\n",
       "3     10138_12      6.515605e+08\n",
       "4     10138_24      6.720870e+08\n",
       "...        ...               ...\n",
       "1108   8699_24      6.618368e+08\n",
       "1109    942_12      5.540194e+08\n",
       "1110    942_24      5.677032e+08\n",
       "1111    942_48      5.979831e+08\n",
       "1112     942_6      5.350063e+08\n",
       "\n",
       "[1113 rows x 2 columns]"
      ]
     },
     "execution_count": 47,
     "metadata": {},
     "output_type": "execute_result"
    }
   ],
   "source": [
    "summed_peptide_data"
   ]
  },
  {
   "cell_type": "code",
   "execution_count": 49,
   "id": "8dd8d24d",
   "metadata": {},
   "outputs": [
    {
     "ename": "NameError",
     "evalue": "name 'summary_stats' is not defined",
     "output_type": "error",
     "traceback": [
      "\u001b[0;31m---------------------------------------------------------------------------\u001b[0m",
      "\u001b[0;31mNameError\u001b[0m                                 Traceback (most recent call last)",
      "Cell \u001b[0;32mIn[49], line 3\u001b[0m\n\u001b[1;32m      1\u001b[0m \u001b[38;5;28;01mfrom\u001b[39;00m \u001b[38;5;21;01mscipy\u001b[39;00m \u001b[38;5;28;01mimport\u001b[39;00m stats\n\u001b[1;32m      2\u001b[0m Summary_stats_peptides \u001b[38;5;241m=\u001b[39m summed_peptide_data\u001b[38;5;241m.\u001b[39mgroupby([\u001b[38;5;124m'\u001b[39m\u001b[38;5;124mvisit_id\u001b[39m\u001b[38;5;124m'\u001b[39m])[\u001b[38;5;124m'\u001b[39m\u001b[38;5;124mPeptideAbundance\u001b[39m\u001b[38;5;124m'\u001b[39m]\u001b[38;5;241m.\u001b[39mdescribe()\n\u001b[0;32m----> 3\u001b[0m \u001b[38;5;28mprint\u001b[39m(summary_stats)\n",
      "\u001b[0;31mNameError\u001b[0m: name 'summary_stats' is not defined"
     ]
    }
   ],
   "source": [
    "from scipy import stats\n",
    "Summary_stats_peptides = summed_peptide_data.groupby(['visit_id'])['PeptideAbundance'].describe()\n",
    "print(summary_stats)\n"
   ]
  },
  {
   "cell_type": "code",
   "execution_count": null,
   "id": "66c3b03d",
   "metadata": {},
   "outputs": [],
   "source": [
    "Peptides_data['visit_month'].unique() "
   ]
  },
  {
   "cell_type": "code",
   "execution_count": null,
   "id": "c5801591",
   "metadata": {},
   "outputs": [],
   "source": [
    "Peptides_data['UniProt'].value_counts() #227 UniProt\n",
    "Peptides_data['Peptide'].value_counts() #968 Peptide\n",
    "Peptides_data['PeptideAbundance'].value_counts()"
   ]
  },
  {
   "cell_type": "code",
   "execution_count": null,
   "id": "4852ba52",
   "metadata": {},
   "outputs": [],
   "source": [
    "Peptides_pivot = Peptides_data.pivot(index=['visit_id', 'UniProt'], columns='Peptide', values='PeptideAbundance')"
   ]
  },
  {
   "cell_type": "code",
   "execution_count": null,
   "id": "f2fa0c68",
   "metadata": {},
   "outputs": [],
   "source": [
    "Peptides_pivot #unfortunately unlike NPX, we can't replace the missing values with O "
   ]
  },
  {
   "cell_type": "code",
   "execution_count": null,
   "id": "2281260c",
   "metadata": {},
   "outputs": [],
   "source": [
    "Peptides_pivot.loc[('55_0', ), :].shape\n",
    "\n",
    "Peptides_pivot.loc[('55_0', ), :].isnull().sum()"
   ]
  },
  {
   "cell_type": "markdown",
   "id": "6148cf3a",
   "metadata": {},
   "source": [
    "##### unfortunately unlike NPX in proteins , we can't replace the PeptideAbundance missing values by 0 , it's not advisable without careful consideration and doing so may introduce significant bias and incorrect information into your data (NOT SURE VERIFYING THIS WITH MEDICS)"
   ]
  },
  {
   "cell_type": "code",
   "execution_count": null,
   "id": "8940e14b",
   "metadata": {},
   "outputs": [],
   "source": [
    "Peptides_pivot.fillna(0)"
   ]
  },
  {
   "cell_type": "code",
   "execution_count": null,
   "id": "0ac58edb",
   "metadata": {},
   "outputs": [],
   "source": [
    "Peptides_pivot.shape # same length as my protein data --> on peut faire un croisement des tabelaux"
   ]
  },
  {
   "cell_type": "code",
   "execution_count": null,
   "id": "3bff61d8",
   "metadata": {},
   "outputs": [],
   "source": [
    "Peptides_pivot.isnull().sum()"
   ]
  },
  {
   "cell_type": "markdown",
   "id": "7e4c57ce",
   "metadata": {},
   "source": [
    "### 7- Disocvering the Train protein"
   ]
  },
  {
   "cell_type": "code",
   "execution_count": null,
   "id": "f0d92c1b",
   "metadata": {},
   "outputs": [],
   "source": [
    "Proteins_data.isnull().sum()\n",
    "Proteins_data.head()\n",
    "print(Proteins_data.nunique())"
   ]
  },
  {
   "cell_type": "code",
   "execution_count": null,
   "id": "fd6fa395",
   "metadata": {},
   "outputs": [],
   "source": [
    "print(Proteins_data.nunique())"
   ]
  },
  {
   "cell_type": "code",
   "execution_count": null,
   "id": "1c3b69b8",
   "metadata": {},
   "outputs": [],
   "source": [
    "len(Proteins_data)\n",
    "    "
   ]
  },
  {
   "cell_type": "code",
   "execution_count": null,
   "id": "77bdbe5b",
   "metadata": {},
   "outputs": [],
   "source": [
    "Proteins_data['UniProt'].value_counts() # 227 uniprot"
   ]
  },
  {
   "cell_type": "code",
   "execution_count": null,
   "id": "aa243c87",
   "metadata": {},
   "outputs": [],
   "source": [
    "Proteins_data['NPX'].value_counts() #few first values are redudant and the rest are unique"
   ]
  },
  {
   "cell_type": "code",
   "execution_count": null,
   "id": "8ca44198",
   "metadata": {},
   "outputs": [],
   "source": [
    "PatientID = Proteins_data['patient_id'].unique()\n",
    "PatientID"
   ]
  },
  {
   "cell_type": "code",
   "execution_count": null,
   "id": "67c8eeaf",
   "metadata": {},
   "outputs": [],
   "source": [
    "len(PatientID) #We have 248 Patient"
   ]
  },
  {
   "cell_type": "code",
   "execution_count": null,
   "id": "8f16e6c9",
   "metadata": {},
   "outputs": [],
   "source": [
    "Visits = Proteins_data['visit_month'].unique()\n",
    "Visits\n",
    "len(Visits)"
   ]
  },
  {
   "cell_type": "code",
   "execution_count": null,
   "id": "dddd9c8c",
   "metadata": {},
   "outputs": [],
   "source": [
    "VisitsID = Proteins_data['visit_id'].unique()"
   ]
  },
  {
   "cell_type": "code",
   "execution_count": null,
   "id": "1cdfaf44",
   "metadata": {},
   "outputs": [],
   "source": [
    "len(VisitsID)"
   ]
  },
  {
   "cell_type": "code",
   "execution_count": null,
   "id": "4e9bfbb0",
   "metadata": {},
   "outputs": [],
   "source": [
    "Proteins_pivot = Proteins_data.pivot(index=['visit_id'], columns='UniProt', values='NPX')\n",
    "\n",
    "Proteins_pivot.head()"
   ]
  },
  {
   "cell_type": "code",
   "execution_count": null,
   "id": "4e4dd176",
   "metadata": {
    "scrolled": true
   },
   "outputs": [],
   "source": [
    "Proteins_pivot.fillna(0) #Replace by Zero because of the protein indicator is NaN -> 0 value measured"
   ]
  },
  {
   "cell_type": "code",
   "execution_count": null,
   "id": "6f799eb4",
   "metadata": {},
   "outputs": [],
   "source": [
    "Proteins_pivot.plot()\n",
    "plt.show()"
   ]
  },
  {
   "cell_type": "code",
   "execution_count": null,
   "id": "13390a87",
   "metadata": {},
   "outputs": [],
   "source": [
    "#Plot the first ID to see how NPX levels are for each Uniprot for the first few visits for Patient_10053\n",
    "Proteins_pivot.loc[\"10053_0\"].plot(c=\"pink\")\n",
    "plt.title('Patient 10053, visit0 NPX/UniProt')\n",
    "plt.ylabel('NPX Levels')\n"
   ]
  },
  {
   "cell_type": "code",
   "execution_count": null,
   "id": "20d2b196",
   "metadata": {
    "scrolled": true
   },
   "outputs": [],
   "source": [
    "#Second visit month 12 --> he skipped month 3 and 6\n",
    "Proteins_pivot.loc[\"10053_12\"].plot(c=\"pink\")\n",
    "plt.title('Patient 10053, visit12 NPX/UniProt')\n",
    "plt.ylabel('NPX Levels')"
   ]
  },
  {
   "cell_type": "markdown",
   "id": "c20aad98",
   "metadata": {},
   "source": [
    "### 7- Merging Train proteins and Train pepetides based on the shared UniProt"
   ]
  },
  {
   "cell_type": "markdown",
   "id": "fc38b923",
   "metadata": {},
   "source": [
    "### 8- Calculate the mean fo each updr and divide patients by clusters and divide them by clusters "
   ]
  },
  {
   "cell_type": "markdown",
   "id": "bb1d7405",
   "metadata": {},
   "source": [
    "### 9- Heat map the levels and indntify and coorelation between the UPDRS -> define UPDRS indicators"
   ]
  },
  {
   "cell_type": "markdown",
   "id": "28ffc27b",
   "metadata": {},
   "source": [
    "### 10- Check for each cluster how Peptide levels evolve -> define Peptide indiciator "
   ]
  },
  {
   "cell_type": "markdown",
   "id": "94071ac7",
   "metadata": {},
   "source": [
    "### 11-  Check for each cluster how Proteins levels evolve -> define Protein indiciator "
   ]
  },
  {
   "cell_type": "markdown",
   "id": "8dd15549",
   "metadata": {},
   "source": [
    "### 12- Calculate the coorelation for All indicators and establish a relationship"
   ]
  },
  {
   "cell_type": "markdown",
   "id": "46bb4b06",
   "metadata": {},
   "source": [
    "### 13- ML models testing "
   ]
  }
 ],
 "metadata": {
  "kernelspec": {
   "display_name": "Python 3 (ipykernel)",
   "language": "python",
   "name": "python3"
  },
  "language_info": {
   "codemirror_mode": {
    "name": "ipython",
    "version": 3
   },
   "file_extension": ".py",
   "mimetype": "text/x-python",
   "name": "python",
   "nbconvert_exporter": "python",
   "pygments_lexer": "ipython3",
   "version": "3.9.13"
  }
 },
 "nbformat": 4,
 "nbformat_minor": 5
}
